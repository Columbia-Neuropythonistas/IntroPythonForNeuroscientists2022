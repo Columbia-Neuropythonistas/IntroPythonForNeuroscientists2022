{
 "cells": [
  {
   "cell_type": "markdown",
   "metadata": {
    "id": "z4YPIlu2HI7F"
   },
   "source": [
    "# Error handling\n",
    "## Errors\n",
    "\n",
    "By now, we have seen several pieces of code that have failed to run. In that case, Python does not only raise an error, but also specifies what exactly went wrong."
   ]
  },
  {
   "cell_type": "code",
   "execution_count": null,
   "metadata": {
    "colab": {
     "base_uri": "https://localhost:8080/",
     "height": 133
    },
    "id": "F1GYYda3HJxJ",
    "outputId": "e39d84fa-0223-44bf-cf3f-ca019b01793a"
   },
   "outputs": [],
   "source": [
    "# A syntax error indicates that your code is not properly formatted:\n",
    "a = 2\n",
    "print(a+3"
   ]
  },
  {
   "cell_type": "code",
   "execution_count": null,
   "metadata": {
    "colab": {
     "base_uri": "https://localhost:8080/",
     "height": 202
    },
    "id": "2mAQwq28JLrE",
    "outputId": "1b61f5f6-6aa3-4d7e-c504-970e56cfcf4f"
   },
   "outputs": [],
   "source": [
    "# A type error indicates that a function received an input of the wrong type\n",
    "a = '2'\n",
    "print(a+3)"
   ]
  },
  {
   "cell_type": "code",
   "execution_count": null,
   "metadata": {
    "colab": {
     "base_uri": "https://localhost:8080/",
     "height": 202
    },
    "id": "P6EtkeuuJe3I",
    "outputId": "fdc7aa80-c6a3-4cb5-b24a-53e632d5c594"
   },
   "outputs": [],
   "source": [
    "# An index error suggests that it is not possible to index an object in the attempted way.\n",
    "a = [2, 3]\n",
    "a[3]"
   ]
  },
  {
   "cell_type": "markdown",
   "metadata": {
    "id": "wbf3mJarJ13C"
   },
   "source": [
    "You can return errors yourself using the command `raise`:"
   ]
  },
  {
   "cell_type": "code",
   "execution_count": null,
   "metadata": {
    "colab": {
     "base_uri": "https://localhost:8080/",
     "height": 202
    },
    "id": "PazoBY2BJ6mP",
    "outputId": "5e32e212-e11a-47cd-87e3-371a610b1330"
   },
   "outputs": [],
   "source": [
    "a = 3\n",
    "if a == 3:\n",
    "  raise ValueError('a should not be three')"
   ]
  },
  {
   "cell_type": "markdown",
   "metadata": {
    "id": "aSeePGDQKfjt"
   },
   "source": [
    "### Exercise\n",
    "Write a function `integer_add` that takes two arguments and adds them together. If either of the arguments are not integers, it should raise an error. What is the correct error for this issue?"
   ]
  },
  {
   "cell_type": "code",
   "execution_count": null,
   "metadata": {
    "id": "B4tFueXDZV2w"
   },
   "outputs": [],
   "source": []
  },
  {
   "cell_type": "code",
   "execution_count": null,
   "metadata": {
    "id": "H1b5r0JtZh9Q"
   },
   "outputs": [],
   "source": [
    "integer_add(1,2)"
   ]
  },
  {
   "cell_type": "code",
   "execution_count": null,
   "metadata": {
    "id": "hzttESjPZjfT"
   },
   "outputs": [],
   "source": [
    "integer_add(1.,2)"
   ]
  },
  {
   "cell_type": "markdown",
   "metadata": {
    "id": "69tzIjsSlnLg"
   },
   "source": [
    "## Try / Except\n",
    "\n",
    "\n",
    "`try` tries the code in the `try` codeblock, and if it gives an error, runs code in an `except` code block. Best practice is to specify the errors you expect in the `except` statement so that you don't accidentally allow an unexpected error to go by unreported and unnoticed.\n",
    "\n",
    "For example, lets say that we want to count the number of occurrences of each letter in a given word -- for this example we will use abracadabra, but we want our code to work on any word.\n",
    "\n",
    "We might decide to do this using a dictionary where the keys are the letters and the values are the number of times that letter has occurred. We only want to have letters that do occur in the word as keys in our dictionary."
   ]
  },
  {
   "cell_type": "code",
   "execution_count": null,
   "metadata": {
    "colab": {
     "base_uri": "https://localhost:8080/",
     "height": 202
    },
    "id": "LoeAK22yl0I1",
    "outputId": "f0996dfa-5a53-4671-9cb5-20ab2f1a50cf"
   },
   "outputs": [],
   "source": [
    "word = \"abracadabra\"\n",
    "\n",
    "letter_counts = {\n",
    "    'a': 0\n",
    "}\n",
    "for letter in word: # we can loop through strings like lists or tuples.\n",
    "  letter_counts[letter]+=1 # add one to the value at key letter"
   ]
  },
  {
   "cell_type": "code",
   "execution_count": null,
   "metadata": {
    "colab": {
     "base_uri": "https://localhost:8080/"
    },
    "id": "NjStbt0fmhN3",
    "outputId": "475cba46-b8e1-4e86-ef5d-549fd07fa7fb"
   },
   "outputs": [],
   "source": [
    "word = \"abracadabra\"\n",
    "\n",
    "\n",
    "letter_counts = {}\n",
    "for letter in word:\n",
    "  try:\n",
    "    letter_counts[letter]+=1\n",
    "  except KeyError: # we specify the type of error we expect here\n",
    "    letter_counts[letter] = 1\n",
    "\n",
    "print(letter_counts)"
   ]
  },
  {
   "cell_type": "markdown",
   "metadata": {
    "id": "BfAqgKC9niNE"
   },
   "source": [
    "See below for why it is important to specify the type of error you expect. Since we specified the type of error we expected and got a different error, we still find out that there is an error, and can take precautions to make sure we don't, for example, overwrite important info."
   ]
  },
  {
   "cell_type": "code",
   "execution_count": null,
   "metadata": {
    "colab": {
     "base_uri": "https://localhost:8080/",
     "height": 232
    },
    "id": "6CP-Ds3TncpL",
    "outputId": "40276deb-bad3-45a9-ff0f-a5a246eed0b3"
   },
   "outputs": [],
   "source": [
    "word = \"abracadabra\"\n",
    "\n",
    "\n",
    "letter_counts = {}\n",
    "letter_counts['a'] = \"important info that should not be overwritten\" # something unexpected as a value\n",
    "for letter in word:\n",
    "  try:\n",
    "    letter_counts[letter]+=1\n",
    "  except KeyError: # we specify the type of error we expect here\n",
    "    letter_counts[letter] = 1\n",
    "\n",
    "print(letter_counts)"
   ]
  },
  {
   "cell_type": "markdown",
   "metadata": {
    "id": "jF2KxGiMn_Ye"
   },
   "source": [
    "What happens if you do not specify KeyError after `except` and just write `except:`?\n",
    "\n",
    "Try modifying below."
   ]
  },
  {
   "cell_type": "code",
   "execution_count": null,
   "metadata": {
    "colab": {
     "base_uri": "https://localhost:8080/",
     "height": 232
    },
    "id": "tw28VBnGn3Bd",
    "outputId": "f9a38a95-c67e-481f-9a3a-e99e39a3b7ff"
   },
   "outputs": [],
   "source": [
    "word = \"abracadabra\"\n",
    "\n",
    "\n",
    "letter_counts = {}\n",
    "letter_counts['a'] = \"important info that should not be overwritten\" # something unexpected as a value\n",
    "for letter in word:\n",
    "  try:\n",
    "    letter_counts[letter]+=1\n",
    "  except KeyError: # we specify the type of error we expect here\n",
    "    letter_counts[letter] = 1\n",
    "\n",
    "print(letter_counts)"
   ]
  },
  {
   "cell_type": "markdown",
   "metadata": {
    "id": "MJGOvgPApCTJ"
   },
   "source": [
    "### Exercise:\n",
    "Use try/except to write code that takes numbers a and b and prints a/b. If it gets an error (for example b is 0), it should instead print \"Cannot divide by zero\". Try your code with a few different choices of a and b to make sure it works correctly.\n",
    "\n",
    "*Hint* To find out what error you should be expecting try dividing something by 0 to see what error you get."
   ]
  },
  {
   "cell_type": "code",
   "execution_count": null,
   "metadata": {
    "id": "tFZpyEgPon0U"
   },
   "outputs": [],
   "source": []
  },
  {
   "cell_type": "markdown",
   "metadata": {
    "id": "PULGwtNQGio5"
   },
   "source": [
    "# Numpy\n",
    "\n",
    "We often want to work with arrays of numerical data, for example a list of firing rates. We can store such data using basic Python, more specifically as a list of numbers:"
   ]
  },
  {
   "cell_type": "code",
   "execution_count": null,
   "metadata": {
    "id": "Kwrbdv0TGjsE"
   },
   "outputs": [],
   "source": [
    "lst_1 = [25, 20, 40, 5] "
   ]
  },
  {
   "cell_type": "markdown",
   "metadata": {
    "id": "_h3axDgYG1ze"
   },
   "source": [
    "But these lists are missing a lot of functionality that we find useful for handling numerical data. (You may be used to these from Matlab or R.) For example, suppose you want to multiply each number by 2. We may want the following command to work:"
   ]
  },
  {
   "cell_type": "code",
   "execution_count": null,
   "metadata": {
    "colab": {
     "base_uri": "https://localhost:8080/"
    },
    "id": "NyH3FjW4G0ZY",
    "outputId": "9b4b1010-57af-4e35-efdb-c5021bf33959"
   },
   "outputs": [],
   "source": [
    "2*lst_1"
   ]
  },
  {
   "cell_type": "markdown",
   "metadata": {
    "id": "CIG_FxHcHDAs"
   },
   "source": [
    "Yet its output is not what we are looking for. This is because lists are not *vectorized*: they do not assume that operations should be applied elementwise. Instead we would have to use a command like the one below:"
   ]
  },
  {
   "cell_type": "code",
   "execution_count": null,
   "metadata": {
    "colab": {
     "base_uri": "https://localhost:8080/"
    },
    "id": "QcmhAnEAHB5e",
    "outputId": "e8d0b8a8-92ad-4aee-c180-9fad44ef6ead"
   },
   "outputs": [],
   "source": [
    "lst_2 = [lst_1[i]*2 for i in range(4)]\n",
    "lst_2"
   ]
  },
  {
   "cell_type": "markdown",
   "metadata": {
    "id": "xmAOTJi2HT7h"
   },
   "source": [
    "To address this and other issue that arise in handling numerical data in Python, we can use `numpy`, which stands for numerical data in Python.\n",
    "\n",
    "So far, we have exclusively used Python's base functionality. `numpy` is the first example of a package that has been contributed by external users and has to be installed manually. It is, however, integral to Python for basically anyone working with numerical data."
   ]
  },
  {
   "cell_type": "code",
   "execution_count": null,
   "metadata": {
    "id": "0aQecS75HX0p"
   },
   "outputs": [],
   "source": [
    "import numpy as np"
   ]
  },
  {
   "cell_type": "markdown",
   "metadata": {
    "id": "K4prz5cvHaBa"
   },
   "source": [
    "## One-dimensional arrays: Vectors\n",
    "The central object of interest for numpy is an *array*, which refers to rectangular data (more on this later). The simplest case of an array is a one-dimensional one, a vector. You can create a vector from a list:"
   ]
  },
  {
   "cell_type": "code",
   "execution_count": null,
   "metadata": {
    "id": "g4Hrcx-XHZfD"
   },
   "outputs": [],
   "source": [
    "vec_1 = np.array(lst_1)"
   ]
  },
  {
   "cell_type": "code",
   "execution_count": null,
   "metadata": {
    "colab": {
     "base_uri": "https://localhost:8080/"
    },
    "id": "YPII22m0HlSZ",
    "outputId": "6f000524-c884-4898-fbeb-375435384600"
   },
   "outputs": [],
   "source": [
    "vec_1"
   ]
  },
  {
   "cell_type": "code",
   "execution_count": null,
   "metadata": {
    "colab": {
     "base_uri": "https://localhost:8080/"
    },
    "id": "u89emqUZrOCF",
    "outputId": "e967e300-b714-491e-a0ac-9fc6ed24f6f8"
   },
   "outputs": [],
   "source": [
    "type(vec_1)"
   ]
  },
  {
   "cell_type": "markdown",
   "metadata": {
    "id": "ty-xfOU5H0gm"
   },
   "source": [
    "We can also turn a vector back into a list:"
   ]
  },
  {
   "cell_type": "code",
   "execution_count": null,
   "metadata": {
    "colab": {
     "base_uri": "https://localhost:8080/"
    },
    "id": "1IioBJziHy74",
    "outputId": "2f0e9841-e7d4-43d4-b22e-925b108a960c"
   },
   "outputs": [],
   "source": [
    "list(vec_1)"
   ]
  },
  {
   "cell_type": "markdown",
   "metadata": {
    "id": "jxNfol0zH5fE"
   },
   "source": [
    "Using the numpy array, we can now perform mathematical operations in the way we would like (and perhaps expect from e.g. Matlab)."
   ]
  },
  {
   "cell_type": "code",
   "execution_count": null,
   "metadata": {
    "colab": {
     "base_uri": "https://localhost:8080/"
    },
    "id": "JSDCiaZAH6rK",
    "outputId": "0ce6452a-aa05-44c3-e957-4f4f7d533d29"
   },
   "outputs": [],
   "source": [
    "vec_2 = 2*vec_1\n",
    "vec_2"
   ]
  },
  {
   "cell_type": "code",
   "execution_count": null,
   "metadata": {
    "colab": {
     "base_uri": "https://localhost:8080/"
    },
    "id": "gqciRPOxH9mM",
    "outputId": "2906b806-1e89-4e0d-c718-549b54caf767"
   },
   "outputs": [],
   "source": [
    "vec_1+vec_2"
   ]
  },
  {
   "cell_type": "markdown",
   "metadata": {
    "id": "zNaCUrTiIDlu"
   },
   "source": [
    "In contrast, what happens if we add two lists?"
   ]
  },
  {
   "cell_type": "code",
   "execution_count": null,
   "metadata": {
    "colab": {
     "base_uri": "https://localhost:8080/"
    },
    "id": "Vi4o1qOqICye",
    "outputId": "2ed0d202-c6d7-4a96-c947-5d97adabc0b0"
   },
   "outputs": [],
   "source": [
    "lst_1 + lst_2"
   ]
  },
  {
   "cell_type": "markdown",
   "metadata": {
    "id": "xkMsnkgsJEzH"
   },
   "source": [
    "### Differences between lists and vectors\n",
    "Both lists and vectors can be indexed and we can easily transform an array into a list and vice versa. What are some of their differences?\n",
    "#### Elementwise operations\n",
    "We have already covered that arrays have elementwise operations whereas lists do not.\n",
    "#### Each element must have the same type\n",
    "Lists can consist of elements with different types:"
   ]
  },
  {
   "cell_type": "code",
   "execution_count": null,
   "metadata": {
    "colab": {
     "base_uri": "https://localhost:8080/"
    },
    "id": "tDs2CyYJJBp8",
    "outputId": "697a0c13-beb9-43a0-a9b1-8be043c8eddc"
   },
   "outputs": [],
   "source": [
    "lst_3 = ['a', 5]\n",
    "lst_3"
   ]
  },
  {
   "cell_type": "markdown",
   "metadata": {
    "id": "zAE4NuCaJVgK"
   },
   "source": [
    "An array, on the other hand, will always have the same data type for each of its elements. If a list with unequal types is converted to an array all its elements are converted to the same data type."
   ]
  },
  {
   "cell_type": "code",
   "execution_count": null,
   "metadata": {
    "colab": {
     "base_uri": "https://localhost:8080/"
    },
    "id": "HenQjM7BJDm8",
    "outputId": "04e03289-9a2e-449c-ef17-e5d2b29e02e6"
   },
   "outputs": [],
   "source": [
    "vec_3 = np.array(lst_3)\n",
    "vec_3"
   ]
  },
  {
   "cell_type": "markdown",
   "metadata": {
    "id": "2oyiVK-eBugp"
   },
   "source": [
    "<U21 is the data type corresponding to strings. You usually don't want to rely on this automatic casting functionality and should try to avoid it."
   ]
  },
  {
   "cell_type": "code",
   "execution_count": null,
   "metadata": {
    "colab": {
     "base_uri": "https://localhost:8080/"
    },
    "id": "Mq6gRIo7xLpP",
    "outputId": "cce46044-7202-44a0-f1d5-b9c1277a880f"
   },
   "outputs": [],
   "source": [
    "type(vec_3)"
   ]
  },
  {
   "cell_type": "markdown",
   "metadata": {
    "id": "HU0X6nxXJmEU"
   },
   "source": [
    "How can you print out the type of this vector? Note that `type(vec_3)` gives you the type of the entire object which is a numpy array. Rather you want the type of the individual elements. Try using the autocomplete function to find out.\n",
    "\n",
    "*Hint* look at what the type information was called above."
   ]
  },
  {
   "cell_type": "code",
   "execution_count": null,
   "metadata": {
    "colab": {
     "base_uri": "https://localhost:8080/"
    },
    "id": "KMTxXt7CJj4L",
    "outputId": "855247f2-7202-4152-d25c-fa09302111c6"
   },
   "outputs": [],
   "source": [
    "vec_1."
   ]
  },
  {
   "cell_type": "markdown",
   "metadata": {
    "id": "s8KbrP0DWwIl"
   },
   "source": [
    "We do we not need parentheses after `dtype`? This is because `dtype` is not function, but rather a new type of Python object called an *attribute*. We will get to know them in more depth in a later lesson."
   ]
  },
  {
   "cell_type": "markdown",
   "metadata": {
    "id": "yOwAPYTfWBHz"
   },
   "source": [
    "The order of types is:\n",
    "- object (general Python objects)\n",
    "- string\n",
    "- float\n",
    "- int\n",
    "- boolean"
   ]
  },
  {
   "cell_type": "markdown",
   "metadata": {
    "id": "9f87sfl0XXfC"
   },
   "source": [
    "### Question 1\n",
    "\n",
    "- Create a numpy array with the elements 3, 7, 10 and divide each element by two\n",
    "- Create a new array `vec_4` that is the elementwise multiplication of `vec_1` and `vec_2`.\n",
    "- Create an array `vec_5` that has a `True` value wherever `vec_1` is smaller than or equal to `20` and a `False` value otherwise. *Hint:* This should be possible in a one liner."
   ]
  },
  {
   "cell_type": "markdown",
   "metadata": {
    "id": "I9g4o9-5aau7"
   },
   "source": [
    "## Two-dimensional arrays: Matrices\n",
    "Rectangular data in two dimensions is often called a matrix: it consists of observations organized by rows and columns. Basic Python would allow us to store such data using a list of lists:"
   ]
  },
  {
   "cell_type": "code",
   "execution_count": null,
   "metadata": {
    "colab": {
     "base_uri": "https://localhost:8080/"
    },
    "id": "aHaussb_acn4",
    "outputId": "8b583c28-1716-4463-b167-8ad740847bf1"
   },
   "outputs": [],
   "source": [
    "lst_1 = [\n",
    "    [1, 2],\n",
    "    [3, 4],\n",
    "    [5, 6]\n",
    "]\n",
    "lst_1"
   ]
  },
  {
   "cell_type": "markdown",
   "metadata": {
    "id": "N07rOqeqaqwQ"
   },
   "source": [
    "Yet the already tedious process of computing elementwise operations quickly becomes infeasible in this context. If wanted to multiply each element by two we would have to iterate over the outer list and then the inner set of lists."
   ]
  },
  {
   "cell_type": "code",
   "execution_count": null,
   "metadata": {
    "colab": {
     "base_uri": "https://localhost:8080/"
    },
    "id": "NCbnADCCaqTC",
    "outputId": "1cf52769-6205-4c95-d033-9aaed7d3cae3"
   },
   "outputs": [],
   "source": [
    "lst_2 = [\n",
    "    [2*it2 for it2 in it] for it in lst_1\n",
    "]\n",
    "lst_2"
   ]
  },
  {
   "cell_type": "markdown",
   "metadata": {
    "id": "6WSQCwpoa6zv"
   },
   "source": [
    "Again we can turn the list of lists into a matrix simply by applying `np.array`:"
   ]
  },
  {
   "cell_type": "code",
   "execution_count": null,
   "metadata": {
    "colab": {
     "base_uri": "https://localhost:8080/"
    },
    "id": "A2ZH45xCa5xs",
    "outputId": "1d8bb998-fab9-424a-d67c-27592f96d83f"
   },
   "outputs": [],
   "source": [
    "mat_1 = np.array(lst_1)\n",
    "mat_1"
   ]
  },
  {
   "cell_type": "markdown",
   "metadata": {
    "id": "4oHG4eJpbJLQ"
   },
   "source": [
    "Now we can apply vectorized operations as previously:"
   ]
  },
  {
   "cell_type": "code",
   "execution_count": null,
   "metadata": {
    "colab": {
     "base_uri": "https://localhost:8080/"
    },
    "id": "lSdMqEdfaZ-S",
    "outputId": "27d7f83c-5e04-4fc5-d409-1ae499d22df3"
   },
   "outputs": [],
   "source": [
    "mat_2 = 2*mat_1\n",
    "mat_2"
   ]
  },
  {
   "cell_type": "markdown",
   "metadata": {
    "id": "TEchqbaYbZAx"
   },
   "source": [
    "How can you find out the number of rows and columns of the matrix? Try googling or exploring the methods using the autocomplete function."
   ]
  },
  {
   "cell_type": "code",
   "execution_count": null,
   "metadata": {
    "colab": {
     "base_uri": "https://localhost:8080/"
    },
    "id": "A1SiyNYlbYDn",
    "outputId": "027c49da-1952-4c6d-eed0-40a41843c31b"
   },
   "outputs": [],
   "source": [
    "mat_1.shape"
   ]
  },
  {
   "cell_type": "markdown",
   "metadata": {
    "id": "nOVUK8v_bg8v"
   },
   "source": [
    "Importantly, numpy, by default, uses elementwise computations. So `*` results in elementwise multiplication, not matrix multiplication."
   ]
  },
  {
   "cell_type": "code",
   "execution_count": null,
   "metadata": {
    "colab": {
     "base_uri": "https://localhost:8080/"
    },
    "id": "7ccLZjhTbXFl",
    "outputId": "5430e4ba-cd69-4790-fd01-8e8787723646"
   },
   "outputs": [],
   "source": [
    "mat_1*mat_2"
   ]
  },
  {
   "cell_type": "markdown",
   "metadata": {
    "id": "e7MM0aFwbtM3"
   },
   "source": [
    "You can run matrix multiplication by using the `@` operator."
   ]
  },
  {
   "cell_type": "code",
   "execution_count": null,
   "metadata": {
    "colab": {
     "base_uri": "https://localhost:8080/"
    },
    "id": "SdcCXPBJbPfz",
    "outputId": "3130dc41-bca8-4b6b-feb4-24c49a597fdc"
   },
   "outputs": [],
   "source": [
    "mat_3 = np.array([[1,2],[3,4]])\n",
    "mat_1@mat_3"
   ]
  },
  {
   "cell_type": "markdown",
   "metadata": {
    "id": "85fE77jCf4Cu"
   },
   "source": [
    "### Saving arrays\n",
    "We can save arrays using `np.save`."
   ]
  },
  {
   "cell_type": "code",
   "execution_count": null,
   "metadata": {
    "id": "sHUU-KMef2ek"
   },
   "outputs": [],
   "source": [
    "np.save('mat_1.npy', mat_1)"
   ]
  },
  {
   "cell_type": "code",
   "execution_count": null,
   "metadata": {
    "id": "ih06GwajgD1J"
   },
   "outputs": [],
   "source": [
    "mat_1_copy = np.load('mat_1.npy')"
   ]
  },
  {
   "cell_type": "code",
   "execution_count": null,
   "metadata": {
    "colab": {
     "base_uri": "https://localhost:8080/"
    },
    "id": "Qk5uUcWRgGFk",
    "outputId": "f881fbd2-21e8-42b3-a6c2-cb7726dbf95e"
   },
   "outputs": [],
   "source": [
    "mat_1_copy"
   ]
  },
  {
   "cell_type": "markdown",
   "metadata": {
    "id": "4qDjYW1sgIbS"
   },
   "source": [
    "## Higher-dimensional arrays"
   ]
  },
  {
   "cell_type": "markdown",
   "metadata": {
    "id": "xjSrE54nhytJ"
   },
   "source": [
    "We now load some simulated data, which is stored in the file `ex_array.npy`. Try assigning the data in that file to the variable `arr`."
   ]
  },
  {
   "cell_type": "code",
   "execution_count": null,
   "metadata": {
    "id": "OmWwSJnhhxt2"
   },
   "outputs": [],
   "source": [
    "arr = np.load('ex_array.npy')"
   ]
  },
  {
   "cell_type": "markdown",
   "metadata": {
    "id": "W6THIuYWh_6q"
   },
   "source": [
    "Suppose you know that what is stored in this data are spike rates of fifty different neurons for two different conditions and ten repeated measurements. Spike rates are recorded every second for 2000 seconds. How can you figure out how this data is represented in the array?"
   ]
  },
  {
   "cell_type": "code",
   "execution_count": null,
   "metadata": {
    "colab": {
     "base_uri": "https://localhost:8080/"
    },
    "id": "lezT4fgbh7UZ",
    "outputId": "d6edc8f1-7d1c-404f-87e7-1deaaa8a3dfa"
   },
   "outputs": [],
   "source": [
    "arr.shape"
   ]
  },
  {
   "cell_type": "code",
   "execution_count": null,
   "metadata": {
    "colab": {
     "base_uri": "https://localhost:8080/"
    },
    "id": "xkPa3Zj-jArE",
    "outputId": "460bad23-d54a-4b8f-b3c2-11f6eab0ee46"
   },
   "outputs": [],
   "source": [
    "arr.ndim"
   ]
  },
  {
   "cell_type": "markdown",
   "metadata": {
    "id": "R7dmsH5TiywM"
   },
   "source": [
    "Whereas a vector has one dimension and a matrix has two dimensions, `arr` has four dimensions: the first one specifies the condition, the second one the trial, the third one the neuron, and the fourth one the timepoint. We can also create higher-dimensional arrays directly:"
   ]
  },
  {
   "cell_type": "code",
   "execution_count": null,
   "metadata": {
    "id": "ZjMjzrDXilnk"
   },
   "outputs": [],
   "source": [
    "arr_2 = np.array([\n",
    "    [[2,4,6],\n",
    "     [1,3,5]],\n",
    "    [[0.5,1,2],\n",
    "     [0.75, 1, 1.25]]\n",
    "])"
   ]
  },
  {
   "cell_type": "markdown",
   "metadata": {
    "id": "0MJwrnNijaAs"
   },
   "source": [
    "What is `arr_2.ndim` and `arr_2.shape`?"
   ]
  },
  {
   "cell_type": "code",
   "execution_count": null,
   "metadata": {
    "colab": {
     "base_uri": "https://localhost:8080/"
    },
    "id": "O5LIkrgajZWy",
    "outputId": "808a92c5-d12f-4d06-92bf-91528b2d3186"
   },
   "outputs": [],
   "source": [
    "arr_2.ndim"
   ]
  },
  {
   "cell_type": "code",
   "execution_count": null,
   "metadata": {
    "colab": {
     "base_uri": "https://localhost:8080/"
    },
    "id": "Up9CDVi0jXC4",
    "outputId": "d492b942-e770-42ea-c946-1432c16ad5eb"
   },
   "outputs": [],
   "source": [
    "arr_2.shape"
   ]
  },
  {
   "cell_type": "markdown",
   "metadata": {
    "id": "gz4AMGrVb7p6"
   },
   "source": [
    "### Data must be rectangular\n",
    "Importantly numpy only allows for rectangular data. What happens if you create an array from a list of lists with unequal length?"
   ]
  },
  {
   "cell_type": "code",
   "execution_count": null,
   "metadata": {
    "colab": {
     "base_uri": "https://localhost:8080/"
    },
    "id": "nQNcMlmwb0l1",
    "outputId": "263303ed-39db-432c-b2ad-2375d3a9112f"
   },
   "outputs": [],
   "source": [
    "mat = np.array([[1,2],[3]])"
   ]
  },
  {
   "cell_type": "code",
   "execution_count": null,
   "metadata": {
    "colab": {
     "base_uri": "https://localhost:8080/"
    },
    "id": "wdbFi0KxcHtD",
    "outputId": "422201f6-6428-4317-930d-a6797f74d45e"
   },
   "outputs": [],
   "source": [
    "mat"
   ]
  },
  {
   "cell_type": "markdown",
   "metadata": {
    "id": "K_bR9EdTcJ0U"
   },
   "source": [
    "### Broadcasting"
   ]
  },
  {
   "cell_type": "markdown",
   "metadata": {
    "id": "RuSm1ullcVBX"
   },
   "source": [
    "In general you cannot add two matrices with different shapes:"
   ]
  },
  {
   "cell_type": "code",
   "execution_count": null,
   "metadata": {
    "colab": {
     "base_uri": "https://localhost:8080/"
    },
    "id": "dC4lJH2ncJJD",
    "outputId": "aaff9a47-843f-40d8-aa7e-e8b2651a453a"
   },
   "outputs": [],
   "source": [
    "mat_1.shape"
   ]
  },
  {
   "cell_type": "code",
   "execution_count": null,
   "metadata": {
    "id": "lYd4fORPkZNd"
   },
   "outputs": [],
   "source": [
    "mat_3 = np.array([\n",
    "    [1,2,3],\n",
    "    [1,2,3]\n",
    "])"
   ]
  },
  {
   "cell_type": "code",
   "execution_count": null,
   "metadata": {
    "colab": {
     "base_uri": "https://localhost:8080/",
     "height": 167
    },
    "id": "3vC8NBhGkc0W",
    "outputId": "9dac0cb5-60ef-47ed-e2a4-c663e23698b1"
   },
   "outputs": [],
   "source": [
    "mat_1+mat_3"
   ]
  },
  {
   "cell_type": "markdown",
   "metadata": {
    "id": "OhFi4XhrkzZh"
   },
   "source": [
    "Elementwise operations can work between two arrays with unequal shapes:\n",
    "- If they match everywhere except where one of them has a dimension of length 1\n",
    "- If they have an unequal number of dimensions, the array with fewer dimensions is appended dimensions of length 1 in the beginning."
   ]
  },
  {
   "cell_type": "code",
   "execution_count": null,
   "metadata": {
    "colab": {
     "base_uri": "https://localhost:8080/"
    },
    "id": "fVg714JHcTAN",
    "outputId": "ee9a8a11-5bc8-4476-9c50-94fbefa11ee9"
   },
   "outputs": [],
   "source": [
    "np.array([\n",
    "    [1,2]\n",
    "]) + np.array([\n",
    "    [1,2],\n",
    "    [3,4],\n",
    "    [5,6]\n",
    "])"
   ]
  },
  {
   "cell_type": "markdown",
   "metadata": {
    "id": "txpp5D4Fcbnh"
   },
   "source": [
    "The same thing is true for matrices with one column or other elementwise operations."
   ]
  },
  {
   "cell_type": "code",
   "execution_count": null,
   "metadata": {
    "id": "MAqugLYAxvX8"
   },
   "outputs": [],
   "source": [
    "divisor = np.array([[2], [1], [1]])"
   ]
  },
  {
   "cell_type": "code",
   "execution_count": null,
   "metadata": {
    "colab": {
     "base_uri": "https://localhost:8080/"
    },
    "id": "1wwZoRZbxww4",
    "outputId": "73a1f9ad-33e1-4399-f00c-af5048109b2c"
   },
   "outputs": [],
   "source": [
    "divisor.shape"
   ]
  },
  {
   "cell_type": "code",
   "execution_count": null,
   "metadata": {
    "colab": {
     "base_uri": "https://localhost:8080/"
    },
    "id": "K_YXKJNolJId",
    "outputId": "505b949f-0a2f-4437-8140-901bd9d565f5"
   },
   "outputs": [],
   "source": [
    "mat_1"
   ]
  },
  {
   "cell_type": "code",
   "execution_count": null,
   "metadata": {
    "colab": {
     "base_uri": "https://localhost:8080/"
    },
    "id": "szv2oFgMcaJv",
    "outputId": "1b6837b3-fcb6-40d0-c456-2cfae20b071a"
   },
   "outputs": [],
   "source": [
    "mat_1 / divisor"
   ]
  },
  {
   "cell_type": "code",
   "execution_count": null,
   "metadata": {
    "id": "de902JjElM4W"
   },
   "outputs": [],
   "source": [
    "vec_4 = np.array([1, 2])"
   ]
  },
  {
   "cell_type": "code",
   "execution_count": null,
   "metadata": {
    "colab": {
     "base_uri": "https://localhost:8080/"
    },
    "id": "WOfbxyFRlQpe",
    "outputId": "e8d907f2-c730-474f-f82e-6fdaf44d56b6"
   },
   "outputs": [],
   "source": [
    "vec_4.shape"
   ]
  },
  {
   "cell_type": "code",
   "execution_count": null,
   "metadata": {
    "colab": {
     "base_uri": "https://localhost:8080/"
    },
    "id": "Aw0ed-0alRiq",
    "outputId": "bb6cf9a1-7bbb-4930-82bd-5e6051345aba"
   },
   "outputs": [],
   "source": [
    "vec_4+mat_1"
   ]
  },
  {
   "cell_type": "markdown",
   "metadata": {
    "id": "LSYn6o4GmA7y"
   },
   "source": [
    "### Creating some arrays"
   ]
  },
  {
   "cell_type": "code",
   "execution_count": null,
   "metadata": {
    "colab": {
     "base_uri": "https://localhost:8080/"
    },
    "id": "zhFYbgS_mAUl",
    "outputId": "3bfe11ca-8aad-463c-9ce6-85b58b5d0200"
   },
   "outputs": [],
   "source": [
    "np.linspace(0, 1, 21)"
   ]
  },
  {
   "cell_type": "code",
   "execution_count": null,
   "metadata": {
    "colab": {
     "base_uri": "https://localhost:8080/"
    },
    "id": "zX4_oVKWmD_A",
    "outputId": "d94cab20-5800-4551-b110-d7ad53f48716"
   },
   "outputs": [],
   "source": [
    "np.arange(10)"
   ]
  },
  {
   "cell_type": "code",
   "execution_count": null,
   "metadata": {
    "colab": {
     "base_uri": "https://localhost:8080/"
    },
    "id": "WwLsYorRmE1K",
    "outputId": "1e050543-473a-44fe-8b8d-ed9780841f7c"
   },
   "outputs": [],
   "source": [
    "np.arange(1, 10, 2)"
   ]
  },
  {
   "cell_type": "code",
   "execution_count": null,
   "metadata": {
    "colab": {
     "base_uri": "https://localhost:8080/"
    },
    "id": "rX8g97GemF7M",
    "outputId": "616fe4de-af51-42c5-94f9-5da642cc9e6b"
   },
   "outputs": [],
   "source": [
    "np.ones((4, 2, 3))"
   ]
  },
  {
   "cell_type": "markdown",
   "metadata": {
    "id": "BdvzvNT1o1lx"
   },
   "source": [
    "### Question 2\n",
    "\n",
    "Below we're creating arrays with different shapes. Try predicting for each if elementwise addition would work, what shape the resulting array would have, then try it out and see if you were correct."
   ]
  },
  {
   "cell_type": "code",
   "execution_count": null,
   "metadata": {
    "id": "8vtf-cISnZyy"
   },
   "outputs": [],
   "source": [
    "arr_1 = np.ones((3,2))\n",
    "arr_2 = np.ones((2,3))"
   ]
  },
  {
   "cell_type": "code",
   "execution_count": null,
   "metadata": {
    "id": "eX7dR8TJndJ9"
   },
   "outputs": [],
   "source": [
    "arr_1 = np.ones((4,1,5))\n",
    "arr_2 = np.ones((4,6,5))"
   ]
  },
  {
   "cell_type": "code",
   "execution_count": null,
   "metadata": {
    "id": "n5gRH_tvnnai"
   },
   "outputs": [],
   "source": [
    "arr_1 = np.ones((4,1,5))\n",
    "arr_2 = np.ones((4,6,1))"
   ]
  },
  {
   "cell_type": "code",
   "execution_count": null,
   "metadata": {
    "id": "3Hgh_ZD-nuvk"
   },
   "outputs": [],
   "source": [
    "arr_1 = np.ones((4,3,5))\n",
    "arr_2 = np.ones((3,5))"
   ]
  },
  {
   "cell_type": "code",
   "execution_count": null,
   "metadata": {
    "id": "jBNPjK5gnyBF"
   },
   "outputs": [],
   "source": [
    "arr_1 = np.ones((4,3,5))\n",
    "arr_2 = np.ones((4,3))"
   ]
  },
  {
   "cell_type": "markdown",
   "metadata": {
    "id": "XHNc2woIoF4d"
   },
   "source": [
    "## Summary operations"
   ]
  },
  {
   "cell_type": "markdown",
   "metadata": {
    "id": "_X0AeYn3oF4f"
   },
   "source": [
    "Summary operations allow you to collapse an array according to a certain summary statistic. For instance, we may want to compute the overall mean firing rate in our experimental data:"
   ]
  },
  {
   "cell_type": "code",
   "execution_count": null,
   "metadata": {
    "colab": {
     "base_uri": "https://localhost:8080/"
    },
    "id": "4U_ibaS2oJCJ",
    "outputId": "94cae975-451f-4fc5-f79a-cfb508c2d26a"
   },
   "outputs": [],
   "source": [
    "arr.mean()"
   ]
  },
  {
   "cell_type": "markdown",
   "metadata": {
    "id": "f9-MA21KoRl2"
   },
   "source": [
    "You can also specify the axis along we want to average. For instance, maybe we want to average firing rates across individual trials:"
   ]
  },
  {
   "cell_type": "code",
   "execution_count": null,
   "metadata": {
    "colab": {
     "base_uri": "https://localhost:8080/"
    },
    "id": "t1gvQ6QUoYPk",
    "outputId": "18533a22-4ca6-4e32-943a-da6244f47432"
   },
   "outputs": [],
   "source": [
    "arr.shape"
   ]
  },
  {
   "cell_type": "code",
   "execution_count": null,
   "metadata": {
    "id": "HfVJ_KpwoYz_"
   },
   "outputs": [],
   "source": [
    "arr_across_trials = arr.mean(axis=1)"
   ]
  },
  {
   "cell_type": "code",
   "execution_count": null,
   "metadata": {
    "colab": {
     "base_uri": "https://localhost:8080/"
    },
    "id": "0HsGHmTAocjO",
    "outputId": "0abcd664-a8ae-4e8c-cbfb-dc2a39d94833"
   },
   "outputs": [],
   "source": [
    "arr_across_trials.shape"
   ]
  },
  {
   "cell_type": "markdown",
   "metadata": {
    "id": "MUVYhRhlpkki"
   },
   "source": [
    "The `keepdims` argument means that you don't remove the dimensions you're averaging over, but rather set their length to 1:"
   ]
  },
  {
   "cell_type": "code",
   "execution_count": null,
   "metadata": {
    "id": "npaRvYsIpijK"
   },
   "outputs": [],
   "source": [
    "arr_across_trials = arr.mean(axis=1, keepdims=True)"
   ]
  },
  {
   "cell_type": "code",
   "execution_count": null,
   "metadata": {
    "colab": {
     "base_uri": "https://localhost:8080/"
    },
    "id": "aPIylJSUp2hF",
    "outputId": "61fe4319-1248-4d08-aea0-5a638939d600"
   },
   "outputs": [],
   "source": [
    "arr_across_trials.shape"
   ]
  },
  {
   "cell_type": "markdown",
   "metadata": {
    "id": "PAQEXyjdokWV"
   },
   "source": [
    "You can average across multiple axes as well. For instance, maybe you want to average across both trials and time:"
   ]
  },
  {
   "cell_type": "code",
   "execution_count": null,
   "metadata": {
    "id": "b-x8H3Aiojvs"
   },
   "outputs": [],
   "source": [
    "arr_across_trials_and_time = arr.mean(axis=(1,3))"
   ]
  },
  {
   "cell_type": "code",
   "execution_count": null,
   "metadata": {
    "colab": {
     "base_uri": "https://localhost:8080/"
    },
    "id": "CN2sn16wpY3X",
    "outputId": "5ba79611-6f89-4728-c540-6d927702b79b"
   },
   "outputs": [],
   "source": [
    "arr_across_trials_and_time.shape"
   ]
  },
  {
   "cell_type": "markdown",
   "metadata": {
    "id": "D7CT8DwVp5SY"
   },
   "source": [
    "### Question 3\n",
    "\n",
    "- What is the average firing rate across all neurons, times, and trials for each condition?\n",
    "- (Advanced.) Subtract the average firing rate per time across all neurons, trials, and conditions from the original array."
   ]
  },
  {
   "cell_type": "markdown",
   "metadata": {
    "id": "LdgHsGL8uPJe"
   },
   "source": [
    "## Indexing"
   ]
  },
  {
   "cell_type": "markdown",
   "metadata": {
    "id": "sKsm931VIZJW"
   },
   "source": [
    "Indexing in vectors works just as in lists:"
   ]
  },
  {
   "cell_type": "code",
   "execution_count": null,
   "metadata": {
    "colab": {
     "base_uri": "https://localhost:8080/"
    },
    "id": "V5-v-1yJ4rT3",
    "outputId": "b80b51bd-a80a-4048-fe69-1f960ece5a7d"
   },
   "outputs": [],
   "source": [
    "vec_1"
   ]
  },
  {
   "cell_type": "code",
   "execution_count": null,
   "metadata": {
    "colab": {
     "base_uri": "https://localhost:8080/"
    },
    "id": "eIEWdFR84sO5",
    "outputId": "10801a3b-cc20-4415-af5a-d1b3b1f63a02"
   },
   "outputs": [],
   "source": [
    "vec_1[0]"
   ]
  },
  {
   "cell_type": "markdown",
   "metadata": {
    "id": "PPbsSdmiInSS"
   },
   "source": [
    "For matrices and higher-dimensional arrays, a single index selects a single row:"
   ]
  },
  {
   "cell_type": "code",
   "execution_count": null,
   "metadata": {
    "colab": {
     "base_uri": "https://localhost:8080/"
    },
    "id": "qkstcucC4v1X",
    "outputId": "d806a453-86d7-44a2-9052-25284761ea9a"
   },
   "outputs": [],
   "source": [
    "mat_1"
   ]
  },
  {
   "cell_type": "code",
   "execution_count": null,
   "metadata": {
    "colab": {
     "base_uri": "https://localhost:8080/"
    },
    "id": "QA_-MxKyqxAF",
    "outputId": "040551f6-a86f-42ef-ef4b-b38651e17c60"
   },
   "outputs": [],
   "source": [
    "mat_1[0]"
   ]
  },
  {
   "cell_type": "code",
   "execution_count": null,
   "metadata": {
    "colab": {
     "base_uri": "https://localhost:8080/"
    },
    "id": "1QEO6aFDtOnN",
    "outputId": "e81f8ab1-b849-4185-97b5-40869f0fc5ab"
   },
   "outputs": [],
   "source": [
    "mat_1[0][1]"
   ]
  },
  {
   "cell_type": "markdown",
   "metadata": {
    "id": "UgApyUCXIu3B"
   },
   "source": [
    "Instead of using two brackets, you can also separate the row and column index by a comma:"
   ]
  },
  {
   "cell_type": "code",
   "execution_count": null,
   "metadata": {
    "colab": {
     "base_uri": "https://localhost:8080/"
    },
    "id": "9nTJdwrQI0Wy",
    "outputId": "b2f058f2-d9b8-4138-c3ea-564413d85d9e"
   },
   "outputs": [],
   "source": [
    "# The following two lines of code are equivalent\n",
    "print(mat_1[0][0])\n",
    "print(mat_1[0,0])"
   ]
  },
  {
   "cell_type": "markdown",
   "metadata": {
    "id": "UzUXMPzYJFBZ"
   },
   "source": [
    "### Slicing"
   ]
  },
  {
   "cell_type": "markdown",
   "metadata": {
    "id": "Y7PMotYdJH0F"
   },
   "source": [
    "Slicing is a useful way of extracting more than one element. In particular, `j:k` extracts the elements j,...,k-1:"
   ]
  },
  {
   "cell_type": "code",
   "execution_count": null,
   "metadata": {
    "colab": {
     "base_uri": "https://localhost:8080/"
    },
    "id": "j2HmNafso_i4",
    "outputId": "31d9e0da-165c-441e-b618-933aa8c5538a"
   },
   "outputs": [],
   "source": [
    "vec = np.arange(10)\n",
    "print(vec)"
   ]
  },
  {
   "cell_type": "code",
   "execution_count": null,
   "metadata": {
    "colab": {
     "base_uri": "https://localhost:8080/"
    },
    "id": "Bo-lVYvaJULH",
    "outputId": "e726093a-8439-4745-8a35-1d06277e94ba"
   },
   "outputs": [],
   "source": [
    "vec[3:7]"
   ]
  },
  {
   "cell_type": "markdown",
   "metadata": {
    "id": "KGYH6PlTJXUa"
   },
   "source": [
    "We can leave either end of the range away and it will default to the beginning and the end of the list, respectively."
   ]
  },
  {
   "cell_type": "code",
   "execution_count": null,
   "metadata": {
    "colab": {
     "base_uri": "https://localhost:8080/"
    },
    "id": "KCYXfjBOJWrO",
    "outputId": "dd551c56-c670-4a41-efcb-f106115fdc96"
   },
   "outputs": [],
   "source": [
    "vec[:7]"
   ]
  },
  {
   "cell_type": "code",
   "execution_count": null,
   "metadata": {
    "colab": {
     "base_uri": "https://localhost:8080/"
    },
    "id": "BCLi7iPsourR",
    "outputId": "866a70fe-a4d5-4f96-ccad-915bb543a8cd"
   },
   "outputs": [],
   "source": [
    "vec[3:]"
   ]
  },
  {
   "cell_type": "code",
   "execution_count": null,
   "metadata": {
    "colab": {
     "base_uri": "https://localhost:8080/"
    },
    "id": "sCtRzOkxpvtF",
    "outputId": "4a3d6db2-056e-47b6-8550-8ca9b1447117"
   },
   "outputs": [],
   "source": [
    "vec[:] # What do you think this will do?"
   ]
  },
  {
   "cell_type": "markdown",
   "metadata": {
    "id": "oSg-s95Vp_6M"
   },
   "source": [
    "You can therefore also use the colon to select all rows of a matrix and specific columns."
   ]
  },
  {
   "cell_type": "code",
   "execution_count": null,
   "metadata": {
    "colab": {
     "base_uri": "https://localhost:8080/"
    },
    "id": "PfObJZyVqVkN",
    "outputId": "5af2c7ea-d83b-4f71-b84d-301101f9055f"
   },
   "outputs": [],
   "source": [
    "mat_1"
   ]
  },
  {
   "cell_type": "code",
   "execution_count": null,
   "metadata": {
    "colab": {
     "base_uri": "https://localhost:8080/"
    },
    "id": "3HqeoHnTp-bF",
    "outputId": "205a7ce1-9d1c-4a9e-9dbc-fb72807e093c"
   },
   "outputs": [],
   "source": [
    "mat_1[:,0]"
   ]
  },
  {
   "cell_type": "markdown",
   "metadata": {
    "id": "A84qrlXAqg7c"
   },
   "source": [
    "You can add another colon to specify a step size, similarly to how you would use these three arguments in `range`."
   ]
  },
  {
   "cell_type": "code",
   "execution_count": null,
   "metadata": {
    "colab": {
     "base_uri": "https://localhost:8080/"
    },
    "id": "KhL-XFw5qf3v",
    "outputId": "22513912-b855-4256-8bf2-d2540f7ed749"
   },
   "outputs": [],
   "source": [
    "vec[3:7:2]"
   ]
  },
  {
   "cell_type": "markdown",
   "metadata": {
    "id": "K6IFZsQkrX4p"
   },
   "source": [
    "We could still leave away the beginning or the end of the slice:"
   ]
  },
  {
   "cell_type": "code",
   "execution_count": null,
   "metadata": {
    "colab": {
     "base_uri": "https://localhost:8080/"
    },
    "id": "D0CDln9nrXIg",
    "outputId": "c832b9be-87db-40d6-a67b-4997c7fc99bf"
   },
   "outputs": [],
   "source": [
    "vec[::2]"
   ]
  },
  {
   "cell_type": "markdown",
   "metadata": {
    "id": "9Gu8lNI_rS9Q"
   },
   "source": [
    "### Question 4\n",
    "Predict the output of the following commands:"
   ]
  },
  {
   "cell_type": "code",
   "execution_count": null,
   "metadata": {
    "colab": {
     "base_uri": "https://localhost:8080/"
    },
    "id": "yNs8daxLri0i",
    "outputId": "0eab182b-5569-4623-f742-801dd789820a"
   },
   "outputs": [],
   "source": [
    "vec[:4]"
   ]
  },
  {
   "cell_type": "code",
   "execution_count": null,
   "metadata": {
    "colab": {
     "base_uri": "https://localhost:8080/"
    },
    "id": "-90xe62IrSPy",
    "outputId": "b87dc685-f2e8-4935-a80f-8178f296c191"
   },
   "outputs": [],
   "source": [
    "vec[5:9:2]"
   ]
  },
  {
   "cell_type": "code",
   "execution_count": null,
   "metadata": {
    "colab": {
     "base_uri": "https://localhost:8080/"
    },
    "id": "XZLdgm1CCwTf",
    "outputId": "f50c4c83-38aa-4e92-8da1-9a77157c83ca"
   },
   "outputs": [],
   "source": [
    "vec[:7:2]"
   ]
  },
  {
   "cell_type": "code",
   "execution_count": null,
   "metadata": {
    "colab": {
     "base_uri": "https://localhost:8080/"
    },
    "id": "7otovAU_rg9a",
    "outputId": "de6f80e6-cc3c-4e5c-faf6-96be2621a400"
   },
   "outputs": [],
   "source": [
    "vec[2::2]"
   ]
  },
  {
   "cell_type": "markdown",
   "metadata": {
    "id": "XBw_AOc0rSyF"
   },
   "source": [
    "### Boolean indexing"
   ]
  },
  {
   "cell_type": "markdown",
   "metadata": {
    "id": "FG9TiQuZrVuU"
   },
   "source": [
    "Do you remember how to create an array that is true if and only if `vec` is smaller than 5?"
   ]
  },
  {
   "cell_type": "code",
   "execution_count": null,
   "metadata": {
    "colab": {
     "base_uri": "https://localhost:8080/"
    },
    "id": "b8O9g9rT7v1J",
    "outputId": "d68634ac-49de-4cb1-b75e-0cfa357e858f"
   },
   "outputs": [],
   "source": [
    "vec"
   ]
  },
  {
   "cell_type": "code",
   "execution_count": null,
   "metadata": {
    "colab": {
     "base_uri": "https://localhost:8080/"
    },
    "id": "x9ZXEpI4rRwN",
    "outputId": "871f961d-8c80-480e-d72a-790d7b98f14c"
   },
   "outputs": [],
   "source": [
    "selector = vec <= 5\n",
    "selector"
   ]
  },
  {
   "cell_type": "markdown",
   "metadata": {
    "id": "3FE2fc9Src2F"
   },
   "source": [
    "You can use these boolean arrays to subset the corresponding true values."
   ]
  },
  {
   "cell_type": "code",
   "execution_count": null,
   "metadata": {
    "colab": {
     "base_uri": "https://localhost:8080/"
    },
    "id": "E_346Ach9Yc3",
    "outputId": "8387c004-114f-40a7-b29c-9dda5446f30a"
   },
   "outputs": [],
   "source": [
    "vec"
   ]
  },
  {
   "cell_type": "code",
   "execution_count": null,
   "metadata": {
    "colab": {
     "base_uri": "https://localhost:8080/"
    },
    "id": "__3rjtD4rcLE",
    "outputId": "91ef1550-ebe4-429d-c90b-c044c39c5b3a"
   },
   "outputs": [],
   "source": [
    "vec[selector]"
   ]
  },
  {
   "cell_type": "code",
   "execution_count": null,
   "metadata": {
    "colab": {
     "base_uri": "https://localhost:8080/"
    },
    "id": "obfmbaxk9i-a",
    "outputId": "91b80004-4b61-4468-ce78-ab68d6d21e70"
   },
   "outputs": [],
   "source": [
    "vec[vec<=5]"
   ]
  },
  {
   "cell_type": "markdown",
   "metadata": {
    "id": "8MaLCKf9rktz"
   },
   "source": [
    "You can do the same with matrices:"
   ]
  },
  {
   "cell_type": "code",
   "execution_count": null,
   "metadata": {
    "colab": {
     "base_uri": "https://localhost:8080/"
    },
    "id": "rlF_CayR9mFR",
    "outputId": "107d1bca-18b0-4d04-aff0-3ed4dc0c94a8"
   },
   "outputs": [],
   "source": [
    "mat_1"
   ]
  },
  {
   "cell_type": "code",
   "execution_count": null,
   "metadata": {
    "colab": {
     "base_uri": "https://localhost:8080/",
     "height": 167
    },
    "id": "EwzXKJemruRW",
    "outputId": "a88baf2e-4ca6-4c73-b9a5-1adab69e0a44"
   },
   "outputs": [],
   "source": [
    "mat >= 3"
   ]
  },
  {
   "cell_type": "code",
   "execution_count": null,
   "metadata": {
    "colab": {
     "base_uri": "https://localhost:8080/",
     "height": 167
    },
    "id": "Iuxu6VIkrj7b",
    "outputId": "46298763-2635-47b3-bab2-ab369488a23c"
   },
   "outputs": [],
   "source": [
    "mat[mat >= 3]"
   ]
  },
  {
   "cell_type": "markdown",
   "metadata": {
    "id": "Ei0wsNmortBZ"
   },
   "source": [
    "### Questions 5\n",
    "- Consider the example matrix from above and subset all entries with values between 0.4 and 0.8."
   ]
  }
 ],
 "metadata": {
  "colab": {
   "collapsed_sections": [],
   "provenance": [],
   "toc_visible": true
  },
  "kernelspec": {
   "display_name": "Python 3 (ipykernel)",
   "language": "python",
   "name": "python3"
  },
  "language_info": {
   "codemirror_mode": {
    "name": "ipython",
    "version": 3
   },
   "file_extension": ".py",
   "mimetype": "text/x-python",
   "name": "python",
   "nbconvert_exporter": "python",
   "pygments_lexer": "ipython3",
   "version": "3.10.4"
  }
 },
 "nbformat": 4,
 "nbformat_minor": 1
}
