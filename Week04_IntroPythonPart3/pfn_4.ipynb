{
  "nbformat": 4,
  "nbformat_minor": 0,
  "metadata": {
    "colab": {
      "provenance": [],
      "toc_visible": true,
      "collapsed_sections": [
        "UYIkkuLAC_vM",
        "aSeePGDQKfjt",
        "69tzIjsSlnLg",
        "MJGOvgPApCTJ"
      ],
      "authorship_tag": "ABX9TyMm70Xsc1AX9l/yBkbB28i8"
    },
    "kernelspec": {
      "name": "python3",
      "display_name": "Python 3"
    },
    "language_info": {
      "name": "python"
    }
  },
  "cells": [
    {
      "cell_type": "markdown",
      "metadata": {
        "id": "2-Yz0-fSktMw"
      },
      "source": [
        "# Dictionaries\n",
        "\n",
        "Dictionaries are a mutable datatype consisting of key and value pairs. They are good for quickly accessing the values of arbitrary keys. Keys and values can both be any data type.\n",
        "\n",
        "Dictionaries look like this:\n",
        "```\n",
        "{\n",
        "  key0: value0,\n",
        "  key1: value1,\n",
        "  key2: value2\n",
        "}\n",
        "```"
      ]
    },
    {
      "cell_type": "code",
      "execution_count": null,
      "metadata": {
        "id": "JjnFGOxffAyv"
      },
      "outputs": [],
      "source": [
        "# Dictionaries:\n",
        "monkey_A = {\n",
        "'spiketimes': [0,20,34,56],\n",
        "'name': 'Einstein',\n",
        "}"
      ]
    },
    {
      "cell_type": "code",
      "execution_count": null,
      "metadata": {
        "id": "F8vWMzo4fAyv",
        "outputId": "7ff915a1-4fa8-417f-8d70-045441a1234f"
      },
      "outputs": [
        {
          "data": {
            "text/plain": [
              "{'spiketimes': [0, 20, 34, 56], 'name': 'Einstein'}"
            ]
          },
          "execution_count": 57,
          "metadata": {},
          "output_type": "execute_result"
        }
      ],
      "source": [
        "monkey_A"
      ]
    },
    {
      "cell_type": "markdown",
      "metadata": {
        "id": "P1z9CEezcd3L"
      },
      "source": [
        "In VSCode, we can see the functions available as properties of monkey_A by typing `monkey_A.` and seeing the autocomplete options that come up (more on functions and properties in future lessons). Explore a few of these using `help`, `?`, or `??`."
      ]
    },
    {
      "cell_type": "code",
      "execution_count": null,
      "metadata": {
        "id": "DQoLBC5Vcd3L",
        "outputId": "81b2ec04-3786-4600-dd0e-5f7c45f19b51"
      },
      "outputs": [
        {
          "ename": "SyntaxError",
          "evalue": "invalid syntax (3555179309.py, line 1)",
          "output_type": "error",
          "traceback": [
            "\u001b[0;36m  Input \u001b[0;32mIn [58]\u001b[0;36m\u001b[0m\n\u001b[0;31m    monkey_A.\u001b[0m\n\u001b[0m             ^\u001b[0m\n\u001b[0;31mSyntaxError\u001b[0m\u001b[0;31m:\u001b[0m invalid syntax\n"
          ]
        }
      ],
      "source": [
        "monkey_A."
      ]
    },
    {
      "cell_type": "markdown",
      "metadata": {
        "id": "JmMftxN7cd3L"
      },
      "source": [
        "Using the above strategy, can you figure out how to list the keys in the dictionary? Try it out below."
      ]
    },
    {
      "cell_type": "code",
      "execution_count": null,
      "metadata": {
        "id": "jG_SIu6XfAyv",
        "colab": {
          "base_uri": "https://localhost:8080/"
        },
        "outputId": "8f00f4c5-3f99-497a-bd5d-f4cc2037cfe0"
      },
      "outputs": [
        {
          "output_type": "execute_result",
          "data": {
            "text/plain": [
              "dict_keys(['spiketimes', 'name'])"
            ]
          },
          "metadata": {},
          "execution_count": 5
        }
      ],
      "source": [
        " # lists the keys in the dictionary\n",
        " "
      ]
    },
    {
      "cell_type": "markdown",
      "source": [
        "You can access a dictionary's value by using the key as an index."
      ],
      "metadata": {
        "id": "sHFeUPMITkxI"
      }
    },
    {
      "cell_type": "code",
      "execution_count": null,
      "metadata": {
        "id": "C7ms44AbfAyv",
        "outputId": "17361e83-bde3-40a1-89b1-3e689b5eba34"
      },
      "outputs": [
        {
          "data": {
            "text/plain": [
              "[0, 20, 34, 56]"
            ]
          },
          "execution_count": 60,
          "metadata": {},
          "output_type": "execute_result"
        }
      ],
      "source": [
        "monkey_A['spiketimes'] # gets the value at the key inside the brackets"
      ]
    },
    {
      "cell_type": "markdown",
      "metadata": {
        "id": "2e80huhKc1PB"
      },
      "source": [
        "What will `monkey_A['name']` output?\n",
        "\n",
        "Guess, and then type and run below."
      ]
    },
    {
      "cell_type": "code",
      "execution_count": null,
      "metadata": {
        "id": "koSoYxyMfAyv"
      },
      "outputs": [],
      "source": []
    },
    {
      "cell_type": "markdown",
      "source": [
        "Indexing also allows you to change a key's value or add a new key-value pair."
      ],
      "metadata": {
        "id": "nCzuGa94Tyo0"
      }
    },
    {
      "cell_type": "code",
      "execution_count": null,
      "metadata": {
        "id": "Q7psX3R2fAyv"
      },
      "outputs": [],
      "source": [
        "monkey_A['lab'] = 'Churchland' # adds key, value pair to dictionary ('lab' is the key, 'Churchland' is the value)"
      ]
    },
    {
      "cell_type": "code",
      "execution_count": null,
      "metadata": {
        "id": "uLsFxys4jTKr",
        "outputId": "d729f219-fd50-42d1-86b7-44daefeaad4e"
      },
      "outputs": [
        {
          "data": {
            "text/plain": [
              "{'spiketimes': [0, 20, 34, 56], 'name': 'Einstein', 'lab': 'Churchland'}"
            ]
          },
          "execution_count": 62,
          "metadata": {},
          "output_type": "execute_result"
        }
      ],
      "source": [
        "monkey_A"
      ]
    },
    {
      "cell_type": "code",
      "execution_count": null,
      "metadata": {
        "id": "Ek933PWNfAyv",
        "outputId": "19513287-40e3-496a-fa23-3da8c6b9393d"
      },
      "outputs": [
        {
          "data": {
            "text/plain": [
              "True"
            ]
          },
          "execution_count": 63,
          "metadata": {},
          "output_type": "execute_result"
        }
      ],
      "source": [
        "'lab' in monkey_A # test if a key is in a dictionary\n",
        "# this also work with strings (e.g. 'hi' in 'abhi' will be True)"
      ]
    },
    {
      "cell_type": "code",
      "execution_count": null,
      "metadata": {
        "id": "ZmVwk6bxfAyv",
        "outputId": "97272f92-2143-4a89-ed6e-09c79288dc25"
      },
      "outputs": [
        {
          "data": {
            "text/plain": [
              "False"
            ]
          },
          "execution_count": 64,
          "metadata": {},
          "output_type": "execute_result"
        }
      ],
      "source": [
        "del monkey_A['lab'] # delete a key value pair\n",
        "'lab' in monkey_A"
      ]
    },
    {
      "cell_type": "code",
      "execution_count": null,
      "metadata": {
        "id": "ppgjADm4jTK2",
        "outputId": "d3b2c8a0-0b62-4d31-f1d7-cbfc2df0090e"
      },
      "outputs": [
        {
          "data": {
            "text/plain": [
              "{'spiketimes': [0, 20, 34, 56], 'name': 'Einstein'}"
            ]
          },
          "execution_count": 65,
          "metadata": {},
          "output_type": "execute_result"
        }
      ],
      "source": [
        "monkey_A"
      ]
    },
    {
      "cell_type": "markdown",
      "metadata": {
        "id": "zrEbKxVLlXUL"
      },
      "source": [
        "you can create dictionaries from lists and by setting keys equal to values using the `dict` constructor"
      ]
    },
    {
      "cell_type": "code",
      "execution_count": null,
      "metadata": {
        "colab": {
          "base_uri": "https://localhost:8080/"
        },
        "id": "E1z-_Gu3fAyv",
        "outputId": "d64a9d50-e457-4550-b617-b6d82a4179a2"
      },
      "outputs": [
        {
          "name": "stdout",
          "output_type": "stream",
          "text": [
            "[(1, 'Jasmine'), (2, 'Jasmine'), (3, 'Jasmine'), (4, 'Sam'), (5, 'Sam')]\n"
          ]
        },
        {
          "data": {
            "text/plain": [
              "{1: 'Jasmine', 2: 'Jasmine', 3: 'Jasmine', 4: 'Sam', 5: 'Sam'}"
            ]
          },
          "execution_count": 66,
          "metadata": {},
          "output_type": "execute_result"
        }
      ],
      "source": [
        "my_list = [(1,'Jasmine'), (2, 'Jasmine'), (3, 'Jasmine'), (4, 'Sam'), (5,'Sam')]\n",
        "print(my_list)\n",
        "\n",
        "dict(my_list)"
      ]
    },
    {
      "cell_type": "code",
      "execution_count": null,
      "metadata": {
        "id": "ylPBVB5YfAyv",
        "outputId": "8168d99c-0c15-4620-f1d3-bc71331c627b"
      },
      "outputs": [
        {
          "data": {
            "text/plain": [
              "{'instructor_1': 'Jasmine', 'instructor_2': 'Sam', 'instructor_3': 'Abhi'}"
            ]
          },
          "execution_count": 67,
          "metadata": {},
          "output_type": "execute_result"
        }
      ],
      "source": [
        "dict(instructor_1 = 'Jasmine', instructor_2 = 'Sam', instructor_3 = 'Abhi')"
      ]
    },
    {
      "cell_type": "markdown",
      "metadata": {
        "id": "FF_FUEVxjTK3"
      },
      "source": [
        "Note that dictionary keys need to be unique, so, for example:"
      ]
    },
    {
      "cell_type": "code",
      "execution_count": null,
      "metadata": {
        "id": "jNqi7aK8jTK4",
        "outputId": "b78796f5-d38a-4126-b6f2-f8c32f1eb3ff"
      },
      "outputs": [
        {
          "data": {
            "text/plain": [
              "{1: 'Abhi'}"
            ]
          },
          "execution_count": 68,
          "metadata": {},
          "output_type": "execute_result"
        }
      ],
      "source": [
        "my_list = [(1,'Jasmine'), (1, 'Abhi')]\n",
        "dict(my_list)"
      ]
    },
    {
      "cell_type": "markdown",
      "metadata": {
        "id": "aw_365dtjTK4"
      },
      "source": [
        "will not give what we expect, but values do not need to be unique, which is why the below works."
      ]
    },
    {
      "cell_type": "code",
      "execution_count": null,
      "metadata": {
        "id": "gFknaikgjTK4",
        "outputId": "8d4295d4-4a0b-42c3-9d8d-2106f2d8934d"
      },
      "outputs": [
        {
          "data": {
            "text/plain": [
              "{1: 'Jasmine', 2: 'Jasmine'}"
            ]
          },
          "execution_count": 69,
          "metadata": {},
          "output_type": "execute_result"
        }
      ],
      "source": [
        "my_list = [(1,'Jasmine'), (2, 'Jasmine')]\n",
        "dict(my_list)"
      ]
    },
    {
      "cell_type": "markdown",
      "metadata": {
        "id": "DVb0Vp4-a76E"
      },
      "source": [
        "## Exercise\n",
        "\n",
        "1. Create a dictionary (using any of the above methods) of what you would order for lunch if you could. Have the keys be the menu items, and the values be their prices. Store the dictionary in a variable called `lunch_menu`\n",
        "2. Print out the keys of the dictionary.\n",
        "3. Get the price for a specific menu item out of the dictionary.\n",
        "4. Check if a certain menu item is in the dictionary.\n",
        "5. Delete that menu item from the dictionary.\n",
        "6. Check again if that menu item is in the dictionary."
      ]
    },
    {
      "cell_type": "markdown",
      "metadata": {
        "id": "MGFATd1CfAyw"
      },
      "source": [
        "# Tuples \n",
        "Tuples are static, or immutable. Like strings, you cannot modify them once you have created them. Indexing works with tuples like it works with lists. Tuples are useful when you want to make sure something cannot accidentally get modified, and we will use them when we learn about functions next class."
      ]
    },
    {
      "cell_type": "code",
      "execution_count": null,
      "metadata": {
        "id": "vVWlOcr-fAyw"
      },
      "outputs": [],
      "source": [
        "my_tup = 'test',0,1"
      ]
    },
    {
      "cell_type": "code",
      "execution_count": null,
      "metadata": {
        "id": "ozc7W3KWfAyw",
        "outputId": "91f9ee64-0bdb-4aec-f3f8-40bc1d7c84b5"
      },
      "outputs": [
        {
          "data": {
            "text/plain": [
              "('test', 0, 1)"
            ]
          },
          "execution_count": 80,
          "metadata": {},
          "output_type": "execute_result"
        }
      ],
      "source": [
        "my_tup"
      ]
    },
    {
      "cell_type": "code",
      "execution_count": null,
      "metadata": {
        "id": "tKZ9YvO4fAyw",
        "outputId": "862ab08f-42d8-44ea-bf30-5de7d3176ba6"
      },
      "outputs": [
        {
          "data": {
            "text/plain": [
              "'test'"
            ]
          },
          "execution_count": 81,
          "metadata": {},
          "output_type": "execute_result"
        }
      ],
      "source": [
        "my_tup[0]"
      ]
    },
    {
      "cell_type": "markdown",
      "metadata": {
        "id": "zAmTVwRlgR84"
      },
      "source": [
        "What will `my_tup[1]` output? Guess before typing and checking below."
      ]
    },
    {
      "cell_type": "code",
      "execution_count": null,
      "metadata": {
        "id": "NjwcFuVefAyw",
        "outputId": "3827de57-f8c2-403b-8922-c7fa912ecf42"
      },
      "outputs": [
        {
          "data": {
            "text/plain": [
              "0"
            ]
          },
          "execution_count": 83,
          "metadata": {},
          "output_type": "execute_result"
        }
      ],
      "source": [
        "my_tup[1]"
      ]
    },
    {
      "cell_type": "code",
      "execution_count": null,
      "metadata": {
        "id": "EfjCO8FDfAyw"
      },
      "outputs": [],
      "source": [
        "my_tup[0] = 'it worked' # will this line work? Guess before trying."
      ]
    },
    {
      "cell_type": "code",
      "execution_count": null,
      "metadata": {
        "id": "yWzAHCrUfAyw"
      },
      "outputs": [],
      "source": [
        "my_tup + 0 # what about this?"
      ]
    },
    {
      "cell_type": "code",
      "execution_count": null,
      "metadata": {
        "id": "jP-IR9F7fAyw"
      },
      "outputs": [],
      "source": [
        "my_tup + (0,) # creates a new tuple, but my_tup is unchanged."
      ]
    },
    {
      "cell_type": "code",
      "execution_count": null,
      "metadata": {
        "id": "bSRaJdEGfAyw",
        "outputId": "ad5cc416-d587-499f-e0e0-864250865985"
      },
      "outputs": [
        {
          "data": {
            "text/plain": [
              "('test', 0, 1)"
            ]
          },
          "execution_count": 86,
          "metadata": {},
          "output_type": "execute_result"
        }
      ],
      "source": [
        "my_tup"
      ]
    },
    {
      "cell_type": "code",
      "execution_count": null,
      "metadata": {
        "id": "AF9plXdOfAyw"
      },
      "outputs": [],
      "source": [
        "new_tup = my_tup + (0,)"
      ]
    },
    {
      "cell_type": "code",
      "execution_count": null,
      "metadata": {
        "id": "75NyJNOlfAyw"
      },
      "outputs": [],
      "source": [
        "new_tup # what will new_tup be?"
      ]
    },
    {
      "cell_type": "code",
      "execution_count": null,
      "metadata": {
        "id": "o6fMFfexfAyw"
      },
      "outputs": [],
      "source": [
        "del my_tup[0] # Will this work?"
      ]
    },
    {
      "cell_type": "markdown",
      "metadata": {
        "id": "rlz3_3dwtgUR"
      },
      "source": [
        "## Tuple Unpacking and Packing\n",
        "\n",
        "Tuple packing and unpacking refers to separating a tuple into variables or joining variables into a tuple. When unpacking `_` is used as a placeholder for a tuple value you do not care about using in further code."
      ]
    },
    {
      "cell_type": "code",
      "execution_count": null,
      "metadata": {
        "colab": {
          "base_uri": "https://localhost:8080/",
          "height": 164
        },
        "id": "kBXZw1THTP_8",
        "outputId": "bc8269e4-b86f-475e-913e-0b750d803e63"
      },
      "outputs": [
        {
          "ename": "ValueError",
          "evalue": "too many values to unpack (expected 2)",
          "output_type": "error",
          "traceback": [
            "\u001b[0;31m---------------------------------------------------------------------------\u001b[0m",
            "\u001b[0;31mValueError\u001b[0m                                Traceback (most recent call last)",
            "\u001b[1;32m/Users/jasminestone/GitRepos/IntroPythonCourse/IntroPythonForNeuroscientists2022/Week03_IntroPythonPart2/IntroPython2-teacher.ipynb Cell 124\u001b[0m in \u001b[0;36m<cell line: 1>\u001b[0;34m()\u001b[0m\n\u001b[0;32m----> <a href='vscode-notebook-cell:/Users/jasminestone/GitRepos/IntroPythonCourse/IntroPythonForNeuroscientists2022/Week03_IntroPythonPart2/IntroPython2-teacher.ipynb#Y215sZmlsZQ%3D%3D?line=0'>1</a>\u001b[0m a,b \u001b[39m=\u001b[39m my_tup\n",
            "\u001b[0;31mValueError\u001b[0m: too many values to unpack (expected 2)"
          ]
        }
      ],
      "source": [
        "a,b = my_tup # fails because only have two values to unpack into but tuple has 3"
      ]
    },
    {
      "cell_type": "code",
      "execution_count": null,
      "metadata": {
        "id": "8kvGBPKLfAyw"
      },
      "outputs": [],
      "source": [
        "a,b,_ = my_tup # tuple unpacking"
      ]
    },
    {
      "cell_type": "code",
      "execution_count": null,
      "metadata": {
        "id": "R1L9he9sfAyx",
        "outputId": "100fcd83-60e6-4d0f-ddf6-8741f54932d0"
      },
      "outputs": [
        {
          "name": "stdout",
          "output_type": "stream",
          "text": [
            "test 0\n"
          ]
        }
      ],
      "source": [
        "print(a,b)"
      ]
    },
    {
      "cell_type": "code",
      "execution_count": null,
      "metadata": {
        "id": "o5dquy_RfAyx"
      },
      "outputs": [],
      "source": [
        "new_tup = 1,2,3 # tuple packing"
      ]
    },
    {
      "cell_type": "code",
      "execution_count": null,
      "metadata": {
        "id": "sORUVCEtfAyx",
        "outputId": "b78bc8f9-424c-4d58-fbac-c72062c8b249"
      },
      "outputs": [
        {
          "data": {
            "text/plain": [
              "(1, 2, 3)"
            ]
          },
          "execution_count": 94,
          "metadata": {},
          "output_type": "execute_result"
        }
      ],
      "source": [
        "new_tup"
      ]
    },
    {
      "cell_type": "code",
      "execution_count": null,
      "metadata": {
        "colab": {
          "base_uri": "https://localhost:8080/"
        },
        "id": "Bg_dKPT0TlvA",
        "outputId": "1ea4504d-02ba-4d2b-f10b-fa662115b980"
      },
      "outputs": [
        {
          "name": "stdout",
          "output_type": "stream",
          "text": [
            "((1, 2), 3)\n"
          ]
        }
      ],
      "source": [
        "hierarchical_tup = (1,2),3\n",
        "print(hierarchical_tup)"
      ]
    },
    {
      "cell_type": "code",
      "execution_count": null,
      "metadata": {
        "id": "JznAs8bDULe1",
        "outputId": "e69ed330-1e98-4d08-ef18-6c9f555ad95a"
      },
      "outputs": [
        {
          "ename": "ValueError",
          "evalue": "not enough values to unpack (expected 3, got 2)",
          "output_type": "error",
          "traceback": [
            "\u001b[0;31m---------------------------------------------------------------------------\u001b[0m",
            "\u001b[0;31mValueError\u001b[0m                                Traceback (most recent call last)",
            "\u001b[1;32m/Users/jasminestone/GitRepos/IntroPythonCourse/IntroPythonForNeuroscientists2022/Week03_IntroPythonPart2/IntroPython2-teacher.ipynb Cell 130\u001b[0m in \u001b[0;36m<cell line: 2>\u001b[0;34m()\u001b[0m\n\u001b[1;32m      <a href='vscode-notebook-cell:/Users/jasminestone/GitRepos/IntroPythonCourse/IntroPythonForNeuroscientists2022/Week03_IntroPythonPart2/IntroPython2-teacher.ipynb#Y224sZmlsZQ%3D%3D?line=0'>1</a>\u001b[0m \u001b[39m# Let's say we want a b and c to represent the three elements in our hierarchical tuple\u001b[39;00m\n\u001b[0;32m----> <a href='vscode-notebook-cell:/Users/jasminestone/GitRepos/IntroPythonCourse/IntroPythonForNeuroscientists2022/Week03_IntroPythonPart2/IntroPython2-teacher.ipynb#Y224sZmlsZQ%3D%3D?line=1'>2</a>\u001b[0m a,b,c \u001b[39m=\u001b[39m hierarchical_tup\n",
            "\u001b[0;31mValueError\u001b[0m: not enough values to unpack (expected 3, got 2)"
          ]
        }
      ],
      "source": [
        "# Let's say we want a b and c to represent the three elements in our hierarchical tuple\n",
        "a,b,c = hierarchical_tup\n",
        "# Why does this fail?"
      ]
    },
    {
      "cell_type": "code",
      "execution_count": null,
      "metadata": {
        "id": "VL38sLF-TqRN"
      },
      "outputs": [],
      "source": [
        "# How can we unpack this?\n",
        "\n",
        "# Unpack multiple tuples\n",
        "\n",
        "x, c = hierarchical_tup\n",
        "a,b = x\n",
        "\n",
        "# Hierarchical Tuple Unpacking\n",
        "\n",
        "(a,b),c = hierarchical_tup"
      ]
    },
    {
      "cell_type": "markdown",
      "metadata": {
        "id": "e0QEHD5Jg3l5"
      },
      "source": [
        "## Exercise:\n",
        "\n",
        "1. Are tuples mutable or immutable?\n",
        "2. Create a tuple of your and your coding partner's names, called `our_names`.\n",
        "3. Change your name to the name of one of the other people at your table (Can you?)\n",
        "4. Create a new tuple of `whole_table_names` with `our_names` and your other tablemate's names.\n",
        "5. Unpack the `whole_table_names`, using a placeholder for your own name\n",
        "6. Print everyone else's names using the unpacked values.\n"
      ]
    },
    {
      "cell_type": "markdown",
      "metadata": {
        "id": "YYKtXB35f5Ip"
      },
      "source": [
        "# For loops\n",
        "\n",
        "For loops let us repeat code, for example when iterating through a dictionary, list, or a tuple. We can also use for loops when we want to repeat code a certain number of times."
      ]
    },
    {
      "cell_type": "markdown",
      "metadata": {
        "id": "boVLqbFxcd3O"
      },
      "source": [
        "### Directly iterate through a list"
      ]
    },
    {
      "cell_type": "code",
      "execution_count": null,
      "metadata": {
        "id": "MzvAGtzxfAyw",
        "outputId": "f08933e7-56a2-4fa0-d86c-24e79a4cc91b"
      },
      "outputs": [
        {
          "name": "stdout",
          "output_type": "stream",
          "text": [
            "Abhi\n",
            "ishani\n",
            "ben\n",
            "elom\n"
          ]
        }
      ],
      "source": [
        "for val in teachers: # directly iterate through the items in a list.\n",
        "    print(val)"
      ]
    },
    {
      "cell_type": "markdown",
      "metadata": {
        "id": "9UnNKWETjIew"
      },
      "source": [
        "### Directly iterate through a tuple\n",
        "\n",
        "This works in the same way as for a list. Can you write something like above using new_tup instead of teachers? Try it below."
      ]
    },
    {
      "cell_type": "code",
      "execution_count": null,
      "metadata": {
        "id": "_lL4mI2TjYFb"
      },
      "outputs": [],
      "source": []
    },
    {
      "cell_type": "markdown",
      "metadata": {
        "id": "TgEtxsnGhlsK"
      },
      "source": [
        "### Directly Iterate through a Dict"
      ]
    },
    {
      "cell_type": "code",
      "execution_count": null,
      "metadata": {
        "id": "VwOUlQyrfAyv",
        "outputId": "c7be43be-3691-4c47-a973-5ac6f649c723"
      },
      "outputs": [
        {
          "name": "stdout",
          "output_type": "stream",
          "text": [
            "dict_keys(['spiketimes', 'name'])\n",
            "spiketimes [0, 20, 34, 56]\n",
            "name Einstein\n"
          ]
        }
      ],
      "source": [
        "print(monkey_A.keys())\n",
        "for k in monkey_A.keys():\n",
        "    print(k,monkey_A[k])"
      ]
    },
    {
      "cell_type": "code",
      "source": [
        "print(monkey_A.items())# list of items"
      ],
      "metadata": {
        "id": "xBRJkrMRU-Mm"
      },
      "execution_count": null,
      "outputs": []
    },
    {
      "cell_type": "code",
      "source": [
        "for key, value in monkey_A.items(): # combines tuple unpacking with items\n",
        "    print(key, value)"
      ],
      "metadata": {
        "id": "4-5sA7udU_vp"
      },
      "execution_count": null,
      "outputs": []
    },
    {
      "cell_type": "code",
      "source": [
        "# the above is equivalent to:\n",
        "for item in monkey_A.items():\n",
        "    key, value = item\n",
        "    print(key, value)"
      ],
      "metadata": {
        "id": "S2afN9MMVBXK"
      },
      "execution_count": null,
      "outputs": []
    },
    {
      "cell_type": "markdown",
      "metadata": {
        "id": "OAHHcIJ1cd3O"
      },
      "source": [
        "### Range"
      ]
    },
    {
      "cell_type": "code",
      "execution_count": null,
      "metadata": {
        "id": "ncPwp0JgfAyv",
        "outputId": "cd87f09e-c06e-40e9-9dac-36dd6c04d496"
      },
      "outputs": [
        {
          "name": "stdout",
          "output_type": "stream",
          "text": [
            "0\n",
            "1\n",
            "2\n",
            "3\n",
            "4\n",
            "5\n"
          ]
        }
      ],
      "source": [
        "for i in range(6):\n",
        "    print(i)"
      ]
    },
    {
      "cell_type": "markdown",
      "metadata": {
        "id": "QfcnBp65k9JK"
      },
      "source": [
        "Look at the help information for range -- what does it do? Can you create for loop through a range like above that starts at 1 and stops at 7 (inclusive)?\n",
        "\n",
        "Try below."
      ]
    },
    {
      "cell_type": "code",
      "execution_count": null,
      "metadata": {
        "id": "TVkxabxck8tf",
        "outputId": "3ca087e3-135c-44a4-e86b-768bf56536d3"
      },
      "outputs": [
        {
          "name": "stdout",
          "output_type": "stream",
          "text": [
            "1\n",
            "2\n",
            "3\n",
            "4\n",
            "5\n",
            "6\n",
            "7\n"
          ]
        }
      ],
      "source": [
        "for i in range(1,8):\n",
        "    print(i)"
      ]
    },
    {
      "cell_type": "markdown",
      "metadata": {
        "id": "BoXE9eGznq_V"
      },
      "source": [
        "What about one that starts at 0 and ends at 6 (inclusive) where only every other number is iterated through? (Hint: use the step argument to range)"
      ]
    },
    {
      "cell_type": "code",
      "execution_count": null,
      "metadata": {
        "id": "8drHV9gPh0mh",
        "outputId": "8f59a710-23f3-4ffc-9209-55a08541b222"
      },
      "outputs": [
        {
          "name": "stdout",
          "output_type": "stream",
          "text": [
            "0\n",
            "2\n",
            "4\n",
            "6\n"
          ]
        }
      ],
      "source": [
        "for i in range(0,7,2):\n",
        "    print(i)"
      ]
    },
    {
      "cell_type": "markdown",
      "metadata": {
        "id": "coeTRDcJiJKP"
      },
      "source": [
        "How can we use range with a for loop to print both the index and the value for each element of a list?\n",
        "\n",
        "When you want to modify entries in a list, it is helpful to have the index for the entries."
      ]
    },
    {
      "cell_type": "code",
      "execution_count": null,
      "metadata": {
        "id": "ObQZxs8efAyw",
        "outputId": "f0e8892a-3c6c-466f-e736-48c5f309d8ca"
      },
      "outputs": [
        {
          "name": "stdout",
          "output_type": "stream",
          "text": [
            "['Abhi', 'ishani', 'ben', 'elom']\n",
            "0 Abhi\n",
            "1 ishani\n",
            "2 ben\n",
            "3 elom\n"
          ]
        }
      ],
      "source": [
        "print(teachers)\n",
        "for i in range(len(teachers)):\n",
        "  print(i, teachers[i])\n",
        "  teachers[i] += 'n'"
      ]
    },
    {
      "cell_type": "code",
      "execution_count": null,
      "metadata": {
        "id": "-QQBgj13fAyw",
        "outputId": "9e70c2b4-1471-4e9e-cc2c-58161eb6808a"
      },
      "outputs": [
        {
          "data": {
            "text/plain": [
              "['Abhin', 'ishanin', 'benn', 'elomn']"
            ]
          },
          "execution_count": 109,
          "metadata": {},
          "output_type": "execute_result"
        }
      ],
      "source": [
        "teachers # what do you expect this to output?"
      ]
    },
    {
      "cell_type": "markdown",
      "metadata": {
        "id": "utPkDkfSl2o3"
      },
      "source": [
        "### List Comprehension\n",
        "With something called **list comprehension**, you can use a for loop in line to create dictionaries and lists like this:"
      ]
    },
    {
      "cell_type": "code",
      "execution_count": null,
      "metadata": {
        "colab": {
          "base_uri": "https://localhost:8080/"
        },
        "id": "yZhjx5ycmBgP",
        "outputId": "46ec902d-d37c-49b4-ebbd-cc9eef3c7fe2"
      },
      "outputs": [
        {
          "name": "stdout",
          "output_type": "stream",
          "text": [
            "[0, 4, 16]\n",
            "[0, 4, 16]\n"
          ]
        }
      ],
      "source": [
        "my_list = [x**2  for x in range(6) if x%2==0] # only uses x's where the condition is true\n",
        "print(my_list)\n",
        "\n",
        "# The above code is equivalent to:\n",
        "my_list = []\n",
        "for x in range(6):\n",
        "  if x%2 == 0:\n",
        "    my_list.append(x**2)\n",
        "\n",
        "print(my_list)"
      ]
    },
    {
      "cell_type": "code",
      "execution_count": null,
      "metadata": {
        "colab": {
          "base_uri": "https://localhost:8080/"
        },
        "id": "bydyJ7sFl9YJ",
        "outputId": "995b8188-851b-4182-aa66-56d8a0c235b1"
      },
      "outputs": [
        {
          "name": "stdout",
          "output_type": "stream",
          "text": [
            "{0: 0, 1: 1, 2: 4, 3: 9, 4: 16, 5: 25}\n",
            "{0: 0, 1: 1, 2: 4, 3: 9, 4: 16, 5: 25}\n"
          ]
        }
      ],
      "source": [
        "my_dict = {x:x**2 for x in range(6)}\n",
        "print(my_dict)\n",
        "\n",
        "# The above code is equivalent to:\n",
        "my_dict = {}\n",
        "for x in range(6):\n",
        "  my_dict[x] = x**2\n",
        "\n",
        "print(my_dict)\n"
      ]
    },
    {
      "cell_type": "markdown",
      "metadata": {
        "id": "61njf6Uvlh3Y"
      },
      "source": [
        "### Exercise:\n",
        "1. Create a list using list comprehension where any values between 2 and 10 inclusive that are divisible by 3 are added to the list. Assign the list to a variable called `divisible_3s`.\n",
        "2. Using a for loop, print the index and the value at that index for every element in `divisible_3s`.\n",
        "3. Create a dictionary using list comprehension where the key is $x^3$ and the value is $x^2$ for x's between 1 and 4 inclusive. Assign the dictionary to variable `cube_square`.\n",
        "4. Print the key and value for every key, value pair in `cube_square`\n",
        "\n",
        "\n"
      ]
    },
    {
      "cell_type": "markdown",
      "metadata": {
        "id": "slrSw24oWuHl"
      },
      "source": [
        "## Enumerate\n",
        "\n",
        "Enumerate lets you access both the index and the item itself for an item in a list -- this is useful when you want access to both the item and the index of that item in the body of the loop. You can always access the item by using `item = list[index]` but enumerate lets you shorten this."
      ]
    },
    {
      "cell_type": "code",
      "execution_count": null,
      "metadata": {
        "id": "Qh4hVYfscd3P"
      },
      "outputs": [],
      "source": [
        "# define a dictionary\n",
        "expat = {\n",
        "    \"appetizer\": ['cauliflower wings', 'tater tots'],\n",
        "    \"main\": ['curry', 'burger'],\n",
        "    \"dessert\": ['ice cream', 'pastry']\n",
        "    \n",
        "}"
      ]
    },
    {
      "cell_type": "code",
      "execution_count": null,
      "metadata": {
        "id": "FYVoDOE8HZ7_",
        "outputId": "791d9926-742c-48cb-fef7-f90a8064ac85"
      },
      "outputs": [
        {
          "name": "stdout",
          "output_type": "stream",
          "text": [
            "0 cauliflower wings\n",
            "1 tater tots\n"
          ]
        }
      ],
      "source": [
        "# What if we want both the index and the value at that index for a list?\n",
        "for i in range(len(expat[\"appetizer\"])):\n",
        "  print(i, expat[\"appetizer\"][i])"
      ]
    },
    {
      "cell_type": "code",
      "execution_count": null,
      "metadata": {
        "id": "dhKIgUjYHj3I",
        "outputId": "7cca32d4-ba1e-4400-93b4-40a58e879569"
      },
      "outputs": [
        {
          "name": "stdout",
          "output_type": "stream",
          "text": [
            "cauliflower wings\n",
            "tater tots\n"
          ]
        }
      ],
      "source": [
        "for item in expat[\"appetizer\"]:\n",
        "  print(item)"
      ]
    },
    {
      "cell_type": "code",
      "execution_count": null,
      "metadata": {
        "id": "nWa_lbQPHuMp",
        "outputId": "2d67f217-87a7-42b9-8c22-14aa8191709a"
      },
      "outputs": [
        {
          "name": "stdout",
          "output_type": "stream",
          "text": [
            "0 cauliflower wings\n",
            "1 tater tots\n"
          ]
        }
      ],
      "source": [
        "# Enumerate lets us get both at the same time elegantly!\n",
        "for i, item in enumerate(expat[\"appetizer\"]):\n",
        "  print(i, item)"
      ]
    },
    {
      "cell_type": "code",
      "execution_count": null,
      "metadata": {
        "colab": {
          "base_uri": "https://localhost:8080/"
        },
        "id": "b2y0xKh7VQyc",
        "outputId": "f4e4a267-e621-40f0-ab00-61cda276058b"
      },
      "outputs": [
        {
          "name": "stdout",
          "output_type": "stream",
          "text": [
            "0 appetizer ['cauliflower wings', 'tater tots']\n",
            "1 main ['curry', 'burger']\n",
            "2 dessert ['ice cream', 'pastry']\n"
          ]
        }
      ],
      "source": [
        "\n",
        "# We can also use enumerate with the dictionary to number (key, value) pairs.\n",
        "\n",
        "for i, (key, value) in enumerate(expat.items()):\n",
        "  print(i, key, value)"
      ]
    },
    {
      "cell_type": "markdown",
      "metadata": {
        "id": "ppijuittwEUK"
      },
      "source": [
        "### Exercise:\n",
        "\n",
        "Can you use a for loop with enumerate to remove all odd numbers from `evens`, so that `evens` contains all the even digits? Use `pop` or `del`, don't use `remove` for this."
      ]
    },
    {
      "cell_type": "code",
      "execution_count": null,
      "metadata": {
        "colab": {
          "base_uri": "https://localhost:8080/"
        },
        "id": "1wIW_sRWwCxm",
        "outputId": "07c8cff2-6f4c-44c6-a0a7-509a54335355"
      },
      "outputs": [
        {
          "name": "stdout",
          "output_type": "stream",
          "text": [
            "[1, 2, 3, 4, 5, 6, 7, 8, 9]\n"
          ]
        }
      ],
      "source": [
        "evens = list(range(1,10))\n",
        "print(evens)"
      ]
    },
    {
      "cell_type": "code",
      "execution_count": null,
      "metadata": {
        "id": "Oy_t3aL6jTLO",
        "outputId": "b82c5ebb-f00b-4b4f-bb1e-eac288b168f9"
      },
      "outputs": [
        {
          "name": "stdout",
          "output_type": "stream",
          "text": [
            "[2, 4, 6, 8]\n"
          ]
        }
      ],
      "source": []
    },
    {
      "cell_type": "markdown",
      "source": [
        "## (Optional) Zip and product\n",
        "\n",
        "If you are finished early or want to go in more depth at home, there are many more functions that can be used for for loops. Two useful ones are `zip` and `product`:"
      ],
      "metadata": {
        "id": "UYIkkuLAC_vM"
      }
    },
    {
      "cell_type": "code",
      "source": [
        "help(zip)"
      ],
      "metadata": {
        "colab": {
          "base_uri": "https://localhost:8080/"
        },
        "id": "B9XvCT3qD9ig",
        "outputId": "9edf0f9e-e1d8-41b5-a585-196dbb700a46"
      },
      "execution_count": null,
      "outputs": [
        {
          "output_type": "stream",
          "name": "stdout",
          "text": [
            "Help on class zip in module builtins:\n",
            "\n",
            "class zip(object)\n",
            " |  zip(*iterables) --> zip object\n",
            " |  \n",
            " |  Return a zip object whose .__next__() method returns a tuple where\n",
            " |  the i-th element comes from the i-th iterable argument.  The .__next__()\n",
            " |  method continues until the shortest iterable in the argument sequence\n",
            " |  is exhausted and then it raises StopIteration.\n",
            " |  \n",
            " |  Methods defined here:\n",
            " |  \n",
            " |  __getattribute__(self, name, /)\n",
            " |      Return getattr(self, name).\n",
            " |  \n",
            " |  __iter__(self, /)\n",
            " |      Implement iter(self).\n",
            " |  \n",
            " |  __next__(self, /)\n",
            " |      Implement next(self).\n",
            " |  \n",
            " |  __reduce__(...)\n",
            " |      Return state information for pickling.\n",
            " |  \n",
            " |  ----------------------------------------------------------------------\n",
            " |  Static methods defined here:\n",
            " |  \n",
            " |  __new__(*args, **kwargs) from builtins.type\n",
            " |      Create and return a new object.  See help(type) for accurate signature.\n",
            "\n"
          ]
        }
      ]
    },
    {
      "cell_type": "code",
      "source": [
        "from itertools import product # This method is available in an extension package that is a part of basic Python\n",
        "help(product)"
      ],
      "metadata": {
        "colab": {
          "base_uri": "https://localhost:8080/"
        },
        "id": "HjXDI8OiD_Vh",
        "outputId": "fb414ddd-bf08-4fcd-ab29-951568c910a4"
      },
      "execution_count": null,
      "outputs": [
        {
          "output_type": "stream",
          "name": "stdout",
          "text": [
            "Help on class product in module itertools:\n",
            "\n",
            "class product(builtins.object)\n",
            " |  product(*iterables, repeat=1) --> product object\n",
            " |  \n",
            " |  Cartesian product of input iterables.  Equivalent to nested for-loops.\n",
            " |  \n",
            " |  For example, product(A, B) returns the same as:  ((x,y) for x in A for y in B).\n",
            " |  The leftmost iterators are in the outermost for-loop, so the output tuples\n",
            " |  cycle in a manner similar to an odometer (with the rightmost element changing\n",
            " |  on every iteration).\n",
            " |  \n",
            " |  To compute the product of an iterable with itself, specify the number\n",
            " |  of repetitions with the optional repeat keyword argument. For example,\n",
            " |  product(A, repeat=4) means the same as product(A, A, A, A).\n",
            " |  \n",
            " |  product('ab', range(3)) --> ('a',0) ('a',1) ('a',2) ('b',0) ('b',1) ('b',2)\n",
            " |  product((0,1), (0,1), (0,1)) --> (0,0,0) (0,0,1) (0,1,0) (0,1,1) (1,0,0) ...\n",
            " |  \n",
            " |  Methods defined here:\n",
            " |  \n",
            " |  __getattribute__(self, name, /)\n",
            " |      Return getattr(self, name).\n",
            " |  \n",
            " |  __iter__(self, /)\n",
            " |      Implement iter(self).\n",
            " |  \n",
            " |  __next__(self, /)\n",
            " |      Implement next(self).\n",
            " |  \n",
            " |  __reduce__(...)\n",
            " |      Return state information for pickling.\n",
            " |  \n",
            " |  __setstate__(...)\n",
            " |      Set state information for unpickling.\n",
            " |  \n",
            " |  __sizeof__(...)\n",
            " |      Returns size in memory, in bytes.\n",
            " |  \n",
            " |  ----------------------------------------------------------------------\n",
            " |  Static methods defined here:\n",
            " |  \n",
            " |  __new__(*args, **kwargs) from builtins.type\n",
            " |      Create and return a new object.  See help(type) for accurate signature.\n",
            "\n"
          ]
        }
      ]
    },
    {
      "cell_type": "markdown",
      "metadata": {
        "id": "e0-0-KoFcd3Q"
      },
      "source": [
        "Commit & Switch"
      ]
    },
    {
      "cell_type": "markdown",
      "metadata": {
        "id": "yW9lTC09XFH9"
      },
      "source": [
        "# While loops\n",
        "\n",
        "While loops, unlike for loops, will iterate indefinitely, until the condition following the while is False. You might want to do this if you are using an iterative algorithm where you want the performance to get above a certain level before stopping, for example with machine learning (more on this later)."
      ]
    },
    {
      "cell_type": "code",
      "execution_count": null,
      "metadata": {
        "id": "peOupu0RI8JZ"
      },
      "outputs": [],
      "source": [
        "# While loops\n",
        "# find largest power of 2 less than 9000\n",
        "power = 0\n",
        "exponentiated = 1\n",
        "while exponentiated < 9000:\n",
        "  exponentiated*=2\n",
        "  power +=1\n",
        "power-=1\n",
        "print(2**power)"
      ]
    },
    {
      "cell_type": "markdown",
      "metadata": {
        "id": "BAuzUIArcd3Q"
      },
      "source": [
        "If you put a condition that is never False, your code may run indefinitely, and you may have to interrupt your kernel to get it to stop.\n",
        "\n",
        "`pass` is a statement used as a placeholder when code is required syntactically but nothing is written yet."
      ]
    },
    {
      "cell_type": "code",
      "execution_count": null,
      "metadata": {
        "id": "ssSWSwWocd3Q"
      },
      "outputs": [],
      "source": [
        "while True:"
      ]
    },
    {
      "cell_type": "code",
      "execution_count": null,
      "metadata": {
        "id": "gkqhOwW-cd3Q"
      },
      "outputs": [],
      "source": [
        "while True:\n",
        "    pass"
      ]
    },
    {
      "cell_type": "markdown",
      "metadata": {
        "id": "Ji5YtRefcd3Q"
      },
      "source": [
        "## Exercise:\n",
        "Write a while loop that finds the largest number that divides 514."
      ]
    },
    {
      "cell_type": "code",
      "execution_count": null,
      "metadata": {
        "id": "zSfx7fwvXKRP"
      },
      "outputs": [],
      "source": []
    },
    {
      "cell_type": "markdown",
      "metadata": {
        "id": "UsuwA6bLXH3a"
      },
      "source": [
        "# Break and Continue\n",
        "\n",
        "`break` and `continue` are statements that can be used within loops. \n",
        "\n",
        "When code reaches a `continue` statement, it jumps to the next iteration of the loop without running the rest of the code in the loop.\n",
        "\n",
        "When code reaches a `break` statement it jumps outside the loop (skipping any remaining iterations) without running the rest of the code in the loop."
      ]
    },
    {
      "cell_type": "code",
      "execution_count": null,
      "metadata": {
        "id": "UEAZHnq8L_9S"
      },
      "outputs": [],
      "source": [
        " # break and continue\n",
        "for i in range(100):\n",
        "    if i%2==0:\n",
        "      continue # skip the statements after this and just keep going\n",
        "    print(i)\n",
        "    if i%51 ==0:\n",
        "      break # stop iterating through the loop."
      ]
    },
    {
      "cell_type": "markdown",
      "metadata": {
        "id": "8S5vIY-Acd3Q"
      },
      "source": [
        "## Exercises\n",
        "\n",
        "1. Fix this code so it runs using something we just learned about in the While Loop section (not a while loop, scroll up to see what else we learned in that section)."
      ]
    },
    {
      "cell_type": "code",
      "execution_count": null,
      "metadata": {
        "id": "zyqY-mp5cd3R"
      },
      "outputs": [],
      "source": [
        "for i in range(10):"
      ]
    },
    {
      "cell_type": "markdown",
      "metadata": {
        "id": "p-IqL4gmcd3R"
      },
      "source": [
        "2. Add something we just learned about to this code so the last thing it prints is 10."
      ]
    },
    {
      "cell_type": "code",
      "execution_count": null,
      "metadata": {
        "id": "Z8-cMFqXcd3R"
      },
      "outputs": [],
      "source": [
        "for i in range(15,-1,-1):\n",
        "    print(i)"
      ]
    },
    {
      "cell_type": "markdown",
      "metadata": {
        "id": "gNg_ywtJcd3R"
      },
      "source": [
        "3. Add something we just learned to the below code so it doesn't print multiples of 3"
      ]
    },
    {
      "cell_type": "code",
      "execution_count": null,
      "metadata": {
        "id": "te0Hsyp6cd3R"
      },
      "outputs": [],
      "source": [
        "for i in range(10):\n",
        "    print(i)"
      ]
    },
    {
      "cell_type": "markdown",
      "metadata": {
        "id": "ACTqOGFDKpLN"
      },
      "source": [
        "# Functions\n",
        "\n",
        "Remember fibonacci from last week? What if we wanted to be able to calculate fibonacci up to any number? We can use functions for this."
      ]
    },
    {
      "cell_type": "code",
      "execution_count": null,
      "metadata": {
        "id": "W7IJztF2LjWV"
      },
      "outputs": [],
      "source": [
        "\n",
        "def fibonacci(n):\n",
        "  \"\"\" \n",
        "  Print fibonnacci series up to n.\n",
        "  Args:\n",
        "      n (int): Maximum value of the fibonacci series to print.\n",
        "\n",
        "  \"\"\"\n",
        "  a,b = 0, 1\n",
        "  while a <n:\n",
        "    print(a)\n",
        "    next= a+b\n",
        "    a = b\n",
        "    b = next\n"
      ]
    },
    {
      "cell_type": "code",
      "execution_count": null,
      "metadata": {
        "colab": {
          "base_uri": "https://localhost:8080/"
        },
        "id": "MaX0kYVjLywA",
        "outputId": "22a25660-824c-4a90-e64e-5eee5d8c6922"
      },
      "outputs": [
        {
          "name": "stdout",
          "output_type": "stream",
          "text": [
            "0\n",
            "1\n",
            "1\n",
            "2\n",
            "3\n",
            "5\n",
            "8\n",
            "13\n",
            "21\n",
            "34\n",
            "55\n",
            "89\n",
            "144\n",
            "233\n",
            "377\n",
            "610\n",
            "987\n",
            "1597\n",
            "2584\n"
          ]
        }
      ],
      "source": [
        "fibonacci (3000)"
      ]
    },
    {
      "cell_type": "code",
      "execution_count": null,
      "metadata": {
        "colab": {
          "base_uri": "https://localhost:8080/"
        },
        "id": "6_SHo5e9L3Tm",
        "outputId": "573fee9d-ce9c-48f6-f5b9-40c394a5ab16"
      },
      "outputs": [
        {
          "name": "stdout",
          "output_type": "stream",
          "text": [
            "Help on function fibonacci in module __main__:\n",
            "\n",
            "fibonacci(n)\n",
            "    Print fibonnacci series up to n.\n",
            "    Args:\n",
            "        n (int): Maximum value of the fibonacci series to print.\n",
            "\n"
          ]
        }
      ],
      "source": [
        "help(fibonacci)"
      ]
    },
    {
      "cell_type": "markdown",
      "metadata": {
        "id": "UkNyOI3EMwWl"
      },
      "source": [
        "## return"
      ]
    },
    {
      "cell_type": "code",
      "execution_count": null,
      "metadata": {
        "id": "yxURaD0hMyiv"
      },
      "outputs": [],
      "source": [
        "def fib_return (n):\n",
        "  \"\"\" \n",
        "  Print fibonnacci series up to n.\n",
        "  Args:\n",
        "      n (int): Maximum value of the fibonacci series to return.\n",
        "  Returns:\n",
        "      list: List of fibonacci sequence values\n",
        "  \"\"\"\n",
        "\n",
        "  fib_list = []\n",
        "  a,b = 0, 1\n",
        "  while a <n:\n",
        "    fib_list.append(a)\n",
        "    next= a+b\n",
        "    a = b\n",
        "    b = next\n",
        "  return fib_list"
      ]
    },
    {
      "cell_type": "code",
      "execution_count": null,
      "metadata": {
        "colab": {
          "base_uri": "https://localhost:8080/"
        },
        "id": "tPdhbbclNVzL",
        "outputId": "2df09202-6a2f-460a-8646-6e82c2119484"
      },
      "outputs": [
        {
          "output_type": "execute_result",
          "data": {
            "text/plain": [
              "[0, 1, 1, 2, 3, 5, 8, 13, 21, 34, 55, 89, 144, 233, 377, 610, 987]"
            ]
          },
          "metadata": {},
          "execution_count": 21
        }
      ],
      "source": [
        "fib_return(1000)"
      ]
    },
    {
      "cell_type": "code",
      "execution_count": null,
      "metadata": {
        "id": "xajaFnEaNW-L"
      },
      "outputs": [],
      "source": [
        "my_fib_list = fib_return(1000)"
      ]
    },
    {
      "cell_type": "code",
      "execution_count": null,
      "metadata": {
        "id": "yrvwzbQ-NbzJ"
      },
      "outputs": [],
      "source": [
        "# now we can do things with these numbers, for example, can you tell me how many are odd?"
      ]
    },
    {
      "cell_type": "code",
      "execution_count": null,
      "metadata": {
        "colab": {
          "base_uri": "https://localhost:8080/"
        },
        "id": "DsQpmekmNm_n",
        "outputId": "8e78f32b-7847-4b0f-c425-f7e23ea016fd"
      },
      "outputs": [
        {
          "name": "stdout",
          "output_type": "stream",
          "text": [
            "6\n"
          ]
        }
      ],
      "source": [
        "count = 0\n",
        "for entry in my_fib_list:\n",
        "  if entry %2 ==0:\n",
        "    count+=1\n",
        "print(count)"
      ]
    },
    {
      "cell_type": "code",
      "execution_count": null,
      "metadata": {
        "colab": {
          "base_uri": "https://localhost:8080/"
        },
        "id": "ST51mmx4NiI1",
        "outputId": "8053685d-162e-4244-c7d8-7aba951b1688"
      },
      "outputs": [
        {
          "data": {
            "text/plain": [
              "6"
            ]
          },
          "execution_count": 17,
          "metadata": {},
          "output_type": "execute_result"
        }
      ],
      "source": [
        "# We can introduce this kind of writing too\n",
        "\n",
        "sum([entry %2==0 for entry in my_fib_list])"
      ]
    },
    {
      "cell_type": "markdown",
      "source": [
        "## Default arguments"
      ],
      "metadata": {
        "id": "1s2FZYoLMH_e"
      }
    },
    {
      "cell_type": "code",
      "source": [
        "# We cannot run fib_return without specifying n:\n",
        "fib_return()"
      ],
      "metadata": {
        "colab": {
          "base_uri": "https://localhost:8080/",
          "height": 185
        },
        "id": "7keLw1rjMKAR",
        "outputId": "e23993e3-dd78-4089-e439-efff96645a8b"
      },
      "execution_count": null,
      "outputs": [
        {
          "output_type": "error",
          "ename": "TypeError",
          "evalue": "ignored",
          "traceback": [
            "\u001b[0;31m---------------------------------------------------------------------------\u001b[0m",
            "\u001b[0;31mTypeError\u001b[0m                                 Traceback (most recent call last)",
            "\u001b[0;32m<ipython-input-22-cce18456263e>\u001b[0m in \u001b[0;36m<module>\u001b[0;34m\u001b[0m\n\u001b[1;32m      1\u001b[0m \u001b[0;31m# We cannot run fib_return without specifying n:\u001b[0m\u001b[0;34m\u001b[0m\u001b[0;34m\u001b[0m\u001b[0;34m\u001b[0m\u001b[0m\n\u001b[0;32m----> 2\u001b[0;31m \u001b[0mfib_return\u001b[0m\u001b[0;34m(\u001b[0m\u001b[0;34m)\u001b[0m\u001b[0;34m\u001b[0m\u001b[0;34m\u001b[0m\u001b[0m\n\u001b[0m",
            "\u001b[0;31mTypeError\u001b[0m: fib_return() missing 1 required positional argument: 'n'"
          ]
        }
      ]
    },
    {
      "cell_type": "code",
      "source": [
        "# Default arguments can be specified but don't have to be:\n",
        "def fib_return (n=1):\n",
        "  \"\"\" \n",
        "  Print fibonnacci series up to n.\n",
        "  Args:\n",
        "      n (int): Maximum value of the fibonacci series to return. Default value is 1.\n",
        "  Returns:\n",
        "      list: List of fibonacci sequence values\n",
        "  \"\"\"\n",
        "\n",
        "  fib_list = []\n",
        "  a,b = 0, 1\n",
        "  while a <n:\n",
        "    fib_list.append(a)\n",
        "    next= a+b\n",
        "    a = b\n",
        "    b = next\n",
        "  return fib_list"
      ],
      "metadata": {
        "id": "OR9FPTvtMEdl"
      },
      "execution_count": null,
      "outputs": []
    },
    {
      "cell_type": "code",
      "source": [
        "fib_return()"
      ],
      "metadata": {
        "colab": {
          "base_uri": "https://localhost:8080/"
        },
        "id": "5gdYbJT5Mq8Y",
        "outputId": "88e956a9-4bf5-4ede-d5ca-269a668e65a7"
      },
      "execution_count": null,
      "outputs": [
        {
          "output_type": "execute_result",
          "data": {
            "text/plain": [
              "[0]"
            ]
          },
          "metadata": {},
          "execution_count": 24
        }
      ]
    },
    {
      "cell_type": "code",
      "source": [
        "fib_return(10)"
      ],
      "metadata": {
        "id": "pyqV-HW5Msc1",
        "outputId": "af350615-a29a-42c9-9b1b-cf57ee4ec429",
        "colab": {
          "base_uri": "https://localhost:8080/"
        }
      },
      "execution_count": null,
      "outputs": [
        {
          "output_type": "execute_result",
          "data": {
            "text/plain": [
              "[0, 1, 1, 2, 3, 5, 8]"
            ]
          },
          "metadata": {},
          "execution_count": 25
        }
      ]
    },
    {
      "cell_type": "code",
      "execution_count": null,
      "metadata": {
        "id": "T8DuV29ySpKz"
      },
      "outputs": [],
      "source": [
        "# Warning about default args -- evaluated when function is created  -- what do you think this will print?"
      ]
    },
    {
      "cell_type": "code",
      "execution_count": null,
      "metadata": {
        "colab": {
          "base_uri": "https://localhost:8080/"
        },
        "id": "gMTzFiStSub1",
        "outputId": "2d8db2e7-041b-4db7-db41-8bf077c56210"
      },
      "outputs": [
        {
          "name": "stdout",
          "output_type": "stream",
          "text": [
            "5\n"
          ]
        }
      ],
      "source": [
        "i=5\n",
        "def f(arg=i):\n",
        "  print(arg)\n",
        "\n",
        "i=1\n",
        "f()"
      ]
    },
    {
      "cell_type": "code",
      "execution_count": null,
      "metadata": {
        "colab": {
          "base_uri": "https://localhost:8080/"
        },
        "id": "Jjm6CPm9S15v",
        "outputId": "c5ccc625-5b67-4a90-dbe1-68004578bc62"
      },
      "outputs": [
        {
          "name": "stdout",
          "output_type": "stream",
          "text": [
            "5\n"
          ]
        }
      ],
      "source": [
        "f()"
      ]
    },
    {
      "cell_type": "code",
      "execution_count": null,
      "metadata": {
        "colab": {
          "base_uri": "https://localhost:8080/"
        },
        "id": "1loag1gWS4pc",
        "outputId": "896fc201-b771-4fcf-c834-0db9e6333238"
      },
      "outputs": [
        {
          "name": "stdout",
          "output_type": "stream",
          "text": [
            "6\n",
            "5\n"
          ]
        }
      ],
      "source": [
        "i=5\n",
        "def f(arg=i):\n",
        "  print(arg)\n",
        "  i=arg\n",
        "\n",
        "f(6)\n",
        "print(i) # local scope of variables inside a function, return things you want to update"
      ]
    },
    {
      "cell_type": "code",
      "execution_count": null,
      "metadata": {
        "colab": {
          "base_uri": "https://localhost:8080/"
        },
        "id": "A4zFFevzTIAP",
        "outputId": "9460f466-92c0-4e16-fb31-853f5fd96686"
      },
      "outputs": [
        {
          "name": "stdout",
          "output_type": "stream",
          "text": [
            "6\n",
            "6\n"
          ]
        }
      ],
      "source": [
        "i=5\n",
        "def f(arg=i):\n",
        "  print(arg)\n",
        "  return arg\n",
        "\n",
        "i=f(6)\n",
        "print(i) # local scope of variables inside a function, return things you want to update"
      ]
    },
    {
      "cell_type": "code",
      "execution_count": null,
      "metadata": {
        "colab": {
          "base_uri": "https://localhost:8080/"
        },
        "id": "FEe2sGZTTUqw",
        "outputId": "f5168902-d1fa-4ed5-ebf4-9915e5b859cf"
      },
      "outputs": [
        {
          "name": "stdout",
          "output_type": "stream",
          "text": [
            "[1]\n",
            "[1, 2]\n",
            "[1, 2, 3]\n"
          ]
        }
      ],
      "source": [
        "# mutable arguments\n",
        "\n",
        "def f(a, L=[]):\n",
        "    L.append(a)\n",
        "    return L\n",
        "\n",
        "print(f(1)) # predict what will happen?\n",
        "print(f(2))\n",
        "print(f(3))"
      ]
    },
    {
      "cell_type": "code",
      "execution_count": null,
      "metadata": {
        "id": "Ij8zEqwlTd-r"
      },
      "outputs": [],
      "source": [
        "# How could we fix this?\n",
        "def f(a, L=None):\n",
        "    if L is None:\n",
        "        L = []\n",
        "    L.append(a)\n",
        "    return L"
      ]
    },
    {
      "cell_type": "code",
      "execution_count": null,
      "metadata": {
        "colab": {
          "base_uri": "https://localhost:8080/"
        },
        "id": "4FCfXmehTiX7",
        "outputId": "85698fff-86d9-484b-ea0c-a69559960e0e"
      },
      "outputs": [
        {
          "name": "stdout",
          "output_type": "stream",
          "text": [
            "[1]\n",
            "[2]\n",
            "[3]\n"
          ]
        }
      ],
      "source": [
        "print(f(1)) # predict what will happen?\n",
        "print(f(2))\n",
        "print(f(3))"
      ]
    },
    {
      "cell_type": "code",
      "execution_count": null,
      "metadata": {
        "id": "GAxTu1dETjuF"
      },
      "outputs": [],
      "source": [
        "def f(*args, **keyword_dict):\n",
        "  print(args)\n",
        "  print(keyword_dict)"
      ]
    },
    {
      "cell_type": "code",
      "execution_count": null,
      "metadata": {
        "colab": {
          "base_uri": "https://localhost:8080/"
        },
        "id": "5RYASO6fUnHk",
        "outputId": "769ccade-0a51-4198-865b-3a61ebb606a7"
      },
      "outputs": [
        {
          "name": "stdout",
          "output_type": "stream",
          "text": [
            "(1, 2, 3)\n",
            "{'a': 4, 'b': 5, 'c': 6}\n"
          ]
        }
      ],
      "source": [
        "\n",
        "f(1,2,3, a=4, b=5,c=6)"
      ]
    },
    {
      "cell_type": "markdown",
      "source": [
        "## Exercise"
      ],
      "metadata": {
        "id": "Z1gUnJvgX2nN"
      }
    },
    {
      "cell_type": "markdown",
      "source": [
        "Write a function (called `collatz`) that takes in a starting value and returns a sequence following the following rule:\n",
        "- if the previous value $n$ was even, the next value is $n/2$.\n",
        "- if the previous value was odd, the next value is $3n+1$.\n",
        "Let the function end when the value taken is $1$."
      ],
      "metadata": {
        "id": "qAxQ1ckoX6aa"
      }
    },
    {
      "cell_type": "code",
      "source": [],
      "metadata": {
        "id": "pCbeupqJX4sg"
      },
      "execution_count": null,
      "outputs": []
    },
    {
      "cell_type": "code",
      "source": [
        "collatz(2)\n",
        "\n",
        "collatz(5)\n",
        "\n",
        "collatz(1000)"
      ],
      "metadata": {
        "id": "LM_xJGLvZ9ZM"
      },
      "execution_count": null,
      "outputs": []
    },
    {
      "cell_type": "markdown",
      "source": [
        "# Errors\n",
        "\n",
        "By now, we have seen several pieces of code that have failed to run. In that case, Python does not only raise an error, but also specifies what exactly went wrong."
      ],
      "metadata": {
        "id": "z4YPIlu2HI7F"
      }
    },
    {
      "cell_type": "code",
      "source": [
        "# A syntax error indicates that your code is not properly formatted:\n",
        "a = 2\n",
        "print(a+3"
      ],
      "metadata": {
        "colab": {
          "base_uri": "https://localhost:8080/",
          "height": 132
        },
        "id": "F1GYYda3HJxJ",
        "outputId": "2d21948a-374b-47dd-a8c1-a3ca1ebc9abb"
      },
      "execution_count": null,
      "outputs": [
        {
          "output_type": "error",
          "ename": "SyntaxError",
          "evalue": "ignored",
          "traceback": [
            "\u001b[0;36m  File \u001b[0;32m\"<ipython-input-12-b6feb4cd4265>\"\u001b[0;36m, line \u001b[0;32m3\u001b[0m\n\u001b[0;31m    print(a+3\u001b[0m\n\u001b[0m             ^\u001b[0m\n\u001b[0;31mSyntaxError\u001b[0m\u001b[0;31m:\u001b[0m unexpected EOF while parsing\n"
          ]
        }
      ]
    },
    {
      "cell_type": "code",
      "source": [
        "# A type error indicates that a function received an input of the wrong type\n",
        "a = '2'\n",
        "print(a+3)"
      ],
      "metadata": {
        "colab": {
          "base_uri": "https://localhost:8080/",
          "height": 202
        },
        "id": "2mAQwq28JLrE",
        "outputId": "1b61f5f6-6aa3-4d7e-c504-970e56cfcf4f"
      },
      "execution_count": null,
      "outputs": [
        {
          "output_type": "error",
          "ename": "TypeError",
          "evalue": "ignored",
          "traceback": [
            "\u001b[0;31m---------------------------------------------------------------------------\u001b[0m",
            "\u001b[0;31mTypeError\u001b[0m                                 Traceback (most recent call last)",
            "\u001b[0;32m<ipython-input-14-f23b80307e1b>\u001b[0m in \u001b[0;36m<module>\u001b[0;34m\u001b[0m\n\u001b[1;32m      1\u001b[0m \u001b[0;31m# A type error indicates that a function received an input of the wrong type\u001b[0m\u001b[0;34m\u001b[0m\u001b[0;34m\u001b[0m\u001b[0;34m\u001b[0m\u001b[0m\n\u001b[1;32m      2\u001b[0m \u001b[0ma\u001b[0m \u001b[0;34m=\u001b[0m \u001b[0;34m'2'\u001b[0m\u001b[0;34m\u001b[0m\u001b[0;34m\u001b[0m\u001b[0m\n\u001b[0;32m----> 3\u001b[0;31m \u001b[0mprint\u001b[0m\u001b[0;34m(\u001b[0m\u001b[0ma\u001b[0m\u001b[0;34m+\u001b[0m\u001b[0;36m3\u001b[0m\u001b[0;34m)\u001b[0m\u001b[0;34m\u001b[0m\u001b[0;34m\u001b[0m\u001b[0m\n\u001b[0m",
            "\u001b[0;31mTypeError\u001b[0m: can only concatenate str (not \"int\") to str"
          ]
        }
      ]
    },
    {
      "cell_type": "code",
      "source": [
        "# An index error suggests that it is not possible to index an object in the attempted way.\n",
        "a = [2, 3]\n",
        "a[3]"
      ],
      "metadata": {
        "colab": {
          "base_uri": "https://localhost:8080/",
          "height": 202
        },
        "id": "P6EtkeuuJe3I",
        "outputId": "fdc7aa80-c6a3-4cb5-b24a-53e632d5c594"
      },
      "execution_count": null,
      "outputs": [
        {
          "output_type": "error",
          "ename": "IndexError",
          "evalue": "ignored",
          "traceback": [
            "\u001b[0;31m---------------------------------------------------------------------------\u001b[0m",
            "\u001b[0;31mIndexError\u001b[0m                                Traceback (most recent call last)",
            "\u001b[0;32m<ipython-input-16-2b3811123e77>\u001b[0m in \u001b[0;36m<module>\u001b[0;34m\u001b[0m\n\u001b[1;32m      1\u001b[0m \u001b[0;31m# An index error suggests that it is not possible to index an object in the attempted way.\u001b[0m\u001b[0;34m\u001b[0m\u001b[0;34m\u001b[0m\u001b[0;34m\u001b[0m\u001b[0m\n\u001b[1;32m      2\u001b[0m \u001b[0ma\u001b[0m \u001b[0;34m=\u001b[0m \u001b[0;34m[\u001b[0m\u001b[0;36m2\u001b[0m\u001b[0;34m,\u001b[0m \u001b[0;36m3\u001b[0m\u001b[0;34m]\u001b[0m\u001b[0;34m\u001b[0m\u001b[0;34m\u001b[0m\u001b[0m\n\u001b[0;32m----> 3\u001b[0;31m \u001b[0ma\u001b[0m\u001b[0;34m[\u001b[0m\u001b[0;36m3\u001b[0m\u001b[0;34m]\u001b[0m\u001b[0;34m\u001b[0m\u001b[0;34m\u001b[0m\u001b[0m\n\u001b[0m",
            "\u001b[0;31mIndexError\u001b[0m: list index out of range"
          ]
        }
      ]
    },
    {
      "cell_type": "markdown",
      "source": [
        "You can return errors yourself using the command `raise`:"
      ],
      "metadata": {
        "id": "wbf3mJarJ13C"
      }
    },
    {
      "cell_type": "code",
      "source": [
        "a = 3\n",
        "if a == 3:\n",
        "  raise ValueError('a should not be three')"
      ],
      "metadata": {
        "colab": {
          "base_uri": "https://localhost:8080/",
          "height": 202
        },
        "id": "PazoBY2BJ6mP",
        "outputId": "5e32e212-e11a-47cd-87e3-371a610b1330"
      },
      "execution_count": null,
      "outputs": [
        {
          "output_type": "error",
          "ename": "ValueError",
          "evalue": "ignored",
          "traceback": [
            "\u001b[0;31m---------------------------------------------------------------------------\u001b[0m",
            "\u001b[0;31mValueError\u001b[0m                                Traceback (most recent call last)",
            "\u001b[0;32m<ipython-input-17-ddc65d947cef>\u001b[0m in \u001b[0;36m<module>\u001b[0;34m\u001b[0m\n\u001b[1;32m      1\u001b[0m \u001b[0ma\u001b[0m \u001b[0;34m=\u001b[0m \u001b[0;36m3\u001b[0m\u001b[0;34m\u001b[0m\u001b[0;34m\u001b[0m\u001b[0m\n\u001b[1;32m      2\u001b[0m \u001b[0;32mif\u001b[0m \u001b[0ma\u001b[0m \u001b[0;34m==\u001b[0m \u001b[0;36m3\u001b[0m\u001b[0;34m:\u001b[0m\u001b[0;34m\u001b[0m\u001b[0;34m\u001b[0m\u001b[0m\n\u001b[0;32m----> 3\u001b[0;31m   \u001b[0;32mraise\u001b[0m \u001b[0mValueError\u001b[0m\u001b[0;34m(\u001b[0m\u001b[0;34m'a should not be three'\u001b[0m\u001b[0;34m)\u001b[0m\u001b[0;34m\u001b[0m\u001b[0;34m\u001b[0m\u001b[0m\n\u001b[0m",
            "\u001b[0;31mValueError\u001b[0m: a should not be three"
          ]
        }
      ]
    },
    {
      "cell_type": "markdown",
      "source": [
        "## Exercise\n",
        "Write a function `integer_add` that takes two arguments and adds them together. If either of the arguments are not integers, it should raise an error. What is the correct error for this issue?"
      ],
      "metadata": {
        "id": "aSeePGDQKfjt"
      }
    },
    {
      "cell_type": "markdown",
      "metadata": {
        "id": "69tzIjsSlnLg"
      },
      "source": [
        "# Try / Except\n",
        "\n",
        "\n",
        "`try` tries the code in the `try` codeblock, and if it gives an error, runs code in an `except` code block. Best practice is to specify the errors you expect in the `except` statement so that you don't accidentally allow an unexpected error to go by unreported and unnoticed.\n",
        "\n",
        "For example, lets say that we want to count the number of occurrences of each letter in a given word -- for this example we will use abracadabra, but we want our code to work on any word.\n",
        "\n",
        "We might decide to do this using a dictionary where the keys are the letters and the values are the number of times that letter has occurred. We only want to have letters that do occur in the word as keys in our dictionary."
      ]
    },
    {
      "cell_type": "code",
      "execution_count": null,
      "metadata": {
        "id": "LoeAK22yl0I1"
      },
      "outputs": [],
      "source": [
        "word = \"abracadabra\"\n",
        "\n",
        "letter_counts = {}\n",
        "for letter in word: # we can loop through strings like lists or tuples.\n",
        "  letter_counts[letter]+=1 # add one to the value at key letter"
      ]
    },
    {
      "cell_type": "code",
      "execution_count": null,
      "metadata": {
        "id": "NjStbt0fmhN3"
      },
      "outputs": [],
      "source": [
        "word = \"abracadabra\"\n",
        "\n",
        "\n",
        "letter_counts = {}\n",
        "for letter in word:\n",
        "  try:\n",
        "    letter_counts[letter]+=1\n",
        "  except KeyError: # we specify the type of error we expect here\n",
        "    letter_counts[letter] = 1\n",
        "\n",
        "print(letter_counts)"
      ]
    },
    {
      "cell_type": "markdown",
      "metadata": {
        "id": "BfAqgKC9niNE"
      },
      "source": [
        "See below for why it is important to specify the type of error you expect. Since we specified the type of error we expected and got a different error, we still find out that there is an error, and can take precautions to make sure we don't, for example, overwrite important info."
      ]
    },
    {
      "cell_type": "code",
      "execution_count": null,
      "metadata": {
        "id": "6CP-Ds3TncpL"
      },
      "outputs": [],
      "source": [
        "word = \"abracadabra\"\n",
        "\n",
        "\n",
        "letter_counts = {}\n",
        "letter_counts['a'] = \"important info that should not be overwritten\" # something unexpected as a value\n",
        "for letter in word:\n",
        "  try:\n",
        "    letter_counts[letter]+=1\n",
        "  except KeyError: # we specify the type of error we expect here\n",
        "    letter_counts[letter] = 1\n",
        "\n",
        "print(letter_counts)"
      ]
    },
    {
      "cell_type": "markdown",
      "metadata": {
        "id": "jF2KxGiMn_Ye"
      },
      "source": [
        "What happens if you do not specify KeyError after `except` and just write `except:`?\n",
        "\n",
        "Try modifying below."
      ]
    },
    {
      "cell_type": "code",
      "execution_count": null,
      "metadata": {
        "id": "tw28VBnGn3Bd"
      },
      "outputs": [],
      "source": [
        "word = \"abracadabra\"\n",
        "\n",
        "\n",
        "letter_counts = {}\n",
        "letter_counts['a'] = \"important info that should not be overwritten\" # something unexpected as a value\n",
        "for letter in word:\n",
        "  try:\n",
        "    letter_counts[letter]+=1\n",
        "  except KeyError: # we specify the type of error we expect here\n",
        "    letter_counts[letter] = 1\n",
        "\n",
        "print(letter_counts)"
      ]
    },
    {
      "cell_type": "markdown",
      "metadata": {
        "id": "MJGOvgPApCTJ"
      },
      "source": [
        "### Exercise:\n",
        "Use try/except to write code that takes numbers a and b and prints a/b. If it gets an error (for example b is 0), it should instead print \"Cannot divide by zero\". Try your code with a few different choices of a and b to make sure it works correctly."
      ]
    },
    {
      "cell_type": "code",
      "execution_count": null,
      "metadata": {
        "id": "tFZpyEgPon0U"
      },
      "outputs": [],
      "source": [
        "a=2\n",
        "b=0"
      ]
    }
  ]
}