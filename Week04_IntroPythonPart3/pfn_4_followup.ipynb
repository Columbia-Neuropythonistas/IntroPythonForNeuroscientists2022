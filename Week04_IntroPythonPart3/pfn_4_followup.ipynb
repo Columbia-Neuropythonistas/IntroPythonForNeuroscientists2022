{
  "nbformat": 4,
  "nbformat_minor": 0,
  "metadata": {
    "colab": {
      "provenance": [],
      "collapsed_sections": []
    },
    "kernelspec": {
      "name": "python3",
      "display_name": "Python 3"
    },
    "language_info": {
      "name": "python"
    }
  },
  "cells": [
    {
      "cell_type": "markdown",
      "metadata": {
        "id": "utPkDkfSl2o3"
      },
      "source": [
        "# List Comprehension\n",
        "With something called **list comprehension**, you can use a for loop in line to create dictionaries and lists like this:"
      ]
    },
    {
      "cell_type": "code",
      "execution_count": null,
      "metadata": {
        "colab": {
          "base_uri": "https://localhost:8080/"
        },
        "id": "yZhjx5ycmBgP",
        "outputId": "46ec902d-d37c-49b4-ebbd-cc9eef3c7fe2"
      },
      "outputs": [
        {
          "name": "stdout",
          "output_type": "stream",
          "text": [
            "[0, 4, 16]\n",
            "[0, 4, 16]\n"
          ]
        }
      ],
      "source": [
        "my_list = [x**2  for x in range(6) if x%2==0] # only uses x's where the condition is true\n",
        "print(my_list)\n",
        "\n",
        "# The above code is equivalent to:\n",
        "my_list = []\n",
        "for x in range(6):\n",
        "  if x%2 == 0:\n",
        "    my_list.append(x**2)\n",
        "\n",
        "print(my_list)"
      ]
    },
    {
      "cell_type": "code",
      "execution_count": null,
      "metadata": {
        "colab": {
          "base_uri": "https://localhost:8080/"
        },
        "id": "bydyJ7sFl9YJ",
        "outputId": "995b8188-851b-4182-aa66-56d8a0c235b1"
      },
      "outputs": [
        {
          "name": "stdout",
          "output_type": "stream",
          "text": [
            "{0: 0, 1: 1, 2: 4, 3: 9, 4: 16, 5: 25}\n",
            "{0: 0, 1: 1, 2: 4, 3: 9, 4: 16, 5: 25}\n"
          ]
        }
      ],
      "source": [
        "my_dict = {x:x**2 for x in range(6)}\n",
        "print(my_dict)\n",
        "\n",
        "# The above code is equivalent to:\n",
        "my_dict = {}\n",
        "for x in range(6):\n",
        "  my_dict[x] = x**2\n",
        "\n",
        "print(my_dict)\n"
      ]
    },
    {
      "cell_type": "markdown",
      "source": [
        "### Exercise:\n",
        "1. Create a list using list comprehension where any values between 2 and 10 inclusive that are divisible by 3 are added to the list. Assign the list to a variable called `divisible_3s`.\n",
        "2. Using a for loop, print the index and the value at that index for every element in `divisible_3s`.\n",
        "3. Create a dictionary using list comprehension where the key is $x^3$ and the value is $x^2$ for x's between 1 and 4 inclusive. Assign the dictionary to variable `cube_square`.\n",
        "4. Print the key and value for every key, value pair in `cube_square`"
      ],
      "metadata": {
        "id": "7f4EavzsRXgj"
      }
    },
    {
      "cell_type": "markdown",
      "metadata": {
        "id": "UsuwA6bLXH3a"
      },
      "source": [
        "# Break and Continue\n",
        "\n",
        "`break` and `continue` are statements that can be used within loops. \n",
        "\n",
        "When code reaches a `continue` statement, it jumps to the next iteration of the loop without running the rest of the code in the loop.\n",
        "\n",
        "When code reaches a `break` statement it jumps outside the loop (skipping any remaining iterations) without running the rest of the code in the loop.\n",
        "\n",
        "A `pass` statement, finally is completely ignored. This is useful when code is required syntactically, but you don't actually want to run anything there.\n",
        "\n",
        "For these statements it may not be entirely clear right now what their purpose is, but they become particularly useful in managing more complex code."
      ]
    },
    {
      "cell_type": "code",
      "source": [
        "for i in range(10):\n",
        "  print('New loop')\n",
        "  if i%2==0:\n",
        "    continue\n",
        "  print(i) # This command is skipped for all even numbers"
      ],
      "metadata": {
        "colab": {
          "base_uri": "https://localhost:8080/"
        },
        "id": "UYopzdZeUPJB",
        "outputId": "5d2b13bb-1907-41c6-8648-7dbb601e40c7"
      },
      "execution_count": null,
      "outputs": [
        {
          "output_type": "stream",
          "name": "stdout",
          "text": [
            "New loop\n",
            "New loop\n",
            "1\n",
            "New loop\n",
            "New loop\n",
            "3\n",
            "New loop\n",
            "New loop\n",
            "5\n",
            "New loop\n",
            "New loop\n",
            "7\n",
            "New loop\n",
            "New loop\n",
            "9\n"
          ]
        }
      ]
    },
    {
      "cell_type": "code",
      "source": [
        "for i in range(10):\n",
        "  print('New loop')\n",
        "  if i==5:\n",
        "    break # Leaves the loop completely once it encounters this statement\n",
        "  print(i)"
      ],
      "metadata": {
        "colab": {
          "base_uri": "https://localhost:8080/"
        },
        "id": "qvO4OzE-Ug9p",
        "outputId": "73264ebc-7758-477c-a492-c0006193f270"
      },
      "execution_count": null,
      "outputs": [
        {
          "output_type": "stream",
          "name": "stdout",
          "text": [
            "New loop\n",
            "0\n",
            "New loop\n",
            "1\n",
            "New loop\n",
            "2\n",
            "New loop\n",
            "3\n",
            "New loop\n",
            "4\n",
            "New loop\n"
          ]
        }
      ]
    },
    {
      "cell_type": "code",
      "execution_count": null,
      "metadata": {
        "id": "UEAZHnq8L_9S",
        "colab": {
          "base_uri": "https://localhost:8080/"
        },
        "outputId": "0256c866-a174-424b-9872-cc27a4f8d850"
      },
      "outputs": [
        {
          "output_type": "stream",
          "name": "stdout",
          "text": [
            "New loop\n",
            "0\n",
            "New loop\n",
            "1\n",
            "New loop\n",
            "2\n",
            "New loop\n",
            "3\n",
            "New loop\n",
            "4\n",
            "New loop\n",
            "5\n",
            "New loop\n",
            "6\n",
            "New loop\n",
            "7\n",
            "New loop\n",
            "8\n",
            "New loop\n",
            "9\n"
          ]
        }
      ],
      "source": [
        "for i in range(10):\n",
        "  print('New loop')\n",
        "  if i==5:\n",
        "    pass # Leaves the loop completely once it encounters this statement\n",
        "  print(i)"
      ]
    },
    {
      "cell_type": "markdown",
      "metadata": {
        "id": "8S5vIY-Acd3Q"
      },
      "source": [
        "## Exercises\n",
        "\n",
        "1. Fix this code so it runs."
      ]
    },
    {
      "cell_type": "code",
      "execution_count": null,
      "metadata": {
        "id": "zyqY-mp5cd3R"
      },
      "outputs": [],
      "source": [
        "for i in range(10):"
      ]
    },
    {
      "cell_type": "markdown",
      "metadata": {
        "id": "p-IqL4gmcd3R"
      },
      "source": [
        "2. Add something we just learned about to this code so the last thing it prints is 10."
      ]
    },
    {
      "cell_type": "code",
      "execution_count": null,
      "metadata": {
        "id": "Z8-cMFqXcd3R"
      },
      "outputs": [],
      "source": [
        "for i in range(15,-1,-1):\n",
        "    print(i)"
      ]
    },
    {
      "cell_type": "markdown",
      "metadata": {
        "id": "gNg_ywtJcd3R"
      },
      "source": [
        "3. Add something we just learned to the below code so it doesn't print multiples of 3"
      ]
    },
    {
      "cell_type": "code",
      "execution_count": null,
      "metadata": {
        "id": "te0Hsyp6cd3R"
      },
      "outputs": [],
      "source": [
        "for i in range(10):\n",
        "    print(i)"
      ]
    },
    {
      "cell_type": "markdown",
      "source": [
        "# Some details on functions\n",
        "## Default arguments"
      ],
      "metadata": {
        "id": "1s2FZYoLMH_e"
      }
    },
    {
      "cell_type": "code",
      "source": [
        "# We cannot run fib_return without specifying n:\n",
        "fib_return()"
      ],
      "metadata": {
        "colab": {
          "base_uri": "https://localhost:8080/",
          "height": 185
        },
        "id": "7keLw1rjMKAR",
        "outputId": "e23993e3-dd78-4089-e439-efff96645a8b"
      },
      "execution_count": null,
      "outputs": [
        {
          "output_type": "error",
          "ename": "TypeError",
          "evalue": "ignored",
          "traceback": [
            "\u001b[0;31m---------------------------------------------------------------------------\u001b[0m",
            "\u001b[0;31mTypeError\u001b[0m                                 Traceback (most recent call last)",
            "\u001b[0;32m<ipython-input-22-cce18456263e>\u001b[0m in \u001b[0;36m<module>\u001b[0;34m\u001b[0m\n\u001b[1;32m      1\u001b[0m \u001b[0;31m# We cannot run fib_return without specifying n:\u001b[0m\u001b[0;34m\u001b[0m\u001b[0;34m\u001b[0m\u001b[0;34m\u001b[0m\u001b[0m\n\u001b[0;32m----> 2\u001b[0;31m \u001b[0mfib_return\u001b[0m\u001b[0;34m(\u001b[0m\u001b[0;34m)\u001b[0m\u001b[0;34m\u001b[0m\u001b[0;34m\u001b[0m\u001b[0m\n\u001b[0m",
            "\u001b[0;31mTypeError\u001b[0m: fib_return() missing 1 required positional argument: 'n'"
          ]
        }
      ]
    },
    {
      "cell_type": "code",
      "source": [
        "# Default arguments can be specified but don't have to be:\n",
        "def fib_return (n=1):\n",
        "  \"\"\" \n",
        "  Print fibonnacci series up to n.\n",
        "  Args:\n",
        "      n (int): Maximum value of the fibonacci series to return. Default value is 1.\n",
        "  Returns:\n",
        "      list: List of fibonacci sequence values\n",
        "  \"\"\"\n",
        "\n",
        "  fib_list = []\n",
        "  a,b = 0, 1\n",
        "  while a <n:\n",
        "    fib_list.append(a)\n",
        "    next= a+b\n",
        "    a = b\n",
        "    b = next\n",
        "  return fib_list"
      ],
      "metadata": {
        "id": "OR9FPTvtMEdl"
      },
      "execution_count": null,
      "outputs": []
    },
    {
      "cell_type": "code",
      "source": [
        "fib_return()"
      ],
      "metadata": {
        "colab": {
          "base_uri": "https://localhost:8080/"
        },
        "id": "5gdYbJT5Mq8Y",
        "outputId": "88e956a9-4bf5-4ede-d5ca-269a668e65a7"
      },
      "execution_count": null,
      "outputs": [
        {
          "output_type": "execute_result",
          "data": {
            "text/plain": [
              "[0]"
            ]
          },
          "metadata": {},
          "execution_count": 24
        }
      ]
    },
    {
      "cell_type": "code",
      "source": [
        "fib_return(10)"
      ],
      "metadata": {
        "id": "pyqV-HW5Msc1",
        "outputId": "af350615-a29a-42c9-9b1b-cf57ee4ec429",
        "colab": {
          "base_uri": "https://localhost:8080/"
        }
      },
      "execution_count": null,
      "outputs": [
        {
          "output_type": "execute_result",
          "data": {
            "text/plain": [
              "[0, 1, 1, 2, 3, 5, 8]"
            ]
          },
          "metadata": {},
          "execution_count": 25
        }
      ]
    },
    {
      "cell_type": "markdown",
      "source": [
        "## Positioning arguments\n",
        "\n",
        "For required arguments (i.e. arguments without a default), you can either specify the names of the arguments manually, or specify them by position:"
      ],
      "metadata": {
        "id": "_6jR4jBrSpRj"
      }
    },
    {
      "cell_type": "code",
      "source": [
        "def f(a, b):\n",
        "  print('a', a)\n",
        "  print('b', b)\n"
      ],
      "metadata": {
        "id": "F8au_SKBSoPD"
      },
      "execution_count": null,
      "outputs": []
    },
    {
      "cell_type": "code",
      "source": [
        "f(1, 2)"
      ],
      "metadata": {
        "colab": {
          "base_uri": "https://localhost:8080/"
        },
        "id": "3BBGNJFOTH54",
        "outputId": "0466c6c6-d4ef-4562-db7e-c289aa3807c6"
      },
      "execution_count": null,
      "outputs": [
        {
          "output_type": "stream",
          "name": "stdout",
          "text": [
            "a 1\n",
            "b 2\n"
          ]
        }
      ]
    },
    {
      "cell_type": "code",
      "source": [
        "f(a=1, b=2)"
      ],
      "metadata": {
        "colab": {
          "base_uri": "https://localhost:8080/"
        },
        "id": "8uCIQa4RTJIm",
        "outputId": "6385afac-d042-47c3-e5a7-6371f432110e"
      },
      "execution_count": null,
      "outputs": [
        {
          "output_type": "stream",
          "name": "stdout",
          "text": [
            "a 1\n",
            "b 2\n"
          ]
        }
      ]
    },
    {
      "cell_type": "code",
      "source": [
        "f(1, b=2)"
      ],
      "metadata": {
        "colab": {
          "base_uri": "https://localhost:8080/"
        },
        "id": "b8booGokTKkL",
        "outputId": "b9f419e1-6d37-4ed3-fea8-877bcdad31da"
      },
      "execution_count": null,
      "outputs": [
        {
          "output_type": "stream",
          "name": "stdout",
          "text": [
            "a 1\n",
            "b 2\n"
          ]
        }
      ]
    },
    {
      "cell_type": "code",
      "source": [
        "f(b=2, a=1)"
      ],
      "metadata": {
        "colab": {
          "base_uri": "https://localhost:8080/"
        },
        "id": "0IY5f1VnTLlb",
        "outputId": "66f3fc98-36aa-4873-9e2b-4a900134175f"
      },
      "execution_count": null,
      "outputs": [
        {
          "output_type": "stream",
          "name": "stdout",
          "text": [
            "a 1\n",
            "b 2\n"
          ]
        }
      ]
    },
    {
      "cell_type": "markdown",
      "source": [
        "## Warning about default arguments"
      ],
      "metadata": {
        "id": "h9Rc1rMgWybG"
      }
    },
    {
      "cell_type": "markdown",
      "source": [
        "Your default arguments should never be mutable. Otherwise repeated function calls can interact with each other."
      ],
      "metadata": {
        "id": "IJcOlIwSW5G4"
      }
    },
    {
      "cell_type": "code",
      "source": [
        "# mutable arguments\n",
        "\n",
        "def f(a, L=[]):\n",
        "    L.append(a)\n",
        "    return L\n",
        "\n",
        "print(f(1)) # predict what will happen?\n",
        "print(f(2))\n",
        "print(f(3))"
      ],
      "metadata": {
        "colab": {
          "base_uri": "https://localhost:8080/"
        },
        "id": "FV8vpc3QW-Yt",
        "outputId": "74262165-e7d1-4e48-ccea-66ad496c5301"
      },
      "execution_count": null,
      "outputs": [
        {
          "output_type": "stream",
          "name": "stdout",
          "text": [
            "[1]\n",
            "[1, 2]\n",
            "[1, 2, 3]\n"
          ]
        }
      ]
    },
    {
      "cell_type": "code",
      "source": [
        "# Which data types are mutable -> dictionaries and lists"
      ],
      "metadata": {
        "id": "LrqpbhBUpjtf"
      },
      "execution_count": null,
      "outputs": []
    },
    {
      "cell_type": "code",
      "source": [
        "# Solution\n",
        "def f(a, L=None):\n",
        "    if L is None: # None now provides a marker that we would like to use the default argument.\n",
        "        L = []\n",
        "    L.append(a)\n",
        "    return L\n",
        "  \n",
        "print(f(1))\n",
        "print(f(2))\n",
        "print(f(3))"
      ],
      "metadata": {
        "colab": {
          "base_uri": "https://localhost:8080/"
        },
        "id": "Et7ck1k6XFfx",
        "outputId": "4fb811e5-0296-4c7f-f91d-7c4415db6bfa"
      },
      "execution_count": null,
      "outputs": [
        {
          "output_type": "stream",
          "name": "stdout",
          "text": [
            "[1]\n",
            "[2]\n",
            "[3]\n"
          ]
        }
      ]
    },
    {
      "cell_type": "markdown",
      "source": [
        "## Args and kwargs"
      ],
      "metadata": {
        "id": "4NZdLmyPXvKm"
      }
    },
    {
      "cell_type": "markdown",
      "source": [
        "You can also use a piece of code that allows you to provide arbitrary arguments (with or without keywords) to your function. If you use `*args` as one of the arguments of your function, this will take any unnamed argument and put all of them in a tuple:"
      ],
      "metadata": {
        "id": "29rU47TLX3Wu"
      }
    },
    {
      "cell_type": "code",
      "source": [
        "def f(a, *args):\n",
        "  print(a)\n",
        "  print(args)\n",
        "f(1, 2, 3)"
      ],
      "metadata": {
        "colab": {
          "base_uri": "https://localhost:8080/"
        },
        "id": "iYf7iSpBYl6H",
        "outputId": "8cab68cd-025a-4e21-e3f6-837ffb2b3c7b"
      },
      "execution_count": null,
      "outputs": [
        {
          "output_type": "stream",
          "name": "stdout",
          "text": [
            "1\n",
            "(2, 3)\n"
          ]
        }
      ]
    },
    {
      "cell_type": "code",
      "source": [
        "\n",
        "f(1, 2, 3, 4)"
      ],
      "metadata": {
        "colab": {
          "base_uri": "https://localhost:8080/"
        },
        "id": "2ruDF2iUp_Z_",
        "outputId": "ba37087d-bb99-4698-dacc-0c0004d7a68e"
      },
      "execution_count": null,
      "outputs": [
        {
          "output_type": "stream",
          "name": "stdout",
          "text": [
            "1\n",
            "(2, 3, 4)\n"
          ]
        }
      ]
    },
    {
      "cell_type": "code",
      "source": [
        "# The name args is not important\n",
        "def f(a, *variable):\n",
        "  print(a)\n",
        "  print(variable)\n",
        "f(1, 2, 3)\n",
        "f(1, 2, 3, 4)"
      ],
      "metadata": {
        "colab": {
          "base_uri": "https://localhost:8080/"
        },
        "id": "TAE7dacPYwW2",
        "outputId": "63b65fda-31ba-4326-a5e8-c1be2e707d5e"
      },
      "execution_count": null,
      "outputs": [
        {
          "output_type": "stream",
          "name": "stdout",
          "text": [
            "1\n",
            "(2, 3)\n",
            "1\n",
            "(2, 3, 4)\n"
          ]
        }
      ]
    },
    {
      "cell_type": "markdown",
      "source": [
        "Similarly, if you put two asterisks in front of your variable (e.g. ``**kwargs``), it will assign all names variables to kwargs (in a dictionary format)."
      ],
      "metadata": {
        "id": "0mcpVppFY_go"
      }
    },
    {
      "cell_type": "code",
      "source": [
        "def f(a, **kwargs):\n",
        "  print(a)\n",
        "  print(kwargs)\n",
        "f(a=1, b=2, c=3)"
      ],
      "metadata": {
        "colab": {
          "base_uri": "https://localhost:8080/"
        },
        "id": "n5dVtKfsZJ87",
        "outputId": "1f2f1ff0-c902-4e66-d211-9d2e7b85e11e"
      },
      "execution_count": null,
      "outputs": [
        {
          "output_type": "stream",
          "name": "stdout",
          "text": [
            "1\n",
            "{'b': 2, 'c': 3}\n"
          ]
        }
      ]
    },
    {
      "cell_type": "markdown",
      "source": [
        "Again, we're mostly explaining this so you are familiar with it later on, when it will become extremely useful."
      ],
      "metadata": {
        "id": "Zc0cqC5iZSRV"
      }
    },
    {
      "cell_type": "markdown",
      "source": [
        "## Exercise\n",
        "\n",
        "Given the following definiton, predict the output of the pieces of code below:"
      ],
      "metadata": {
        "id": "S-cXMEGRR3lV"
      }
    },
    {
      "cell_type": "code",
      "source": [
        "def f(a, *args, b=2, **kwargs):\n",
        "  print('a', a)\n",
        "  print(args)\n",
        "  print('b', 2)\n",
        "  print(kwargs)\n"
      ],
      "metadata": {
        "id": "3sqblFsgSAhd"
      },
      "execution_count": null,
      "outputs": []
    },
    {
      "cell_type": "markdown",
      "source": [
        "1. `f(1)`\n",
        "2. `f(b=1, a=1)`\n",
        "3. `f(2,1)`\n",
        "4. `f(c=1, a=1)`\n",
        "5. `f(a=2, 2,3,4, b=3, c=4, d=8)`"
      ],
      "metadata": {
        "id": "faozfCumST-Y"
      }
    }
  ]
}