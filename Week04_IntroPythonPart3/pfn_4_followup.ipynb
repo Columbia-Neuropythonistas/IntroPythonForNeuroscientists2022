{
 "cells": [
  {
   "cell_type": "markdown",
   "metadata": {
    "id": "utPkDkfSl2o3"
   },
   "source": [
    "# List Comprehension\n",
    "With something called **list comprehension**, you can use a for loop in line to create dictionaries and lists like this:"
   ]
  },
  {
   "cell_type": "code",
   "execution_count": null,
   "metadata": {
    "colab": {
     "base_uri": "https://localhost:8080/"
    },
    "id": "yZhjx5ycmBgP",
    "outputId": "46ec902d-d37c-49b4-ebbd-cc9eef3c7fe2"
   },
   "outputs": [],
   "source": [
    "my_list = [x**2  for x in range(6) if x%2==0] # only uses x's where the condition is true\n",
    "print(my_list)\n",
    "\n",
    "# The above code is equivalent to:\n",
    "my_list = []\n",
    "for x in range(6):\n",
    "    if x%2 == 0:\n",
    "        my_list.append(x**2)\n",
    "\n",
    "print(my_list)"
   ]
  },
  {
   "cell_type": "code",
   "execution_count": null,
   "metadata": {
    "colab": {
     "base_uri": "https://localhost:8080/"
    },
    "id": "bydyJ7sFl9YJ",
    "outputId": "995b8188-851b-4182-aa66-56d8a0c235b1"
   },
   "outputs": [],
   "source": [
    "my_dict = {x:x**2 for x in range(6)}\n",
    "print(my_dict)\n",
    "\n",
    "# The above code is equivalent to:\n",
    "my_dict = {}\n",
    "for x in range(6):\n",
    "    my_dict[x] = x**2\n",
    "\n",
    "print(my_dict)\n"
   ]
  },
  {
   "cell_type": "markdown",
   "metadata": {
    "id": "7f4EavzsRXgj"
   },
   "source": [
    "### Exercise:\n",
    "1. Create a list using list comprehension where any values between 2 and 10 inclusive that are divisible by 3 are added to the list. Assign the list to a variable called `divisible_3s`.\n",
    "2. Using a for loop, print the index and the value at that index for every element in `divisible_3s`.\n",
    "3. Create a dictionary using list comprehension where the key is $x^3$ and the value is $x^2$ for x's between 1 and 4 inclusive. Assign the dictionary to variable `cube_square`.\n",
    "4. Print the key and value for every key, value pair in `cube_square`"
   ]
  },
  {
   "cell_type": "markdown",
   "metadata": {
    "id": "UsuwA6bLXH3a"
   },
   "source": [
    "# Break and Continue\n",
    "\n",
    "`break` and `continue` are statements that can be used within loops. \n",
    "\n",
    "When code reaches a `continue` statement, it jumps to the next iteration of the loop without running the rest of the code in the loop.\n",
    "\n",
    "When code reaches a `break` statement it jumps outside the loop (skipping any remaining iterations) without running the rest of the code in the loop.\n",
    "\n",
    "A `pass` statement, finally is completely ignored. This is useful when code is required syntactically, but you don't actually want to run anything there.\n",
    "\n",
    "For these statements it may not be entirely clear right now what their purpose is, but they become particularly useful in managing more complex code."
   ]
  },
  {
   "cell_type": "code",
   "execution_count": null,
   "metadata": {
    "colab": {
     "base_uri": "https://localhost:8080/"
    },
    "id": "UYopzdZeUPJB",
    "outputId": "5d2b13bb-1907-41c6-8648-7dbb601e40c7"
   },
   "outputs": [],
   "source": [
    "for i in range(10):\n",
    "    print('New loop')\n",
    "    if i%2==0:\n",
    "        continue\n",
    "    print(i) # This command is skipped for all even numbers"
   ]
  },
  {
   "cell_type": "code",
   "execution_count": null,
   "metadata": {
    "colab": {
     "base_uri": "https://localhost:8080/"
    },
    "id": "qvO4OzE-Ug9p",
    "outputId": "73264ebc-7758-477c-a492-c0006193f270"
   },
   "outputs": [],
   "source": [
    "for i in range(10):\n",
    "    print('New loop')\n",
    "    if i==5:\n",
    "        break # Leaves the loop completely once it encounters this statement\n",
    "    print(i)"
   ]
  },
  {
   "cell_type": "code",
   "execution_count": null,
   "metadata": {
    "colab": {
     "base_uri": "https://localhost:8080/"
    },
    "id": "UEAZHnq8L_9S",
    "outputId": "0256c866-a174-424b-9872-cc27a4f8d850"
   },
   "outputs": [],
   "source": [
    "for i in range(10):\n",
    "    print('New loop')\n",
    "    if i==5:\n",
    "        pass # Simply ignores this statement and keeps going\n",
    "    print(i)"
   ]
  },
  {
   "cell_type": "markdown",
   "metadata": {
    "id": "1s2FZYoLMH_e"
   },
   "source": [
    "# Some details on functions\n",
    "## Default arguments"
   ]
  },
  {
   "cell_type": "code",
   "execution_count": null,
   "metadata": {},
   "outputs": [],
   "source": [
    "def fib_return (n):\n",
    "    \"\"\" \n",
    "    Print fibonnacci series up to n.\n",
    "    Args:\n",
    "      n (int): Maximum value of the fibonacci series to return. Default value is 1.\n",
    "    Returns:\n",
    "      list: List of fibonacci sequence values\n",
    "    \"\"\"\n",
    "\n",
    "    fib_list = []\n",
    "    a,b = 0, 1\n",
    "    while a <n:\n",
    "        fib_list.append(a)\n",
    "        next= a+b\n",
    "        a = b\n",
    "        b = next\n",
    "    return fib_list"
   ]
  },
  {
   "cell_type": "code",
   "execution_count": null,
   "metadata": {
    "colab": {
     "base_uri": "https://localhost:8080/",
     "height": 185
    },
    "id": "7keLw1rjMKAR",
    "outputId": "e23993e3-dd78-4089-e439-efff96645a8b"
   },
   "outputs": [],
   "source": [
    "# We cannot run fib_return without specifying n:\n",
    "fib_return()"
   ]
  },
  {
   "cell_type": "code",
   "execution_count": null,
   "metadata": {
    "id": "OR9FPTvtMEdl"
   },
   "outputs": [],
   "source": [
    "# Default arguments can be specified but don't have to be:\n",
    "def fib_return (n=1):\n",
    "    \"\"\" \n",
    "    Print fibonnacci series up to n.\n",
    "    Args:\n",
    "      n (int): Maximum value of the fibonacci series to return. Default value is 1.\n",
    "    Returns:\n",
    "      list: List of fibonacci sequence values\n",
    "    \"\"\"\n",
    "\n",
    "    fib_list = []\n",
    "    a,b = 0, 1\n",
    "    while a <n:\n",
    "        fib_list.append(a)\n",
    "        next= a+b\n",
    "        a = b\n",
    "        b = next\n",
    "    return fib_list"
   ]
  },
  {
   "cell_type": "code",
   "execution_count": null,
   "metadata": {
    "colab": {
     "base_uri": "https://localhost:8080/"
    },
    "id": "5gdYbJT5Mq8Y",
    "outputId": "88e956a9-4bf5-4ede-d5ca-269a668e65a7"
   },
   "outputs": [],
   "source": [
    "fib_return()"
   ]
  },
  {
   "cell_type": "code",
   "execution_count": null,
   "metadata": {
    "colab": {
     "base_uri": "https://localhost:8080/"
    },
    "id": "pyqV-HW5Msc1",
    "outputId": "af350615-a29a-42c9-9b1b-cf57ee4ec429"
   },
   "outputs": [],
   "source": [
    "fib_return(10)"
   ]
  },
  {
   "cell_type": "markdown",
   "metadata": {
    "id": "_6jR4jBrSpRj"
   },
   "source": [
    "## Positioning arguments\n",
    "\n",
    "For required arguments (i.e. arguments without a default), you can either specify the names of the arguments manually, or specify them by position:"
   ]
  },
  {
   "cell_type": "code",
   "execution_count": null,
   "metadata": {
    "id": "F8au_SKBSoPD"
   },
   "outputs": [],
   "source": [
    "def f(a, b, c=1):\n",
    "    print('a', a)\n",
    "    print('b', b)\n",
    "    print('c', c)"
   ]
  },
  {
   "cell_type": "code",
   "execution_count": null,
   "metadata": {
    "colab": {
     "base_uri": "https://localhost:8080/"
    },
    "id": "3BBGNJFOTH54",
    "outputId": "0466c6c6-d4ef-4562-db7e-c289aa3807c6"
   },
   "outputs": [],
   "source": [
    "f(1, b=2, 3)"
   ]
  },
  {
   "cell_type": "code",
   "execution_count": null,
   "metadata": {
    "colab": {
     "base_uri": "https://localhost:8080/"
    },
    "id": "8uCIQa4RTJIm",
    "outputId": "6385afac-d042-47c3-e5a7-6371f432110e"
   },
   "outputs": [],
   "source": [
    "f(a=1, b=2)"
   ]
  },
  {
   "cell_type": "code",
   "execution_count": null,
   "metadata": {
    "colab": {
     "base_uri": "https://localhost:8080/"
    },
    "id": "b8booGokTKkL",
    "outputId": "b9f419e1-6d37-4ed3-fea8-877bcdad31da"
   },
   "outputs": [],
   "source": [
    "f(1, b=2)"
   ]
  },
  {
   "cell_type": "code",
   "execution_count": null,
   "metadata": {},
   "outputs": [],
   "source": [
    "f(a=1, 2)"
   ]
  },
  {
   "cell_type": "code",
   "execution_count": null,
   "metadata": {
    "colab": {
     "base_uri": "https://localhost:8080/"
    },
    "id": "0IY5f1VnTLlb",
    "outputId": "66f3fc98-36aa-4873-9e2b-4a900134175f"
   },
   "outputs": [],
   "source": [
    "f(b=2, a=1)"
   ]
  },
  {
   "cell_type": "markdown",
   "metadata": {
    "id": "h9Rc1rMgWybG"
   },
   "source": [
    "## Warning about default arguments"
   ]
  },
  {
   "cell_type": "markdown",
   "metadata": {
    "id": "IJcOlIwSW5G4"
   },
   "source": [
    "Your default arguments should never be mutable. Otherwise repeated function calls can interact with each other."
   ]
  },
  {
   "cell_type": "code",
   "execution_count": null,
   "metadata": {
    "colab": {
     "base_uri": "https://localhost:8080/"
    },
    "id": "FV8vpc3QW-Yt",
    "outputId": "74262165-e7d1-4e48-ccea-66ad496c5301"
   },
   "outputs": [],
   "source": [
    "# mutable arguments\n",
    "\n",
    "def f(a, L=[]):\n",
    "    L.append(a)\n",
    "    return L\n",
    "\n",
    "print(f(1)) # predict what will happen?\n",
    "print(f(2))\n",
    "print(f(3))"
   ]
  },
  {
   "cell_type": "code",
   "execution_count": null,
   "metadata": {
    "id": "LrqpbhBUpjtf"
   },
   "outputs": [],
   "source": [
    "# Which data types are mutable -> dictionaries and lists"
   ]
  },
  {
   "cell_type": "code",
   "execution_count": null,
   "metadata": {
    "colab": {
     "base_uri": "https://localhost:8080/"
    },
    "id": "Et7ck1k6XFfx",
    "outputId": "4fb811e5-0296-4c7f-f91d-7c4415db6bfa"
   },
   "outputs": [],
   "source": [
    "# Solution\n",
    "def f(a, L=None):\n",
    "    if L is None: # None now provides a marker that we would like to use the default argument.\n",
    "        L = []\n",
    "    L.append(a)\n",
    "    return L\n",
    "  \n",
    "print(f(1))\n",
    "print(f(2))\n",
    "print(f(3))"
   ]
  },
  {
   "cell_type": "markdown",
   "metadata": {
    "id": "4NZdLmyPXvKm"
   },
   "source": [
    "## Args and kwargs"
   ]
  },
  {
   "cell_type": "markdown",
   "metadata": {
    "id": "29rU47TLX3Wu"
   },
   "source": [
    "You can also use a piece of code that allows you to provide arbitrary arguments (with or without keywords) to your function. If you use `*args` as one of the arguments of your function, this will take any unnamed argument and put all of them in a tuple:"
   ]
  },
  {
   "cell_type": "code",
   "execution_count": null,
   "metadata": {
    "colab": {
     "base_uri": "https://localhost:8080/"
    },
    "id": "iYf7iSpBYl6H",
    "outputId": "8cab68cd-025a-4e21-e3f6-837ffb2b3c7b"
   },
   "outputs": [],
   "source": [
    "def f(a, *args):\n",
    "    print(a)\n",
    "    print(args)\n",
    "f(1, 2, 3)"
   ]
  },
  {
   "cell_type": "code",
   "execution_count": null,
   "metadata": {
    "colab": {
     "base_uri": "https://localhost:8080/"
    },
    "id": "2ruDF2iUp_Z_",
    "outputId": "ba37087d-bb99-4698-dacc-0c0004d7a68e"
   },
   "outputs": [],
   "source": [
    "f(1, 2, 3, 4)"
   ]
  },
  {
   "cell_type": "code",
   "execution_count": null,
   "metadata": {
    "colab": {
     "base_uri": "https://localhost:8080/"
    },
    "id": "TAE7dacPYwW2",
    "outputId": "63b65fda-31ba-4326-a5e8-c1be2e707d5e"
   },
   "outputs": [],
   "source": [
    "# The name args is not important\n",
    "def f(a, *variable):\n",
    "    print(a)\n",
    "    print(variable)\n",
    "f(1, 2, 3)\n",
    "f(1, 2, 3, 4)"
   ]
  },
  {
   "cell_type": "markdown",
   "metadata": {
    "id": "0mcpVppFY_go"
   },
   "source": [
    "Similarly, if you put two asterisks in front of your variable (e.g. ``**kwargs``), it will assign all named variables to kwargs (in a dictionary format)."
   ]
  },
  {
   "cell_type": "code",
   "execution_count": null,
   "metadata": {
    "colab": {
     "base_uri": "https://localhost:8080/"
    },
    "id": "n5dVtKfsZJ87",
    "outputId": "1f2f1ff0-c902-4e66-d211-9d2e7b85e11e"
   },
   "outputs": [],
   "source": [
    "def f(a, **kwargs):\n",
    "    print(a)\n",
    "    print(kwargs)\n",
    "f(a=1, b=2, c=3)"
   ]
  },
  {
   "cell_type": "markdown",
   "metadata": {
    "id": "Zc0cqC5iZSRV"
   },
   "source": [
    "Again, we're mostly explaining this so you are familiar with it later on, when it will become extremely useful."
   ]
  },
  {
   "cell_type": "markdown",
   "metadata": {
    "id": "S-cXMEGRR3lV"
   },
   "source": [
    "## Exercise\n",
    "\n",
    "Given the following definiton, predict the output of the pieces of code below:"
   ]
  },
  {
   "cell_type": "code",
   "execution_count": null,
   "metadata": {
    "id": "3sqblFsgSAhd"
   },
   "outputs": [],
   "source": [
    "def f(a, *args, b=2, **kwargs):\n",
    "    print('a', a)\n",
    "    print(args)\n",
    "    print('b', 2)\n",
    "    print(kwargs)\n"
   ]
  },
  {
   "cell_type": "markdown",
   "metadata": {
    "id": "faozfCumST-Y"
   },
   "source": [
    "1. `f(1)`\n",
    "2. `f(b=1, a=1)`\n",
    "3. `f(2,1)`\n",
    "4. `f(c=1, a=1)`\n",
    "5. `f(a=2, 2,3,4, b=3, c=4, d=8)`"
   ]
  }
 ],
 "metadata": {
  "colab": {
   "collapsed_sections": [],
   "provenance": []
  },
  "kernelspec": {
   "display_name": "Python 3 (ipykernel)",
   "language": "python",
   "name": "python3"
  },
  "language_info": {
   "codemirror_mode": {
    "name": "ipython",
    "version": 3
   },
   "file_extension": ".py",
   "mimetype": "text/x-python",
   "name": "python",
   "nbconvert_exporter": "python",
   "pygments_lexer": "ipython3",
   "version": "3.10.4"
  }
 },
 "nbformat": 4,
 "nbformat_minor": 1
}
