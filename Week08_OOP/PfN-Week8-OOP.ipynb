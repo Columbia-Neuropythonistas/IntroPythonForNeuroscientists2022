{
 "cells": [
  {
   "cell_type": "markdown",
   "id": "ca7c0348-6dc4-4244-80a3-1f2c95a5003b",
   "metadata": {},
   "source": [
    "# Python for Neuroscientists Lesson 8\n",
    "## Object-Oriented Programming (OOP)"
   ]
  },
  {
   "cell_type": "markdown",
   "id": "515a2d97-ece0-4389-9eb4-5e7e5de7747c",
   "metadata": {},
   "source": [
    "### Introduction"
   ]
  },
  {
   "cell_type": "markdown",
   "id": "15f85e61-1f79-4f00-acc2-b9af5ce26862",
   "metadata": {},
   "source": [
    "#### OOP vs. Functional Programming"
   ]
  },
  {
   "cell_type": "code",
   "execution_count": 2,
   "id": "b403bcab-b358-4726-824f-636a0410f881",
   "metadata": {},
   "outputs": [],
   "source": [
    "import numpy as np"
   ]
  },
  {
   "cell_type": "code",
   "execution_count": 3,
   "id": "c20537d4-d577-44c0-9b9a-d186b674998a",
   "metadata": {},
   "outputs": [],
   "source": [
    "#TODO - include example here that has teachers + data associated with teachers + functions"
   ]
  },
  {
   "cell_type": "markdown",
   "id": "b792c556-3997-406a-b9cd-2f4d8a7f68ce",
   "metadata": {},
   "source": [
    "### Classes"
   ]
  },
  {
   "cell_type": "markdown",
   "id": "e5c27156-73a3-4b6d-8732-4e4b2b6b23db",
   "metadata": {},
   "source": [
    "#### Example"
   ]
  },
  {
   "cell_type": "code",
   "execution_count": 4,
   "id": "4a62f745-3941-4b1c-95c6-f6cf3822ebfb",
   "metadata": {},
   "outputs": [],
   "source": [
    "from datetime import date\n",
    "from abc import ABC, abstractmethod"
   ]
  },
  {
   "cell_type": "markdown",
   "id": "7addd0fc-a237-4961-8453-8ee1aba3f5e5",
   "metadata": {},
   "source": [
    "Run the code below to load in **class**. We'll go over what this is in just a second."
   ]
  },
  {
   "cell_type": "code",
   "execution_count": 5,
   "id": "776a08e8-4f12-411e-8013-cd1d7a2b1d08",
   "metadata": {},
   "outputs": [],
   "source": [
    "#Run this code to load the class\n",
    "class Experiment:\n",
    "        \n",
    "    def __init__(self, path_to_expt, expt_date, experimenter):\n",
    "        self.path_to_expt = path_to_expt\n",
    "        self.expt_date = expt_date\n",
    "        self.experimenter = experimenter\n",
    "        self.generated_date = date.today()\n",
    "        \n",
    "    def print_expt_info(self):\n",
    "        print('Path: ', self.path_to_expt)\n",
    "        print('Experiment Date: ', self.expt_date)\n",
    "        print('Experimenter: ', self.experimenter)\n",
    "        print('Generation Date: ', self.generated_date)\n",
    "        \n",
    "    def return_data(self):\n",
    "        return 'Pretend that I am experiment data'"
   ]
  },
  {
   "cell_type": "markdown",
   "id": "79237411-0cb9-4635-8008-24065a8a0d84",
   "metadata": {},
   "source": [
    "Cool! Now run the next three codeblocks, and see what happens.\n"
   ]
  },
  {
   "cell_type": "code",
   "execution_count": 6,
   "id": "36164d5d-4ba1-49c1-b68f-636134f9cb6c",
   "metadata": {},
   "outputs": [],
   "source": [
    "expt = Experiment('experiment_file.csv', '031322', 'Abhi')"
   ]
  },
  {
   "cell_type": "code",
   "execution_count": 7,
   "id": "c3b41937-72f8-4f60-8b2c-015095adc117",
   "metadata": {},
   "outputs": [
    {
     "name": "stdout",
     "output_type": "stream",
     "text": [
      "Path:  experiment_file.csv\n",
      "Experiment Date:  031322\n",
      "Experimenter:  Abhi\n",
      "Generation Date:  2022-10-23\n"
     ]
    }
   ],
   "source": [
    "expt.print_expt_info()"
   ]
  },
  {
   "cell_type": "code",
   "execution_count": 8,
   "id": "59c4a66f-9bc9-4c94-81da-1e9dd4f34556",
   "metadata": {},
   "outputs": [
    {
     "data": {
      "text/plain": [
       "'031322'"
      ]
     },
     "execution_count": 8,
     "metadata": {},
     "output_type": "execute_result"
    }
   ],
   "source": [
    "expt.expt_date"
   ]
  },
  {
   "cell_type": "code",
   "execution_count": null,
   "id": "ca37aa49-59f4-455b-b44e-84e83a965933",
   "metadata": {},
   "outputs": [],
   "source": []
  }
 ],
 "metadata": {
  "kernelspec": {
   "display_name": "Python 3 (ipykernel)",
   "language": "python",
   "name": "python3"
  },
  "language_info": {
   "codemirror_mode": {
    "name": "ipython",
    "version": 3
   },
   "file_extension": ".py",
   "mimetype": "text/x-python",
   "name": "python",
   "nbconvert_exporter": "python",
   "pygments_lexer": "ipython3",
   "version": "3.10.6"
  }
 },
 "nbformat": 4,
 "nbformat_minor": 5
}
