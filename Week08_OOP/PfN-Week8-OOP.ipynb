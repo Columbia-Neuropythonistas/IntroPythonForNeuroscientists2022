{
 "cells": [
  {
   "cell_type": "markdown",
   "id": "ca7c0348-6dc4-4244-80a3-1f2c95a5003b",
   "metadata": {},
   "source": [
    "# Python for Neuroscientists Lesson 8\n",
    "## Object-Oriented Programming (OOP)"
   ]
  },
  {
   "cell_type": "markdown",
   "id": "515a2d97-ece0-4389-9eb4-5e7e5de7747c",
   "metadata": {},
   "source": [
    "### Introduction"
   ]
  },
  {
   "cell_type": "markdown",
   "id": "15f85e61-1f79-4f00-acc2-b9af5ce26862",
   "metadata": {},
   "source": [
    "#### OOP vs. Functional Programming"
   ]
  },
  {
   "cell_type": "markdown",
   "id": "4b396c09-626c-4c57-bbbc-a6fda4911c5d",
   "metadata": {},
   "source": [
    "What is **object-oriented programming (OOP** for short)? To understand this question, let's consider what isn't OOP - **functional programming**."
   ]
  },
  {
   "cell_type": "code",
   "execution_count": null,
   "id": "b403bcab-b358-4726-824f-636a0410f881",
   "metadata": {},
   "outputs": [],
   "source": [
    "#imports\n",
    "from datetime import date\n",
    "from abc import ABC, abstractmethod\n",
    "import numpy as np\n",
    "import pandas as pd"
   ]
  },
  {
   "cell_type": "markdown",
   "id": "394f43ed-1dc4-4181-bdf2-0e2bf1da38b5",
   "metadata": {},
   "source": [
    "This is functional-style code - take just a few minutes to guess what this will output."
   ]
  },
  {
   "cell_type": "code",
   "execution_count": null,
   "id": "e615b92a-f95b-4ee2-95b7-36406cc36d4f",
   "metadata": {},
   "outputs": [],
   "source": [
    "abhi = {'name': 'Abhi',\n",
    "        'units': [7,8,9],\n",
    "        'cblind': True}\n",
    "\n",
    "sam = {'name': 'Sam',\n",
    "        'units': [4,5,6],\n",
    "        'cblind': False}\n",
    "\n",
    "def print_teacher_info(teacher):\n",
    "    if teacher['cblind']:\n",
    "        cblind = 'is'\n",
    "    else:\n",
    "        cblind = 'is NOT'\n",
    "    print(teacher['name'] + ' is teaching units ' + str(teacher['units']) + ' and ' + cblind + ' colorblind!')\n",
    "    \n",
    "print_teacher_info(abhi)\n",
    "print_teacher_info(sam)"
   ]
  },
  {
   "cell_type": "code",
   "execution_count": null,
   "id": "8528d951-6a35-4b62-bf86-13739267cd90",
   "metadata": {},
   "outputs": [],
   "source": [
    "#ENTER YOUR GUESS HERE, AND THEN RUN THE CODE ABOVE TO CHECK"
   ]
  },
  {
   "cell_type": "markdown",
   "id": "d70cd851-5533-4b44-af0d-3e67da04935e",
   "metadata": {},
   "source": [
    "Now, let's look at an OOP example of the same code."
   ]
  },
  {
   "cell_type": "code",
   "execution_count": null,
   "id": "04acbfdb-a737-4136-ad95-d62f4e2d2f03",
   "metadata": {},
   "outputs": [],
   "source": [
    "class Teacher:\n",
    "    \n",
    "    def __init__(self, name, units, colorblind):\n",
    "        self.name = name\n",
    "        self.units = units\n",
    "        self.colorblind = colorblind\n",
    "        \n",
    "    def print_teacher_info(self):\n",
    "        if self.colorblind:\n",
    "            cblind = 'is'\n",
    "        else:\n",
    "            cblind = 'is NOT'\n",
    "        print(self.name + ' is teaching units ' + str(self.units) + ' and ' + cblind + ' colorblind!')\n",
    "        \n",
    "abhi = Teacher('Abhi', [7,8,9], True)\n",
    "sam = Teacher('Sam', [4,5,6], False)\n",
    "abhi.print_teacher_info()\n",
    "sam.print_teacher_info()"
   ]
  },
  {
   "cell_type": "markdown",
   "id": "66146106-f9f9-4ed7-934c-28b42deb0d53",
   "metadata": {},
   "source": [
    "#### What is OOP?\n",
    "At it's root, OOP is about encapsulation and modularity. We'll go over the specifics in the lesson today!\n",
    "\n",
    "\n",
    "As you can see, it is possible to use both functional and OOP coding styles in Python. Today, we're going to go over exactly what OOP is, what it's useful for, and how to read OOP code."
   ]
  },
  {
   "cell_type": "markdown",
   "id": "b792c556-3997-406a-b9cd-2f4d8a7f68ce",
   "metadata": {},
   "source": [
    "### Classes and objexts"
   ]
  },
  {
   "cell_type": "markdown",
   "id": "8f3ea019-553f-4909-a33d-20f0f7877060",
   "metadata": {},
   "source": [
    "We've actually already used OOP before! For example, does the code below look familiar?"
   ]
  },
  {
   "cell_type": "code",
   "execution_count": null,
   "id": "0b665e21-5898-4524-82ff-00d4717ef281",
   "metadata": {},
   "outputs": [],
   "source": [
    "df = pd.DataFrame([1,2,3])"
   ]
  },
  {
   "cell_type": "markdown",
   "id": "b4e8d226-5039-4c28-bebe-2664e3384c21",
   "metadata": {},
   "source": [
    "In this code, df is an **object**, defined in the DatFrame **class**. Confusing?\n",
    "\n",
    "Let's use an analogy: the class is a recipe, and the object is the food you make using that recipe.\n",
    "In fact, almost everything in Python is an object. For example:"
   ]
  },
  {
   "cell_type": "code",
   "execution_count": null,
   "id": "495530a9-21fb-44e5-9a09-b8831d275d88",
   "metadata": {},
   "outputs": [],
   "source": [
    "a = 3\n",
    "b = int(3)\n",
    "print(type(a))\n",
    "print(type(b))"
   ]
  },
  {
   "cell_type": "markdown",
   "id": "7bd136cb-46ee-4fdf-b070-4f553a04a10d",
   "metadata": {},
   "source": [
    "See how it says class? What do we think `type(df)` will return?"
   ]
  },
  {
   "cell_type": "code",
   "execution_count": null,
   "id": "d6cebd14-1045-475a-a2d7-c8d0fb0568fd",
   "metadata": {},
   "outputs": [],
   "source": []
  },
  {
   "cell_type": "markdown",
   "id": "e5c27156-73a3-4b6d-8732-4e4b2b6b23db",
   "metadata": {},
   "source": [
    "#### Example class code"
   ]
  },
  {
   "cell_type": "markdown",
   "id": "7addd0fc-a237-4961-8453-8ee1aba3f5e5",
   "metadata": {},
   "source": [
    "Now let's go over how to use classes and objects in detail. Run the code below to load in our custom `Experiment` class"
   ]
  },
  {
   "cell_type": "code",
   "execution_count": null,
   "id": "776a08e8-4f12-411e-8013-cd1d7a2b1d08",
   "metadata": {},
   "outputs": [],
   "source": [
    "#Run this code to load the class\n",
    "class Experiment:\n",
    "        \n",
    "    def __init__(self, path_to_expt, expt_date, experimenter):\n",
    "        self.path_to_expt = path_to_expt\n",
    "        self.expt_date = expt_date\n",
    "        self.experimenter = experimenter\n",
    "        self.generated_date = date.today()\n",
    "        print('Constructor called')\n",
    "        \n",
    "    def print_expt_info(self):\n",
    "        print('Path: ', self.path_to_expt)\n",
    "        print('Experiment Date: ', self.expt_date)\n",
    "        print('Experimenter: ', self.experimenter)\n",
    "        print('Generation Date: ', self.generated_date)\n",
    "        \n",
    "    def return_data(self):\n",
    "        return 'There is no data here for now'"
   ]
  },
  {
   "cell_type": "markdown",
   "id": "509d898d-439e-44e9-a204-8cb705a7ca2c",
   "metadata": {},
   "source": [
    "Let's pause to go through what's inside the class code. First, we have a function called `__init__`. This is a **constructor**, and it will be run anytime you create an object from this class. The constructor is a place to put commands that you create an object: for example, here we assign some attributes (or variables) associated with out class.\n",
    "\n",
    "Let's see the constructor in action by creating an object First, we create an object named `expt`, by calling `Experiment` and providing information. This process is called **instantiation**."
   ]
  },
  {
   "cell_type": "code",
   "execution_count": null,
   "id": "36164d5d-4ba1-49c1-b68f-636134f9cb6c",
   "metadata": {},
   "outputs": [],
   "source": [
    "expt = Experiment('experiment_file.csv', '031322', 'Abhi')"
   ]
  },
  {
   "cell_type": "markdown",
   "id": "328ddcf3-068f-4775-a43b-55608093ffd9",
   "metadata": {},
   "source": [
    "What happened here is we created an object called `expt` from Experiment, which automatically ran the constructor. Notice that when we instantiated our object, we provided information to the function call, just like you would with any other function. We can access this data, as in our constructor we save the data to the object using the **self** command."
   ]
  },
  {
   "cell_type": "code",
   "execution_count": null,
   "id": "59c4a66f-9bc9-4c94-81da-1e9dd4f34556",
   "metadata": {},
   "outputs": [],
   "source": [
    "expt.expt_date"
   ]
  },
  {
   "cell_type": "markdown",
   "id": "51b8ea70-bcf6-4ab0-b4f7-77e1d1e73736",
   "metadata": {},
   "source": [
    "As a quick aside, you've seen attributes before - can you think of an example"
   ]
  },
  {
   "cell_type": "code",
   "execution_count": null,
   "id": "b7993d5e-2c1f-477d-8424-956618369457",
   "metadata": {},
   "outputs": [],
   "source": []
  },
  {
   "cell_type": "markdown",
   "id": "a4addaa6-c220-447c-a18c-d2e0e926f83b",
   "metadata": {},
   "source": [
    "We can also call functions within the class. For example:"
   ]
  },
  {
   "cell_type": "code",
   "execution_count": null,
   "id": "c3b41937-72f8-4f60-8b2c-015095adc117",
   "metadata": {},
   "outputs": [],
   "source": [
    "expt.print_expt_info()"
   ]
  },
  {
   "cell_type": "markdown",
   "id": "a748d84d-5735-448c-80dc-45cc1c109f91",
   "metadata": {},
   "source": [
    "What happens if we try to call the function directly?"
   ]
  },
  {
   "cell_type": "code",
   "execution_count": null,
   "id": "14448f1d-388b-47ae-a18f-ccd7820abc45",
   "metadata": {},
   "outputs": [],
   "source": [
    "print_expt_info()\n",
    "#Experiment.print_expt_info()"
   ]
  },
  {
   "cell_type": "markdown",
   "id": "5f6c4a13-c62c-4271-aa5b-f7b23280b40b",
   "metadata": {},
   "source": [
    "### Problem 1\n",
    "\n",
    "Modify the code from the cells above to add another argument to the constructor - it can be whatever you want it to be. Then, create an object of your class, and call  `print_expt_info`."
   ]
  },
  {
   "cell_type": "code",
   "execution_count": null,
   "id": "86291076-fc33-4fa0-b935-6df09851cfb3",
   "metadata": {},
   "outputs": [],
   "source": []
  },
  {
   "cell_type": "markdown",
   "id": "0bdb4d14-093d-4569-b11b-b13b3e4bc97c",
   "metadata": {},
   "source": [
    "### Writing our own class"
   ]
  },
  {
   "cell_type": "markdown",
   "id": "aec7dced-b921-47d1-8b30-2e21e090f5b6",
   "metadata": {},
   "source": [
    "Great, now let's try and write our own class! Let's make sure that one of the functions modifies an attribute of the object.                            "
   ]
  },
  {
   "cell_type": "code",
   "execution_count": null,
   "id": "d8a32363-057a-4bb4-ad2b-1814286d529d",
   "metadata": {},
   "outputs": [],
   "source": [
    "#Students write their own version of this class step by step ALSO HERE WHAT I COULD DO IS INCLUDE DATA LOADING ETC."
   ]
  },
  {
   "cell_type": "markdown",
   "id": "12a17f03-b81b-45ef-8187-c7835586dc8c",
   "metadata": {},
   "source": [
    "#### Making multiple objects\n",
    "A class can support many independent objects! Back to the analogy: if I have two recipes for a pumpkin pie, I can make two pumpkin pies, and if I put whipped cream on one, then it won't magically appear on the other.\n",
    "\n",
    "Let's make two objects from our new class, and see if modifying one affects the other. "
   ]
  },
  {
   "cell_type": "code",
   "execution_count": null,
   "id": "193ca63d-5a44-4ec2-96c4-4d5c1a564656",
   "metadata": {},
   "outputs": [],
   "source": []
  },
  {
   "cell_type": "markdown",
   "id": "7d89d549-82dc-4d19-be40-2de46775d9f9",
   "metadata": {},
   "source": [
    "### Inheritance and polymorphism\n",
    "\n",
    "As I mentioned earlier, one of the important features of OOP is modularity. Let's go back to the recipe analogy I mentioned earlier. Say we had a recipe for cooking a cake, in general. What if we wanted to bake a vanilla cake? I could write a totally new recipe, but that would be redundant. Instead, what I could do is simply change the section where I add flavorings to the cake mix.\n",
    "\n",
    "Inheritance is exactly this concept: you can create child classes that inherit from a parent class. Let's see what this means using an example."
   ]
  },
  {
   "cell_type": "code",
   "execution_count": null,
   "id": "39e33629-d20e-4f1a-a3b6-3c0501682917",
   "metadata": {},
   "outputs": [],
   "source": [
    "#Run this code to load the class\n",
    "class Experiment:\n",
    "        \n",
    "    def __init__(self, path_to_expt, expt_date, experimenter):\n",
    "        self.path_to_expt = path_to_expt\n",
    "        self.expt_date = expt_date\n",
    "        self.experimenter = experimenter\n",
    "        self.generated_date = date.today()\n",
    "        print('Constructor called')\n",
    "        \n",
    "    def print_expt_info(self):\n",
    "        print('Path: ', self.path_to_expt)\n",
    "        print('Experiment Date: ', self.expt_date)\n",
    "        print('Experimenter: ', self.experimenter)\n",
    "        print('Generation Date: ', self.generated_date)\n",
    "        \n",
    "    def return_data(self):\n",
    "        return 'There is no data here for now'"
   ]
  },
  {
   "cell_type": "markdown",
   "id": "2309a8c0-4943-4296-be9f-b396d4425259",
   "metadata": {},
   "source": [
    "Now, we have a small child class that **inherits** from and **extends** a parent class. Notice the syntax: we just place the name of the parent class in the parenthes at the beginning of the class."
   ]
  },
  {
   "cell_type": "code",
   "execution_count": null,
   "id": "f98dad8f-6d22-4048-b402-89de37112387",
   "metadata": {},
   "outputs": [],
   "source": [
    "class ImagingExperiment(Experiment):\n",
    "    \n",
    "    def __init__(self, path_to_expt, expt_date, experimenter, frame_rate):\n",
    "        self.frame_rate = frame_rate\n",
    "        #Super refers to our parent class\n",
    "        print('Imaging constructor called')\n",
    "        super().__init__(path_to_expt, expt_date, experimenter)\n",
    "    \n",
    "    #This is a new function!\n",
    "    def print_frame_rate(self):\n",
    "        print('Frame Rate: {} Hz'.format(self.frame_rate))\n",
    "    \n",
    "    #This is an old function we modified!\n",
    "    def return_data(self):\n",
    "        return 'Pretend that I am imaging data' "
   ]
  },
  {
   "cell_type": "markdown",
   "id": "72068f20-7a02-4503-8239-fba5e7622bdd",
   "metadata": {},
   "source": [
    "Let's start by creating an object of our new class: anyone remember how to do this?"
   ]
  },
  {
   "cell_type": "code",
   "execution_count": null,
   "id": "3fa31ace-1820-4213-8d3e-0d852dcef773",
   "metadata": {},
   "outputs": [],
   "source": [
    "imaging_expt = ImagingExperiment('experiment_file.csv', '031122', 'Abhi', 30)"
   ]
  },
  {
   "cell_type": "markdown",
   "id": "6e6ac5ad-327a-491f-89ec-ea972b719c7c",
   "metadata": {},
   "source": [
    "A few things to unpack: <br>\n",
    "1) Notice how we are providing one more argument to the constructor. Let's follow this number.\n",
    "2) See how the imaging constructor is called first, and then the constructor for the parent experiment class?\n",
    "3) What do we think the type of our new object will be?"
   ]
  },
  {
   "cell_type": "code",
   "execution_count": null,
   "id": "a29e7001-16b1-4123-8284-8f4d819c2f96",
   "metadata": {},
   "outputs": [],
   "source": [
    "type(imaging_expt)"
   ]
  },
  {
   "cell_type": "markdown",
   "id": "42fcbbbe-9f00-43ca-829f-3771bf7f5ccc",
   "metadata": {},
   "source": [
    "Now, let's understand these new functions."
   ]
  },
  {
   "cell_type": "code",
   "execution_count": null,
   "id": "724239f7-e86d-40fb-b103-eef89f75803d",
   "metadata": {},
   "outputs": [],
   "source": [
    "imaging_expt.print_frame_rate()"
   ]
  },
  {
   "cell_type": "markdown",
   "id": "378bbbb7-797a-45f6-9455-cba83eb365c2",
   "metadata": {},
   "source": [
    "That seems self-explanatory - that's a new function we added. Do the old ones still work?"
   ]
  },
  {
   "cell_type": "code",
   "execution_count": null,
   "id": "31d8547c-ce83-40ba-b1d5-82d3c60ec107",
   "metadata": {},
   "outputs": [],
   "source": [
    "imaging_expt.print_expt_info()"
   ]
  },
  {
   "cell_type": "markdown",
   "id": "acf205a4-1d7d-440c-808d-6164b89710a3",
   "metadata": {},
   "source": [
    "Ok, what about return_data? What do we think it will output?"
   ]
  },
  {
   "cell_type": "code",
   "execution_count": null,
   "id": "40286631-4f9d-4674-a6a6-b183c0adc0f3",
   "metadata": {},
   "outputs": [],
   "source": [
    "imaging_expt.return_data()"
   ]
  },
  {
   "cell_type": "markdown",
   "id": "6341c4fa-6dac-405c-8613-abf8ffb4208a",
   "metadata": {},
   "source": [
    "See how we've created a new version of `return_data`? This is called polymorphism - a single function can take many forms in OOP. This is useful, because often you want a child class to subtly modify or add to a parent class. Think about a vegan cake - the general steps might be the same, but you'd want to go back and modify some of the tasks you're peforming to include different ingredients."
   ]
  },
  {
   "cell_type": "markdown",
   "id": "4ceccbc1-9fd3-4f9b-a3a6-e60dba3297be",
   "metadata": {},
   "source": [
    "### Problem 2"
   ]
  },
  {
   "cell_type": "markdown",
   "id": "f1ade492-9f00-4d9d-829a-d1d8cc4955a5",
   "metadata": {},
   "source": [
    "Just as we did with ImagingExperiment, create a class called BehaviorExperiment that inherits from Experiment. In this class, please take in a `behavior_task` variable instead of `frame_rate`. In addition, please write a modified `return_data` function to print your behavior task."
   ]
  },
  {
   "cell_type": "code",
   "execution_count": null,
   "id": "93e1c4db-c303-44be-9731-a30b820fecd0",
   "metadata": {},
   "outputs": [],
   "source": []
  },
  {
   "cell_type": "markdown",
   "id": "b78d71fd-1361-4884-b804-cab2cf9ca368",
   "metadata": {},
   "source": [
    "### Abstraction\n",
    "Let us extend some of these ideas a little further. What if you wanted to create a parent class that was really a template of a class? First, let me provide an example of why you would want to do this. Let's take the example of a recipe for making a cake (your parent class). You might want to create a recipe, and include a step to put in all your flavorings, but leave the implementation of these flavorings up to the user. In your recipe, you would reference adding your flavorings, but you would not specify what to add. In a similar way, abstraction allows you to create methods that you might use via other methods in your parent class, but wait until creating child classes to implment their specifics. Let's see what this entails before considering a more real-world example."
   ]
  },
  {
   "cell_type": "code",
   "execution_count": null,
   "id": "115a4a21-5c10-4d93-bd7d-f9210fbc6e4a",
   "metadata": {},
   "outputs": [],
   "source": [
    "#Run this code to load the class\n",
    "class Experiment(ABC):\n",
    "        \n",
    "    def __init__(self, path_to_expt, expt_date, experimenter):\n",
    "        self.path_to_expt = path_to_expt\n",
    "        self.expt_date = expt_date\n",
    "        self.experimenter = experimenter\n",
    "        self.generated_date = date.today()\n",
    "    \n",
    "    @abstractmethod\n",
    "    def print_expt_info(self):\n",
    "        pass"
   ]
  },
  {
   "cell_type": "markdown",
   "id": "ad4df9d6-68f0-4cb2-aaec-c42b592451b3",
   "metadata": {},
   "source": [
    "Check out that @abstractmethod tag we used: this will tell python that this is an abstract method that can not be used on its own. Let's see what happens if we try and instantiate an experiment object. In addition, we inherit from ABC, but let's not delve too deeply into that right now. Ask after class if you're curious!"
   ]
  },
  {
   "cell_type": "code",
   "execution_count": null,
   "id": "7731db82-a6a9-4eae-b008-8448a74b45a9",
   "metadata": {},
   "outputs": [],
   "source": [
    "expt = Experiment('12.csv', '12312312', 'bob')\n",
    "expt.print_expt_info()"
   ]
  },
  {
   "cell_type": "markdown",
   "id": "b45cc285-5f76-4d6c-8f52-16fc300999b2",
   "metadata": {},
   "source": [
    "Doesn't work! Let's try creating a child class that implements the abstract method."
   ]
  },
  {
   "cell_type": "code",
   "execution_count": null,
   "id": "a23b0e72-9929-46cd-b83e-f7875c81244c",
   "metadata": {},
   "outputs": [],
   "source": [
    "class MolecularExperiment(Experiment):\n",
    "    \n",
    "    def __init__(self, path_to_expt, expt_date, experimenter, gene):\n",
    "        self.gene = gene\n",
    "        Experiment.__init__(self, path_to_expt, expt_date, experimenter)\n",
    "    \n",
    "    def print_expt_info(self):\n",
    "        print('Path: ', self.path_to_expt)\n",
    "        print('Experiment Date: ', self.expt_date)\n",
    "        print('Experimenter: ', self.experimenter)\n",
    "        print('Generation Date: ', self.generated_date)\n",
    "        print('Gene: ', self.gene)"
   ]
  },
  {
   "cell_type": "code",
   "execution_count": null,
   "id": "5df684ea-82e9-4867-936f-c59a0771a6d8",
   "metadata": {},
   "outputs": [],
   "source": [
    "imaging_expt = MolecularExperiment('experiment_file.csv', '031322', 'Abhi', 'c-Fos')\n",
    "imaging_expt.print_expt_info()"
   ]
  },
  {
   "cell_type": "markdown",
   "id": "532ed65b-dbe7-4218-9c6d-f5e92ec8e2d6",
   "metadata": {},
   "source": [
    "What happens if you try and run the method we've left empty directly?"
   ]
  },
  {
   "cell_type": "markdown",
   "id": "ac791999-2a5e-40cb-94c5-5f33fd889314",
   "metadata": {},
   "source": [
    "To sum things up, OOP provides 1) a user-friendly way to organize code 2) modularity and 3) a simple way to work with similar but distinct data. Of course, OOP is not without issues; OOP can obfuscate and hide what's going on under the hood, and sometimes objects can be modified without you really knowing that you were modifying any object."
   ]
  },
  {
   "cell_type": "markdown",
   "id": "71e9de12-4be6-421a-8732-096076b98957",
   "metadata": {},
   "source": [
    "### Let's take a look at a package that has tons of OOP!"
   ]
  },
  {
   "cell_type": "code",
   "execution_count": null,
   "id": "1373bfa6-436b-4be5-9fb8-0b23ebb5f224",
   "metadata": {},
   "outputs": [],
   "source": [
    "import sklearn\n",
    "import matplotlib.pyplot as plt\n",
    "from sklearn import datasets\n",
    "from sklearn.decomposition import PCA\n",
    "%matplotlib inline"
   ]
  },
  {
   "cell_type": "code",
   "execution_count": null,
   "id": "f7c56a82-5b8c-4442-8797-6466eec934ea",
   "metadata": {},
   "outputs": [],
   "source": [
    "iris = datasets.load_iris()\n",
    "\n",
    "X = iris.data\n",
    "y = iris.target\n",
    "target_names = iris.target_names"
   ]
  },
  {
   "cell_type": "markdown",
   "id": "fdd9f17c-fb82-4249-8a68-8f350f921da3",
   "metadata": {},
   "source": [
    "This is the code to focus on, but let's run through everything first"
   ]
  },
  {
   "cell_type": "code",
   "execution_count": null,
   "id": "800a8f3e-20e3-4835-9776-ec5f10c6d34a",
   "metadata": {},
   "outputs": [],
   "source": [
    "pca = PCA(n_components=2)\n",
    "X_r = pca.fit(X).transform(X)"
   ]
  },
  {
   "cell_type": "code",
   "execution_count": null,
   "id": "1c8dde1f-8c57-4224-a1e6-663aba276831",
   "metadata": {},
   "outputs": [],
   "source": [
    "plt.figure()\n",
    "colors = [\"navy\", \"turquoise\", \"darkorange\"]\n",
    "lw = 2\n",
    "\n",
    "for color, i, target_name in zip(colors, [0, 1, 2], target_names):\n",
    "    plt.scatter(\n",
    "        X_r[y == i, 0], X_r[y == i, 1], color=color, alpha=0.8, lw=lw, label=target_name\n",
    "    )\n",
    "plt.legend(loc=\"best\", shadow=False, scatterpoints=1)\n",
    "plt.title(\"PCA of IRIS dataset\")"
   ]
  },
  {
   "cell_type": "code",
   "execution_count": null,
   "id": "064f6832-4e3a-49f7-9a42-5cdce783d1df",
   "metadata": {},
   "outputs": [],
   "source": []
  },
  {
   "cell_type": "code",
   "execution_count": null,
   "id": "d31ff220-dfaa-43fd-b406-862bf907d430",
   "metadata": {},
   "outputs": [],
   "source": []
  }
 ],
 "metadata": {
  "kernelspec": {
   "display_name": "Python 3 (ipykernel)",
   "language": "python",
   "name": "python3"
  },
  "language_info": {
   "codemirror_mode": {
    "name": "ipython",
    "version": 3
   },
   "file_extension": ".py",
   "mimetype": "text/x-python",
   "name": "python",
   "nbconvert_exporter": "python",
   "pygments_lexer": "ipython3",
   "version": "3.10.6"
  }
 },
 "nbformat": 4,
 "nbformat_minor": 5
}
