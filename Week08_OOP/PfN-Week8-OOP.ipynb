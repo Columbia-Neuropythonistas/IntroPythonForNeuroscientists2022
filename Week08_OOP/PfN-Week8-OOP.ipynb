{
 "cells": [
  {
   "cell_type": "markdown",
   "id": "ca7c0348-6dc4-4244-80a3-1f2c95a5003b",
   "metadata": {},
   "source": [
    "# Python for Neuroscientists Lesson 8\n",
    "## Object-Oriented Programming (OOP)"
   ]
  },
  {
   "cell_type": "markdown",
   "id": "515a2d97-ece0-4389-9eb4-5e7e5de7747c",
   "metadata": {},
   "source": [
    "### Introduction"
   ]
  },
  {
   "cell_type": "markdown",
   "id": "15f85e61-1f79-4f00-acc2-b9af5ce26862",
   "metadata": {},
   "source": [
    "#### OOP vs. Functional Programming"
   ]
  },
  {
   "cell_type": "code",
   "execution_count": 11,
   "id": "b403bcab-b358-4726-824f-636a0410f881",
   "metadata": {},
   "outputs": [],
   "source": [
    "#imports\n",
    "from datetime import date\n",
    "from abc import ABC, abstractmethod\n",
    "import numpy as np\n",
    "import pandas as pd"
   ]
  },
  {
   "cell_type": "code",
   "execution_count": 2,
   "id": "c20537d4-d577-44c0-9b9a-d186b674998a",
   "metadata": {},
   "outputs": [],
   "source": [
    "teacher_names = ['Sam', 'Jasmine', 'Abhi']\n",
    "teacher_units = [[1,2,3], [4,5,6], [7,8,9]]\n",
    "teacher_colorblind = [False, False, True]\n",
    "\n",
    "def print_teacher_info(teacher_names, teacher_units, teacher_colorblind, index):\n",
    "    print(self.name + ' is teaching units ' + str(self.units) + ' and ' + cblind + ' colorblind!')"
   ]
  },
  {
   "cell_type": "code",
   "execution_count": 3,
   "id": "e615b92a-f95b-4ee2-95b7-36406cc36d4f",
   "metadata": {},
   "outputs": [
    {
     "name": "stdout",
     "output_type": "stream",
     "text": [
      "Abhi is teaching units [7, 8, 9] and is colorblind!\n",
      "Sam is teaching units [4, 5, 6] and is NOT colorblind!\n"
     ]
    }
   ],
   "source": [
    "abhi = {'name': 'Abhi',\n",
    "        'units': [7,8,9],\n",
    "        'cblind': True}\n",
    "\n",
    "sam = {'name': 'Sam',\n",
    "        'units': [4,5,6],\n",
    "        'cblind': False}\n",
    "\n",
    "def print_teacher_info(teacher):\n",
    "    if teacher['cblind']:\n",
    "        cblind = 'is'\n",
    "    else:\n",
    "        cblind = 'is NOT'\n",
    "    print(teacher['name'] + ' is teaching units ' + str(teacher['units']) + ' and ' + cblind + ' colorblind!')\n",
    "    \n",
    "print_teacher_info(abhi)\n",
    "print_teacher_info(sam)"
   ]
  },
  {
   "cell_type": "code",
   "execution_count": 4,
   "id": "04acbfdb-a737-4136-ad95-d62f4e2d2f03",
   "metadata": {},
   "outputs": [
    {
     "name": "stdout",
     "output_type": "stream",
     "text": [
      "Abhi is teaching units [7, 8, 9] and is colorblind!\n",
      "Sam is teaching units [4, 5, 6] and is NOT colorblind!\n"
     ]
    }
   ],
   "source": [
    "class Teacher:\n",
    "    \n",
    "    def __init__(self, name, units, colorblind):\n",
    "        self.name = name\n",
    "        self.units = units\n",
    "        self.colorblind = colorblind\n",
    "        \n",
    "    def print_teacher_info(self):\n",
    "        if self.colorblind:\n",
    "            cblind = 'is'\n",
    "        else:\n",
    "            cblind = 'is NOT'\n",
    "        print(self.name + ' is teaching units ' + str(self.units) + ' and ' + cblind + ' colorblind!')\n",
    "        \n",
    "abhi = Teacher('Abhi', [7,8,9], True)\n",
    "sam = Teacher('Sam', [4,5,6], False)\n",
    "abhi.print_teacher_info()\n",
    "sam.print_teacher_info()"
   ]
  },
  {
   "cell_type": "markdown",
   "id": "b792c556-3997-406a-b9cd-2f4d8a7f68ce",
   "metadata": {},
   "source": [
    "### Classes and objexts"
   ]
  },
  {
   "cell_type": "markdown",
   "id": "8f3ea019-553f-4909-a33d-20f0f7877060",
   "metadata": {},
   "source": [
    "We've already created ... "
   ]
  },
  {
   "cell_type": "code",
   "execution_count": 8,
   "id": "0b665e21-5898-4524-82ff-00d4717ef281",
   "metadata": {},
   "outputs": [],
   "source": [
    "#TODO flesh this out\n",
    "a = 3\n",
    "b = int(3)"
   ]
  },
  {
   "cell_type": "markdown",
   "id": "34e61460-a6f9-48f2-8051-9003b5e2dcca",
   "metadata": {},
   "source": [
    "Can someone provide an example? b = int(3)"
   ]
  },
  {
   "cell_type": "code",
   "execution_count": 13,
   "id": "a3c3c720-2263-4a43-8ac2-b21bca18cc13",
   "metadata": {},
   "outputs": [
    {
     "data": {
      "text/html": [
       "<div>\n",
       "<style scoped>\n",
       "    .dataframe tbody tr th:only-of-type {\n",
       "        vertical-align: middle;\n",
       "    }\n",
       "\n",
       "    .dataframe tbody tr th {\n",
       "        vertical-align: top;\n",
       "    }\n",
       "\n",
       "    .dataframe thead th {\n",
       "        text-align: right;\n",
       "    }\n",
       "</style>\n",
       "<table border=\"1\" class=\"dataframe\">\n",
       "  <thead>\n",
       "    <tr style=\"text-align: right;\">\n",
       "      <th></th>\n",
       "      <th>0</th>\n",
       "    </tr>\n",
       "  </thead>\n",
       "  <tbody>\n",
       "    <tr>\n",
       "      <th>0</th>\n",
       "      <td>1</td>\n",
       "    </tr>\n",
       "    <tr>\n",
       "      <th>1</th>\n",
       "      <td>2</td>\n",
       "    </tr>\n",
       "    <tr>\n",
       "      <th>2</th>\n",
       "      <td>3</td>\n",
       "    </tr>\n",
       "  </tbody>\n",
       "</table>\n",
       "</div>"
      ],
      "text/plain": [
       "   0\n",
       "0  1\n",
       "1  2\n",
       "2  3"
      ]
     },
     "execution_count": 13,
     "metadata": {},
     "output_type": "execute_result"
    }
   ],
   "source": [
    "pd.DataFrame([1,2,3])"
   ]
  },
  {
   "cell_type": "markdown",
   "id": "e5c27156-73a3-4b6d-8732-4e4b2b6b23db",
   "metadata": {},
   "source": [
    "#### Example code for a class"
   ]
  },
  {
   "cell_type": "markdown",
   "id": "7addd0fc-a237-4961-8453-8ee1aba3f5e5",
   "metadata": {},
   "source": [
    "Run the code below to load in **class**. We'll go over what this is in just a second."
   ]
  },
  {
   "cell_type": "code",
   "execution_count": 6,
   "id": "776a08e8-4f12-411e-8013-cd1d7a2b1d08",
   "metadata": {},
   "outputs": [],
   "source": [
    "#Run this code to load the class\n",
    "class Experiment:\n",
    "        \n",
    "    def __init__(self, path_to_expt, expt_date, experimenter):\n",
    "        self.path_to_expt = path_to_expt\n",
    "        self.expt_date = expt_date\n",
    "        self.experimenter = experimenter\n",
    "        self.generated_date = date.today()\n",
    "        \n",
    "    def print_expt_info(self):\n",
    "        print('Path: ', self.path_to_expt)\n",
    "        print('Experiment Date: ', self.expt_date)\n",
    "        print('Experimenter: ', self.experimenter)\n",
    "        print('Generation Date: ', self.generated_date)\n",
    "        \n",
    "    def return_data(self):\n",
    "        return 'Pretend that I am experiment data'"
   ]
  },
  {
   "cell_type": "markdown",
   "id": "79237411-0cb9-4635-8008-24065a8a0d84",
   "metadata": {},
   "source": [
    "First, we create an object named `expt`, by calling `Experiment` and providing data. This process is called **creating an object**. Your class is your recipe, and an object is what you make using this recipe."
   ]
  },
  {
   "cell_type": "code",
   "execution_count": 14,
   "id": "36164d5d-4ba1-49c1-b68f-636134f9cb6c",
   "metadata": {},
   "outputs": [],
   "source": [
    "expt = Experiment('experiment_file.csv', '031322', 'Abhi')"
   ]
  },
  {
   "cell_type": "markdown",
   "id": "a4addaa6-c220-447c-a18c-d2e0e926f83b",
   "metadata": {},
   "source": [
    "Now, we can call functions within the class"
   ]
  },
  {
   "cell_type": "code",
   "execution_count": 15,
   "id": "c3b41937-72f8-4f60-8b2c-015095adc117",
   "metadata": {},
   "outputs": [
    {
     "name": "stdout",
     "output_type": "stream",
     "text": [
      "Path:  experiment_file.csv\n",
      "Experiment Date:  031322\n",
      "Experimenter:  Abhi\n",
      "Generation Date:  2022-10-25\n"
     ]
    }
   ],
   "source": [
    "expt.print_expt_info()"
   ]
  },
  {
   "cell_type": "markdown",
   "id": "a748d84d-5735-448c-80dc-45cc1c109f91",
   "metadata": {},
   "source": [
    "What happens if we try to call the function directly?"
   ]
  },
  {
   "cell_type": "code",
   "execution_count": 16,
   "id": "14448f1d-388b-47ae-a18f-ccd7820abc45",
   "metadata": {},
   "outputs": [
    {
     "ename": "NameError",
     "evalue": "name 'print_expt_info' is not defined",
     "output_type": "error",
     "traceback": [
      "\u001b[1;31m---------------------------------------------------------------------------\u001b[0m",
      "\u001b[1;31mNameError\u001b[0m                                 Traceback (most recent call last)",
      "Input \u001b[1;32mIn [16]\u001b[0m, in \u001b[0;36m<cell line: 1>\u001b[1;34m()\u001b[0m\n\u001b[1;32m----> 1\u001b[0m \u001b[43mprint_expt_info\u001b[49m()\n",
      "\u001b[1;31mNameError\u001b[0m: name 'print_expt_info' is not defined"
     ]
    }
   ],
   "source": [
    "print_expt_info()\n",
    "#Experiment.print_expt_info()"
   ]
  },
  {
   "cell_type": "markdown",
   "id": "97867086-f446-4a6b-b483-642f76819ddc",
   "metadata": {},
   "source": [
    "And we can also pull out attributes of our class"
   ]
  },
  {
   "cell_type": "code",
   "execution_count": 17,
   "id": "59c4a66f-9bc9-4c94-81da-1e9dd4f34556",
   "metadata": {},
   "outputs": [
    {
     "data": {
      "text/plain": [
       "'031322'"
      ]
     },
     "execution_count": 17,
     "metadata": {},
     "output_type": "execute_result"
    }
   ],
   "source": [
    "expt.expt_date"
   ]
  },
  {
   "cell_type": "markdown",
   "id": "16552c6f-19f2-4e3b-bf49-f4ab8cb5ec51",
   "metadata": {},
   "source": [
    "We've seen these before - can anyone think of an attribute of numpy arrays?"
   ]
  },
  {
   "cell_type": "code",
   "execution_count": 18,
   "id": "6339008d-e8fc-4eaa-ae60-9af619a477fe",
   "metadata": {},
   "outputs": [
    {
     "data": {
      "text/plain": [
       "(3,)"
      ]
     },
     "execution_count": 18,
     "metadata": {},
     "output_type": "execute_result"
    }
   ],
   "source": [
    "x = np.array([1,2,3])\n",
    "x.shape"
   ]
  },
  {
   "cell_type": "markdown",
   "id": "0bdb4d14-093d-4569-b11b-b13b3e4bc97c",
   "metadata": {},
   "source": [
    "### Writing our own class"
   ]
  },
  {
   "cell_type": "code",
   "execution_count": 61,
   "id": "d8a32363-057a-4bb4-ad2b-1814286d529d",
   "metadata": {},
   "outputs": [],
   "source": [
    "#Students write their own version of this class step by step ALSO HERE WHAT I COULD DO IS INCLUDE DATA LOADING ETC."
   ]
  },
  {
   "cell_type": "code",
   "execution_count": null,
   "id": "2ee7f0de-9bb6-42f0-b934-12bbddf8f080",
   "metadata": {},
   "outputs": [],
   "source": [
    "#TODO get rid of inheritance"
   ]
  },
  {
   "cell_type": "code",
   "execution_count": 66,
   "id": "4520f3e2-76dc-4ca8-9d05-c26972d5c6ab",
   "metadata": {},
   "outputs": [],
   "source": [
    "class MouseExperiment(Experiment):\n",
    "    \n",
    "    \n",
    "    def __init__(self, path_to_expt, expt_date, experimenter, mouse_id):\n",
    "        \"\"\"This is the constructor. This function will be called when you instantiate\n",
    "        an object, so use it to set things up when you create an object.\n",
    "        \"\"\"\n",
    "        self.mouse_id = mouse_id\n",
    "        Experiment.__init__(self, path_to_expt, expt_date, experimenter)\n",
    "        \n",
    "    def print_mouse_id(self):\n",
    "        print('Mouse ID: ',  self.mouse_id)   "
   ]
  },
  {
   "cell_type": "code",
   "execution_count": 68,
   "id": "eba5bb3c-b88d-4548-94e3-5ab80e12ccef",
   "metadata": {},
   "outputs": [],
   "source": [
    "mouse_expt = MouseExperiment('experiment_file.csv', '031322', 'Abhi', 31)"
   ]
  },
  {
   "cell_type": "code",
   "execution_count": 69,
   "id": "60358ffe-5c3b-40fd-af60-4ecadd8852f6",
   "metadata": {},
   "outputs": [
    {
     "name": "stdout",
     "output_type": "stream",
     "text": [
      "Path:  experiment_file_2.csv\n",
      "Experiment Date:  023322\n",
      "Experimenter:  Sam\n",
      "Generation Date:  2022-10-25\n"
     ]
    }
   ],
   "source": [
    "mouse_expt2 = MouseExperiment('experiment_file_2.csv', '023322', 'Sam', 34)\n",
    "mouse_expt2.print_expt_info()"
   ]
  },
  {
   "cell_type": "markdown",
   "id": "7d89d549-82dc-4d19-be40-2de46775d9f9",
   "metadata": {},
   "source": [
    "### Inheritance and polymorphism\n",
    "\n",
    "As I mentioned earlier, one of the important features of OOP is modularity. Let's go back to the recipe analogy I mentioned earlier. Say we had a recipe for cooking a cake, in general. What if we wanted to bake a vanilla cake? I could write a totally new recipe, but that would be redundant. Instead, what I could do is simply change the section where I add flavorings to the cake mix. A chocolate croissant is, in some ways, a more specific form of a pastry, one that inherits some general properties but has unique features that make it distinct.\n",
    "\n",
    "Inheritance is exactly this concept: you can create child classes that inherit from a parent class. Let's see what this means using an example.\n",
    "\n"
   ]
  },
  {
   "cell_type": "code",
   "execution_count": 70,
   "id": "f98dad8f-6d22-4048-b402-89de37112387",
   "metadata": {},
   "outputs": [],
   "source": [
    "class ImagingExperiment(Experiment):\n",
    "    \n",
    "    def frame_rate(self):\n",
    "        print('Frame Rate: 30 Hz')\n",
    "    \n",
    "    def return_data(self):\n",
    "        return 'Pretend that I am imaging data' "
   ]
  },
  {
   "cell_type": "code",
   "execution_count": 71,
   "id": "462f81fe-e6fa-4dd0-81d9-3068259d04ea",
   "metadata": {},
   "outputs": [
    {
     "name": "stdout",
     "output_type": "stream",
     "text": [
      "Path:  experiment_file.csv\n",
      "Experiment Date:  031322\n",
      "Experimenter:  Abhi\n",
      "Generation Date:  2022-10-25\n",
      "Frame Rate: 30 Hz\n"
     ]
    },
    {
     "data": {
      "text/plain": [
       "'Pretend that I am imaging data'"
      ]
     },
     "execution_count": 71,
     "metadata": {},
     "output_type": "execute_result"
    }
   ],
   "source": [
    "imaging_expt = ImagingExperiment('experiment_file.csv', '031322', 'Abhi')\n",
    "imaging_expt.print_expt_info()\n",
    "imaging_expt.frame_rate()\n",
    "imaging_expt.return_data()"
   ]
  },
  {
   "cell_type": "code",
   "execution_count": 72,
   "id": "ec86a16d-5a9f-4dbd-9674-8547b27403f1",
   "metadata": {},
   "outputs": [
    {
     "data": {
      "text/plain": [
       "'Pretend that I am experiment data'"
      ]
     },
     "execution_count": 72,
     "metadata": {},
     "output_type": "execute_result"
    }
   ],
   "source": [
    "expt.return_data()"
   ]
  },
  {
   "cell_type": "markdown",
   "id": "58d1409d-1428-4f3e-853d-088000dc15b6",
   "metadata": {},
   "source": [
    "There's two things to notice here: first, we ran a new function that we haven't seen before, `frame_rate`. Second, when we ran `return_data`, we got a different result than what we did earlier in the notebook. This is because of **polymorphism**, a feature in Python that allows child classes to have modified versions of parent class functions. This is useful because sometimes, you don't want child classes to have the same features or functionality as their parents.\n"
   ]
  },
  {
   "cell_type": "markdown",
   "id": "b78d71fd-1361-4884-b804-cab2cf9ca368",
   "metadata": {},
   "source": [
    "### Abstraction\n",
    "Let us extend some of these ideas a little further. What if you wanted to create a parent class that was really a template of a class? First, let me provide an example of why you would want to do this. Let's take the example of a recipe for making a cake (your parent class). You might want to create a recipe, and include a step to put in all your flavorings, but leave the implementation of these flavorings up to the user. In your recipe, you would reference adding your flavorings, but you would not specify what to add. In a similar way, abstraction allows you to create methods that you might use via other methods in your parent class, but wait until creating child classes to implment their specifics. Let's see what this entails before considering a more real-world example.\n",
    "\n",
    "Recipe analogy -> say you had a template for a cake recipe ?"
   ]
  },
  {
   "cell_type": "code",
   "execution_count": 22,
   "id": "115a4a21-5c10-4d93-bd7d-f9210fbc6e4a",
   "metadata": {},
   "outputs": [],
   "source": [
    "#Run this code to load the class\n",
    "class Experiment:\n",
    "        \n",
    "    def __init__(self, path_to_expt, expt_date, experimenter):\n",
    "        self.path_to_expt = path_to_expt\n",
    "        self.expt_date = expt_date\n",
    "        self.experimenter = experimenter\n",
    "        self.generated_date = date.today()\n",
    "    \n",
    "    @abstractmethod\n",
    "    def print_expt_info(self):\n",
    "        pass\n",
    "        \n",
    "    \n",
    "class ImagingExperiment(Experiment):\n",
    "    \n",
    "    def __init__(self, path_to_expt, expt_date, experimenter, frame_rate):\n",
    "        self.frame_rate = frame_rate\n",
    "        Experiment.__init__(self, path_to_expt, expt_date, experimenter)\n",
    "    \n",
    "    def print_expt_info(self):\n",
    "        print('Path: ', self.path_to_expt)\n",
    "        print('Experiment Date: ', self.expt_date)\n",
    "        print('Experimenter: ', self.experimenter)\n",
    "        print('Generation Date: ', self.generated_date)\n",
    "        print('Frame Rate: ', self.frame_rate)"
   ]
  },
  {
   "cell_type": "code",
   "execution_count": 23,
   "id": "5df684ea-82e9-4867-936f-c59a0771a6d8",
   "metadata": {},
   "outputs": [
    {
     "name": "stdout",
     "output_type": "stream",
     "text": [
      "Path:  experiment_file.csv\n",
      "Experiment Date:  031322\n",
      "Experimenter:  Abhi\n",
      "Generation Date:  2022-10-25\n",
      "Frame Rate:  30\n"
     ]
    }
   ],
   "source": [
    "imaging_expt = ImagingExperiment('experiment_file.csv', '031322', 'Abhi', 30)\n",
    "imaging_expt.print_expt_info()"
   ]
  },
  {
   "cell_type": "markdown",
   "id": "532ed65b-dbe7-4218-9c6d-f5e92ec8e2d6",
   "metadata": {},
   "source": [
    "What happens if you try and run the method we've left empty directly?"
   ]
  },
  {
   "cell_type": "code",
   "execution_count": 24,
   "id": "2ebbadff-c5ba-414d-be0d-0c13c8af398f",
   "metadata": {},
   "outputs": [],
   "source": [
    "expt = Experiment('experiment_file.csv', '031322', 'Abhi')\n",
    "expt.print_expt_info()"
   ]
  },
  {
   "cell_type": "markdown",
   "id": "ac791999-2a5e-40cb-94c5-5f33fd889314",
   "metadata": {},
   "source": [
    "To sum things up, OOP provides 1) a user-friendly way to organize code 2) modularity and 3) a simple way to work with similar but distinct data. Of course, OOP is not without issues; OOP can obfuscate and hide what's going on under the hood, and sometimes objects can be modified without you really knowing that you were modifying any object."
   ]
  },
  {
   "cell_type": "markdown",
   "id": "71e9de12-4be6-421a-8732-096076b98957",
   "metadata": {},
   "source": [
    "Perhaps bring in sklearn if there's time"
   ]
  },
  {
   "cell_type": "code",
   "execution_count": null,
   "id": "1373bfa6-436b-4be5-9fb8-0b23ebb5f224",
   "metadata": {},
   "outputs": [],
   "source": []
  }
 ],
 "metadata": {
  "kernelspec": {
   "display_name": "Python 3 (ipykernel)",
   "language": "python",
   "name": "python3"
  },
  "language_info": {
   "codemirror_mode": {
    "name": "ipython",
    "version": 3
   },
   "file_extension": ".py",
   "mimetype": "text/x-python",
   "name": "python",
   "nbconvert_exporter": "python",
   "pygments_lexer": "ipython3",
   "version": "3.10.6"
  }
 },
 "nbformat": 4,
 "nbformat_minor": 5
}
