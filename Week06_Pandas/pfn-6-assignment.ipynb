{
 "cells": [
  {
   "cell_type": "markdown",
   "id": "4530c9ab",
   "metadata": {},
   "source": [
    "# Python for Neuroscientists 6: Assignment"
   ]
  },
  {
   "cell_type": "code",
   "execution_count": 1,
   "id": "1e004d87",
   "metadata": {},
   "outputs": [],
   "source": [
    "import numpy as np\n",
    "import pandas as pd"
   ]
  },
  {
   "cell_type": "markdown",
   "id": "7d0b9eb7",
   "metadata": {},
   "source": [
    "## 1. Read in the data frames\n",
    "Begin by reading in the data frames saved under 'population_wb.csv' and 'gdp.csv' and assigning them to `population` and `gdp`, respectively.\n",
    "\n",
    "*Hint* Take a look at the section on loading data frames in the original notebooks."
   ]
  },
  {
   "cell_type": "code",
   "execution_count": null,
   "id": "891398d9",
   "metadata": {},
   "outputs": [],
   "source": []
  },
  {
   "cell_type": "markdown",
   "id": "9fa03f2b",
   "metadata": {},
   "source": [
    "## 2. Melt the data frames\n",
    "Both data frames are saved in a wide format. Use the `melt` function (similar to the way we have used it in class) to bring them into a long format, where each row corresponds to a country in one particular year. For this purpose, you need to specify every column that you don't want to turn into an observation as a list for the argument `id_vars`. The name of your variable should be `'year'` and the name of the corresponding value should be `'value'`.\n",
    "\n",
    "*Hint* Take a look at the `melt` command in the original notebook and consider how you have to change its arguments."
   ]
  },
  {
   "cell_type": "code",
   "execution_count": null,
   "id": "f0649864",
   "metadata": {},
   "outputs": [],
   "source": []
  },
  {
   "cell_type": "markdown",
   "id": "20131c73",
   "metadata": {},
   "source": [
    "## 3. (Advanced.) Concatenate the data frames\n",
    "The function `pd.concat` takes in a list of data frames and concatenates them. Concatenate `population` and `gdp` and assign the name `df` to be."
   ]
  },
  {
   "cell_type": "code",
   "execution_count": null,
   "id": "8a7e194d",
   "metadata": {},
   "outputs": [],
   "source": []
  },
  {
   "cell_type": "markdown",
   "id": "24bf28e2",
   "metadata": {},
   "source": [
    "## 4. (Advanced.) Pivot the data frame\n",
    "The result `df` is an example of a dataframe that is too long. Here population and GDP should be different variables, yet they are specified as different observations. The method `df.pivot` can help you fix that. Pivot takes a particular column and uses each of its value as a new column. To be able to apply `pivot`, first drop the column `'Indicator Code'`:"
   ]
  },
  {
   "cell_type": "code",
   "execution_count": null,
   "id": "02ad8234",
   "metadata": {},
   "outputs": [],
   "source": []
  },
  {
   "cell_type": "markdown",
   "id": "11fdc749",
   "metadata": {},
   "source": [
    "Now use pivot to tidy the data frame. The argument `index` should specify all columns you want to keep. `columns`, as a single string should specify the column you want to use to define your new columns. This should by the column specifying the particular indicator. Finally, `values`, as a single string, should specify the column that should fill those new columns."
   ]
  },
  {
   "cell_type": "code",
   "execution_count": null,
   "id": "2b2afa77",
   "metadata": {},
   "outputs": [],
   "source": []
  },
  {
   "cell_type": "markdown",
   "id": "095acdde",
   "metadata": {},
   "source": [
    "The resulting dataframe will have certain columns saved as rownames again. Use the `reset_index` method to correct this."
   ]
  },
  {
   "cell_type": "code",
   "execution_count": null,
   "id": "ea99e4b7",
   "metadata": {},
   "outputs": [],
   "source": []
  }
 ],
 "metadata": {
  "kernelspec": {
   "display_name": "Python 3 (ipykernel)",
   "language": "python",
   "name": "python3"
  },
  "language_info": {
   "codemirror_mode": {
    "name": "ipython",
    "version": 3
   },
   "file_extension": ".py",
   "mimetype": "text/x-python",
   "name": "python",
   "nbconvert_exporter": "python",
   "pygments_lexer": "ipython3",
   "version": "3.10.6"
  }
 },
 "nbformat": 4,
 "nbformat_minor": 5
}
