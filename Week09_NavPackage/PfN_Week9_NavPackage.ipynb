{
 "cells": [
  {
   "cell_type": "markdown",
   "id": "84a3b596-9ddd-47fe-9afd-9e3ab084d07f",
   "metadata": {},
   "source": [
    "# Python for Neuroscientists Week 9 - Navigating Packages + Data Science"
   ]
  },
  {
   "cell_type": "markdown",
   "id": "b6f7b9e8-4f04-47a4-baf1-aaf0c00c703f",
   "metadata": {},
   "source": [
    "## Warmup: loading data\n",
    "We'll be using the same SST dataset that we used two classes ago. Please load in this dataset. If you don't remember how to do this ... google it :)\n",
    "\n",
    "Also just a reminder that you may have to import a few packages to make this work. This is also up to you to figure out.\n",
    "\n",
    "<details>\n",
    "<summary>Click here for a hint!</summary>\n",
    "https://www.w3schools.com/python/pandas/pandas_csv.asp <br>\n",
    "</details>"
   ]
  },
  {
   "cell_type": "code",
   "execution_count": null,
   "id": "ee2db724-8fec-4609-b068-7198751fdf84",
   "metadata": {},
   "outputs": [],
   "source": [
    "#Load in the SST dataset here\n"
   ]
  },
  {
   "cell_type": "markdown",
   "id": "6c6f610c-10e2-4193-a67f-04359ad36ac6",
   "metadata": {},
   "source": [
    "## Running statistical testing in Python\n",
    "Let's start with an easy problem. Say I want to compare pupil area between familiar and novel trials - let's begin by selecting a sample of each. "
   ]
  },
  {
   "cell_type": "code",
   "execution_count": null,
   "id": "bdccced8-2d8e-4ce4-b2a4-4b3a1e84b637",
   "metadata": {},
   "outputs": [],
   "source": [
    "#imports\n",
    "import numpy as np\n",
    "import pandas as pd\n",
    "import matplotlib.pyplot as plt\n",
    "import seaborn as sns\n",
    "from scipy import stats\n",
    "\n",
    "sns.set_style('ticks')\n",
    "sns.set_context('talk')"
   ]
  },
  {
   "cell_type": "code",
   "execution_count": null,
   "id": "331922e1-1e1f-4308-9a80-aa41bf82aca5",
   "metadata": {},
   "outputs": [],
   "source": [
    "familiar_sample = df[df.exposure == 'familiar'].sample(15)\n",
    "novel_sample = df[df.exposure == 'novel'].sample(15)\n",
    "#here, we've taken samples of novel and familiar trials"
   ]
  },
  {
   "cell_type": "code",
   "execution_count": null,
   "id": "f6b8fc52-21ae-4bfd-a012-7bf1ffdba766",
   "metadata": {},
   "outputs": [],
   "source": [
    "sampled_data = pd.concat([familiar_sample, novel_sample])"
   ]
  },
  {
   "cell_type": "code",
   "execution_count": null,
   "id": "4b05504d-d86e-497f-b9d0-f9004a5fd311",
   "metadata": {},
   "outputs": [],
   "source": [
    "sns.stripplot(data = sampled_data, x = 'exposure', y = 'pupil_area', size = 7)"
   ]
  },
  {
   "cell_type": "markdown",
   "id": "1514b184-dc38-4697-a677-6ebe328395d2",
   "metadata": {},
   "source": [
    "### Problem 1\n",
    "Alright, time for a little challenge. You're going to figure out how to do stats in python. Well, to be specific, you're going to tell me what to do.\n",
    "\n",
    "<details>\n",
    "<summary>Click here for a hint!</summary>\n",
    "Sorry, you don't get a hint, you're the instructor. ¯\\(°_o)/¯ <br>\n",
    "</details>"
   ]
  },
  {
   "cell_type": "code",
   "execution_count": null,
   "id": "e56b8f0a-5283-4acb-93cb-3e702e795ac7",
   "metadata": {},
   "outputs": [],
   "source": []
  },
  {
   "cell_type": "markdown",
   "id": "ef6074a7-0bcb-49c9-8c22-0c46ba52c112",
   "metadata": {},
   "source": [
    "### Problem 2\n",
    "Your turn! Please run a one-way ANOVA on mean_response during omitted trials. I'll be such a great instructor and even set up your data for you.\n",
    "\n",
    "As a bonus, please plot your data as well.\n",
    "\n",
    "Google away! As a hint, you should be using scipy for this."
   ]
  },
  {
   "cell_type": "code",
   "execution_count": null,
   "id": "3a60ab86-7c1a-4b25-b94b-096702a4129e",
   "metadata": {},
   "outputs": [],
   "source": []
  },
  {
   "cell_type": "code",
   "execution_count": null,
   "id": "b7cc33f5-7ddf-44c8-8491-1696b56df1e1",
   "metadata": {},
   "outputs": [],
   "source": []
  },
  {
   "cell_type": "markdown",
   "id": "8c67d2b3-1f08-4d1f-af19-7631900b7d26",
   "metadata": {},
   "source": [
    "## Navigating a package\n",
    "\n",
    "What if we want to run a linear regression, say on pupil_area vs. mean_response?\n",
    "\n",
    "Let's take this opportunity to walk though sklearn in a little bit more detail."
   ]
  },
  {
   "cell_type": "code",
   "execution_count": null,
   "id": "608d75a8-973a-47f1-bce6-2becaf3ba961",
   "metadata": {},
   "outputs": [],
   "source": [
    "#Plot our data\n",
    "df_sample = df.sample(100)\n",
    "sns.scatterplot(data = df_sample, x = 'pupil_area', y = 'mean_response')"
   ]
  },
  {
   "cell_type": "code",
   "execution_count": null,
   "id": "fbfd8065-aa88-4e4b-9daa-c0c53bd9c3f9",
   "metadata": {},
   "outputs": [],
   "source": [
    "#arrange our data\n",
    "X = df_sample['pupil_area'].dropna()\n",
    "y = df.loc[X.index]['mean_response'].to_numpy().reshape(-1,1)\n",
    "X = X.to_numpy().reshape(-1,1)"
   ]
  },
  {
   "cell_type": "code",
   "execution_count": null,
   "id": "815f91fb-2329-46e6-bc2f-156f84504f5e",
   "metadata": {},
   "outputs": [],
   "source": [
    "#run regression"
   ]
  },
  {
   "cell_type": "code",
   "execution_count": null,
   "id": "ad8cd1d3-b5ab-40d8-afa2-d104e68469af",
   "metadata": {},
   "outputs": [],
   "source": [
    "#check results"
   ]
  },
  {
   "cell_type": "markdown",
   "id": "9c4a7edd-cf61-42b6-8621-1a3624bb1687",
   "metadata": {},
   "source": [
    "### Builiding a simple classifier"
   ]
  },
  {
   "cell_type": "code",
   "execution_count": null,
   "id": "f883ff16-1e79-4493-a175-90058fa60c53",
   "metadata": {},
   "outputs": [],
   "source": [
    "from sklearn.pipeline import make_pipeline\n",
    "from sklearn.preprocessing import StandardScaler\n",
    "from sklearn.svm import SVC"
   ]
  },
  {
   "cell_type": "code",
   "execution_count": null,
   "id": "4f38a120-5d38-4177-bc4e-4e1a468ecd24",
   "metadata": {},
   "outputs": [],
   "source": [
    "X = df['dF/F'].to_numpy().reshape(-1, 85)\n",
    "y = df['omitted'].to_numpy().reshape(-1, 85)[:, 0]"
   ]
  }
 ],
 "metadata": {
  "kernelspec": {
   "display_name": "Python 3 (ipykernel)",
   "language": "python",
   "name": "python3"
  },
  "language_info": {
   "codemirror_mode": {
    "name": "ipython",
    "version": 3
   },
   "file_extension": ".py",
   "mimetype": "text/x-python",
   "name": "python",
   "nbconvert_exporter": "python",
   "pygments_lexer": "ipython3",
   "version": "3.10.6"
  },
  "toc-autonumbering": true,
  "toc-showcode": false,
  "toc-showmarkdowntxt": false,
  "toc-showtags": false
 },
 "nbformat": 4,
 "nbformat_minor": 5
}
