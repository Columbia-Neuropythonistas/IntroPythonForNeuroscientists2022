{
  "cells": [
    {
      "cell_type": "markdown",
      "source": [
        "# Getting Setup\n",
        "- Select intropython kernel for this Python notebook (top right corner)\n",
        "\n"
      ],
      "metadata": {
        "id": "z-3tCgr7jIxq"
      }
    },
    {
      "cell_type": "markdown",
      "metadata": {
        "id": "QNesIkEEfAya"
      },
      "source": [
        "\n",
        "\n",
        "# Numbers\n",
        "\n",
        "Python can perform mathematical operations, something you will likely use if you work with data in Python. There are different types of numbers -- integers are whole numbers (no decimals) that can be either positive or negative. Floats are numbers with decimals. Python also has complex numbers but we will not cover that here."
      ]
    },
    {
      "cell_type": "markdown",
      "source": [
        "## Addition"
      ],
      "metadata": {
        "id": "OwDCFcimeNJR"
      }
    },
    {
      "cell_type": "code",
      "source": [
        "2.0+10"
      ],
      "metadata": {
        "colab": {
          "base_uri": "https://localhost:8080/"
        },
        "id": "GPiyfm_XguSe",
        "outputId": "6314214c-ca9e-4505-9cb9-a1b7147c74fd"
      },
      "execution_count": null,
      "outputs": [
        {
          "output_type": "execute_result",
          "data": {
            "text/plain": [
              "12.0"
            ]
          },
          "metadata": {},
          "execution_count": 18
        }
      ]
    },
    {
      "cell_type": "code",
      "execution_count": null,
      "metadata": {
        "id": "Iz6HTC_jfAyc",
        "outputId": "4d729e04-3189-4ed8-8729-16abbf3b4504",
        "colab": {
          "base_uri": "https://localhost:8080/"
        }
      },
      "outputs": [
        {
          "output_type": "execute_result",
          "data": {
            "text/plain": [
              "12"
            ]
          },
          "metadata": {},
          "execution_count": 1
        }
      ],
      "source": [
        "2+10"
      ]
    },
    {
      "cell_type": "markdown",
      "source": [
        "### Checking Type"
      ],
      "metadata": {
        "id": "Za9ZTQ5ieqLB"
      }
    },
    {
      "cell_type": "code",
      "source": [
        "type(2+10) # this is a comment. type(...) tells us the type of number inside the parentheses, here 12"
      ],
      "metadata": {
        "colab": {
          "base_uri": "https://localhost:8080/"
        },
        "id": "TAxoIWRkehcW",
        "outputId": "639a784a-cf1c-4b90-9d65-1bc181e3c3de"
      },
      "execution_count": null,
      "outputs": [
        {
          "output_type": "execute_result",
          "data": {
            "text/plain": [
              "int"
            ]
          },
          "metadata": {},
          "execution_count": 8
        }
      ]
    },
    {
      "cell_type": "code",
      "source": [
        "type(2.0+10)  # mixed types (mixed integers / floats) convert to float"
      ],
      "metadata": {
        "colab": {
          "base_uri": "https://localhost:8080/"
        },
        "id": "uxuNpUfZg5Zp",
        "outputId": "9e398e01-e010-40fb-fca5-40c86a009ff1"
      },
      "execution_count": null,
      "outputs": [
        {
          "output_type": "execute_result",
          "data": {
            "text/plain": [
              "float"
            ]
          },
          "metadata": {},
          "execution_count": 21
        }
      ]
    },
    {
      "cell_type": "markdown",
      "source": [
        "## Multiplication"
      ],
      "metadata": {
        "id": "F26AricweZ7f"
      }
    },
    {
      "cell_type": "code",
      "source": [
        "2.0*10.0"
      ],
      "metadata": {
        "colab": {
          "base_uri": "https://localhost:8080/"
        },
        "id": "R0f4XgTJgwxX",
        "outputId": "599fd316-2a4f-45a5-adc2-d8ad41e89aab"
      },
      "execution_count": null,
      "outputs": [
        {
          "output_type": "execute_result",
          "data": {
            "text/plain": [
              "20.0"
            ]
          },
          "metadata": {},
          "execution_count": 19
        }
      ]
    },
    {
      "cell_type": "code",
      "execution_count": null,
      "metadata": {
        "id": "_nL3ZkvWfAyd",
        "outputId": "1e2f0b18-19b1-46c3-9b82-f7ab634df1c3",
        "colab": {
          "base_uri": "https://localhost:8080/"
        }
      },
      "outputs": [
        {
          "output_type": "execute_result",
          "data": {
            "text/plain": [
              "20"
            ]
          },
          "metadata": {},
          "execution_count": 3
        }
      ],
      "source": [
        "2*10"
      ]
    },
    {
      "cell_type": "markdown",
      "source": [
        "## Subtraction"
      ],
      "metadata": {
        "id": "siS5t4KTed8R"
      }
    },
    {
      "cell_type": "code",
      "execution_count": null,
      "metadata": {
        "id": "omPPWZvCfAyd",
        "outputId": "2dd28bbf-4d75-4a5c-daf7-824a95f62ef2",
        "colab": {
          "base_uri": "https://localhost:8080/"
        }
      },
      "outputs": [
        {
          "output_type": "execute_result",
          "data": {
            "text/plain": [
              "20"
            ]
          },
          "metadata": {},
          "execution_count": 5
        }
      ],
      "source": [
        "50 - 5*6"
      ]
    },
    {
      "cell_type": "markdown",
      "source": [
        "## Division\n",
        "\n",
        "Also, note that order of operations holds in python, and you can use parentheses to group operations."
      ],
      "metadata": {
        "id": "z_N2HO9Ce0lv"
      }
    },
    {
      "cell_type": "code",
      "execution_count": null,
      "metadata": {
        "id": "EZfXTYgVfAyd",
        "outputId": "f6ed4dcf-3430-41e8-fbcf-87e1c5024354",
        "colab": {
          "base_uri": "https://localhost:8080/"
        }
      },
      "outputs": [
        {
          "output_type": "execute_result",
          "data": {
            "text/plain": [
              "5.0"
            ]
          },
          "metadata": {},
          "execution_count": 9
        }
      ],
      "source": [
        "\"\"\"\n",
        "this is a multiline comment. \n",
        "division always returns a float\n",
        "\"\"\"\n",
        "\n",
        "(50 - 5*6)/4 \n"
      ]
    },
    {
      "cell_type": "code",
      "source": [
        "type((50 - 5*6)/4)"
      ],
      "metadata": {
        "colab": {
          "base_uri": "https://localhost:8080/"
        },
        "id": "1PGtVe3_fKad",
        "outputId": "ba7faef2-d7ca-422a-dfd6-47cff55fec6e"
      },
      "execution_count": null,
      "outputs": [
        {
          "output_type": "execute_result",
          "data": {
            "text/plain": [
              "float"
            ]
          },
          "metadata": {},
          "execution_count": 10
        }
      ]
    },
    {
      "cell_type": "markdown",
      "source": [
        "### Integer Division"
      ],
      "metadata": {
        "id": "fNKZgCcCfnQm"
      }
    },
    {
      "cell_type": "code",
      "execution_count": null,
      "metadata": {
        "id": "Is0TTOt2fAye",
        "outputId": "76e4b656-035e-49f6-ec8b-aadcdcd4099a",
        "colab": {
          "base_uri": "https://localhost:8080/"
        }
      },
      "outputs": [
        {
          "output_type": "execute_result",
          "data": {
            "text/plain": [
              "0"
            ]
          },
          "metadata": {},
          "execution_count": 12
        }
      ],
      "source": [
        "5//8 # Integer division"
      ]
    },
    {
      "cell_type": "code",
      "source": [
        "type(5//8)"
      ],
      "metadata": {
        "colab": {
          "base_uri": "https://localhost:8080/"
        },
        "id": "epa6VHQafrt9",
        "outputId": "8e9fecad-8011-400d-8852-9e6b5311ff70"
      },
      "execution_count": null,
      "outputs": [
        {
          "output_type": "execute_result",
          "data": {
            "text/plain": [
              "int"
            ]
          },
          "metadata": {},
          "execution_count": 11
        }
      ]
    },
    {
      "cell_type": "markdown",
      "source": [
        "## Modulo\n",
        "Modulo is an operation that you may not be familiar with from your elementary school math classes. Modulo, `a%b`, calculates the remainder of `a` when divided by `b`.\n"
      ],
      "metadata": {
        "id": "eqykKBuPfyCr"
      }
    },
    {
      "cell_type": "code",
      "execution_count": null,
      "metadata": {
        "id": "TsPYhxQlfAye",
        "outputId": "2ab8464d-82ac-4091-8176-a4f4509dc5ba",
        "colab": {
          "base_uri": "https://localhost:8080/"
        }
      },
      "outputs": [
        {
          "output_type": "execute_result",
          "data": {
            "text/plain": [
              "5"
            ]
          },
          "metadata": {},
          "execution_count": 13
        }
      ],
      "source": [
        "17//3"
      ]
    },
    {
      "cell_type": "code",
      "execution_count": null,
      "metadata": {
        "id": "mW2pAw7_fAye",
        "outputId": "96732769-a3ea-465f-9543-96c384c0adc5"
      },
      "outputs": [
        {
          "data": {
            "text/plain": [
              "2"
            ]
          },
          "execution_count": 24,
          "metadata": {},
          "output_type": "execute_result"
        }
      ],
      "source": [
        "17%3"
      ]
    },
    {
      "cell_type": "code",
      "execution_count": null,
      "metadata": {
        "id": "OOqS5XerfAye",
        "outputId": "7d3b7d43-dd1b-471a-e6ab-be2df69510b3"
      },
      "outputs": [
        {
          "data": {
            "text/plain": [
              "17"
            ]
          },
          "execution_count": 25,
          "metadata": {},
          "output_type": "execute_result"
        }
      ],
      "source": [
        "5*3 + 2#quotient * divisor + remainder"
      ]
    },
    {
      "cell_type": "markdown",
      "source": [
        "### Exercise:\n",
        "\n",
        "What will `7%3` be?"
      ],
      "metadata": {
        "id": "gf8fzolTJ2N6"
      }
    },
    {
      "cell_type": "markdown",
      "metadata": {
        "id": "G9IF3FJGfAyh"
      },
      "source": [
        "## Exponentiation"
      ]
    },
    {
      "cell_type": "code",
      "execution_count": null,
      "metadata": {
        "id": "wrPCnNhlfAyh",
        "outputId": "6f7ef13d-9fc0-4574-d6d6-b64d8cbd2944"
      },
      "outputs": [
        {
          "data": {
            "text/plain": [
              "8"
            ]
          },
          "execution_count": 199,
          "metadata": {},
          "output_type": "execute_result"
        }
      ],
      "source": [
        "2**3 # 2 cubed"
      ]
    },
    {
      "cell_type": "code",
      "execution_count": null,
      "metadata": {
        "id": "lx8VUPdJfAyh",
        "outputId": "bba080be-b751-498a-a463-888dc1237494"
      },
      "outputs": [
        {
          "data": {
            "text/plain": [
              "3.952847075210474"
            ]
          },
          "execution_count": 210,
          "metadata": {},
          "output_type": "execute_result"
        }
      ],
      "source": [
        "2.5**(-3/2) "
      ]
    },
    {
      "cell_type": "markdown",
      "source": [
        "## Exercises:\n",
        "For each of the following, what will the output be, and what type will it be?\n",
        "\n",
        "1. `3 + 2/1`\n",
        "2. `3 + 2 //1`\n",
        "3. `3.0 + 2//1`\n",
        "4. `2**2*2/3`\n",
        "5. `5%2 -3`\n",
        "\n"
      ],
      "metadata": {
        "id": "noDz4yC4KZup"
      }
    },
    {
      "cell_type": "markdown",
      "source": [
        "# Defining Variables\n",
        "\n",
        "Variables let you store values and work with them by name.\n",
        "\n",
        "In python, variables can change types after they are created.\n",
        "\n",
        "> Rules for Python variables:\n",
        "- A variable name must start with a letter or the underscore character\n",
        "- A variable name cannot start with a number\n",
        "- A variable name can only contain alpha-numeric characters and underscores (A-z, 0-9, and _ )\n",
        "- Variable names are case-sensitive (age, Age and AGE are three different variables)\n",
        "\n",
        "(Taken from https://www.w3schools.com/python/gloss_python_variable_names.asp)\n",
        "\n",
        "\n",
        "\n",
        "\n"
      ],
      "metadata": {
        "id": "EXnLVH2_goOo"
      }
    },
    {
      "cell_type": "code",
      "execution_count": null,
      "metadata": {
        "id": "pJ7GX4SqfAyf"
      },
      "outputs": [],
      "source": [
        "number = 17"
      ]
    },
    {
      "cell_type": "code",
      "execution_count": null,
      "metadata": {
        "id": "N9w34CHbfAyf",
        "outputId": "8e26e693-d310-4246-896d-29b8af6b77a9"
      },
      "outputs": [
        {
          "data": {
            "text/plain": [
              "17"
            ]
          },
          "execution_count": 28,
          "metadata": {},
          "output_type": "execute_result"
        }
      ],
      "source": [
        "number"
      ]
    },
    {
      "cell_type": "code",
      "execution_count": null,
      "metadata": {
        "id": "cixQgQRdfAyf",
        "outputId": "07e798d9-89cc-400d-d331-9d6994846ba6"
      },
      "outputs": [
        {
          "data": {
            "text/plain": [
              "5"
            ]
          },
          "execution_count": 30,
          "metadata": {},
          "output_type": "execute_result"
        }
      ],
      "source": [
        "quotient # undefined variable returns an error"
      ]
    },
    {
      "cell_type": "code",
      "execution_count": null,
      "metadata": {
        "id": "TgFCcESsfAyf",
        "outputId": "60832344-55a1-4f5b-bb93-be83b94cd171"
      },
      "outputs": [
        {
          "name": "stdout",
          "output_type": "stream",
          "text": [
            "quotient 5 remainder 2\n"
          ]
        }
      ],
      "source": [
        "quotient = 17//3 # how else could we write this? (with number)\n",
        "remainder = number % 3\n",
        "\n"
      ]
    },
    {
      "cell_type": "code",
      "execution_count": null,
      "metadata": {
        "id": "OaVmGTuyfAyf",
        "outputId": "f81aba87-246d-47b8-f735-068706be3b34"
      },
      "outputs": [
        {
          "data": {
            "text/plain": [
              "5"
            ]
          },
          "execution_count": 40,
          "metadata": {},
          "output_type": "execute_result"
        }
      ],
      "source": [
        "quotient"
      ]
    },
    {
      "cell_type": "code",
      "execution_count": null,
      "metadata": {
        "id": "eS__S2H5fAyg",
        "outputId": "5e5e9d25-9d29-44bc-e893-deb7d4e51ac4"
      },
      "outputs": [
        {
          "data": {
            "text/plain": [
              "2"
            ]
          },
          "execution_count": 41,
          "metadata": {},
          "output_type": "execute_result"
        }
      ],
      "source": [
        "remainder"
      ]
    },
    {
      "cell_type": "code",
      "execution_count": null,
      "metadata": {
        "id": "uQiG08b8fAyg",
        "outputId": "a5a3b9ca-470f-4284-9929-cd5c20b5d3a1"
      },
      "outputs": [
        {
          "data": {
            "text/plain": [
              "17"
            ]
          },
          "execution_count": 36,
          "metadata": {},
          "output_type": "execute_result"
        }
      ],
      "source": [
        "quotient *3 +remainder"
      ]
    },
    {
      "cell_type": "markdown",
      "metadata": {
        "id": "rY2qEeajfAyg"
      },
      "source": [
        "# Check for equality"
      ]
    },
    {
      "cell_type": "code",
      "execution_count": null,
      "metadata": {
        "id": "vC1cdWrEfAyg",
        "outputId": "f86d1f1a-85cd-4b80-ec8b-da6ad7f5987e"
      },
      "outputs": [
        {
          "data": {
            "text/plain": [
              "True"
            ]
          },
          "execution_count": 34,
          "metadata": {},
          "output_type": "execute_result"
        }
      ],
      "source": [
        "17 == 17 # 17 is equal to 17"
      ]
    },
    {
      "cell_type": "code",
      "execution_count": null,
      "metadata": {
        "id": "IDZVKEvmfAyg",
        "outputId": "c5ade5f0-f11b-48e9-edf1-af02d3be80b5"
      },
      "outputs": [
        {
          "data": {
            "text/plain": [
              "False"
            ]
          },
          "execution_count": 35,
          "metadata": {},
          "output_type": "execute_result"
        }
      ],
      "source": [
        "17==16 # 17 is equal to 16"
      ]
    },
    {
      "cell_type": "code",
      "execution_count": null,
      "metadata": {
        "id": "NxAyUynefAyg",
        "outputId": "2009467a-2309-48d5-9502-f585d28d0ae5"
      },
      "outputs": [
        {
          "data": {
            "text/plain": [
              "True"
            ]
          },
          "execution_count": 37,
          "metadata": {},
          "output_type": "execute_result"
        }
      ],
      "source": [
        "quotient*3 + remainder == number"
      ]
    },
    {
      "cell_type": "markdown",
      "source": [
        "# Exercise: \n",
        "What will the following blocks of code give?\n",
        "\n",
        " \n",
        "\n",
        "```\n",
        "# Exercise 1\n",
        "a = 22\n",
        "b = 21\n",
        "a == b\n",
        "```\n",
        "\n",
        "\n",
        "\n",
        "```\n",
        "# Exercise 2\n",
        "a = 22\n",
        "b = 22\n",
        "c = a\n",
        "a == b\n",
        "```\n",
        "\n",
        "\n",
        "```\n",
        "# Exercise 3\n",
        "1a = 1\n",
        "b = 22\n",
        "1a == b\n",
        "```\n"
      ],
      "metadata": {
        "id": "q3ooBMV8LtEp"
      }
    },
    {
      "cell_type": "markdown",
      "metadata": {
        "id": "wO-hlOZffAyh"
      },
      "source": [
        "# Strings\n",
        "\n",
        "Strings are a data type for working with text."
      ]
    },
    {
      "cell_type": "code",
      "execution_count": null,
      "metadata": {
        "id": "LMmd24sRfAyi",
        "outputId": "33b157cb-4ba3-4fc7-82cb-6155e887b2bb"
      },
      "outputs": [
        {
          "data": {
            "text/plain": [
              "'hello world string'"
            ]
          },
          "execution_count": 42,
          "metadata": {},
          "output_type": "execute_result"
        }
      ],
      "source": [
        "'hello world string'"
      ]
    },
    {
      "cell_type": "code",
      "execution_count": null,
      "metadata": {
        "id": "xIhndBWlfAyi",
        "outputId": "24d2ff30-3e53-4ea2-df88-5c39449a86ae"
      },
      "outputs": [
        {
          "data": {
            "text/plain": [
              "'also a hello world string'"
            ]
          },
          "execution_count": 43,
          "metadata": {},
          "output_type": "execute_result"
        }
      ],
      "source": [
        "\"also a hello world string\" # can use single or double quotes"
      ]
    },
    {
      "cell_type": "code",
      "execution_count": null,
      "metadata": {
        "id": "lCB5XGPsfAyi",
        "outputId": "2d8443d3-4e2d-4922-ca73-726d4591230c"
      },
      "outputs": [
        {
          "data": {
            "text/plain": [
              "\"isn't it nice to use double quotes sometimes?\""
            ]
          },
          "execution_count": 45,
          "metadata": {},
          "output_type": "execute_result"
        }
      ],
      "source": [
        "\"isn't it nice to use double quotes sometimes?\""
      ]
    },
    {
      "cell_type": "code",
      "execution_count": null,
      "metadata": {
        "id": "kMf-Y3ksfAyi",
        "outputId": "60794ee2-c7cf-4bd2-b509-2b2bd8fb2822"
      },
      "outputs": [
        {
          "data": {
            "text/plain": [
              "\"it isn't nice to use single quotes sometimes\""
            ]
          },
          "execution_count": 47,
          "metadata": {},
          "output_type": "execute_result"
        }
      ],
      "source": [
        "'it isn\\'t nice to use single quotfinetuninges sometimes' # can use the escape(\\) character to use a character that would otherwise do something else."
      ]
    },
    {
      "cell_type": "code",
      "execution_count": null,
      "metadata": {
        "id": "k2aBlFd8fAyi",
        "outputId": "a44c6181-f92d-4de7-b4a9-a5ebf142e8f3"
      },
      "outputs": [
        {
          "data": {
            "text/plain": [
              "'she said \"single quotes can be nice too\"'"
            ]
          },
          "execution_count": 48,
          "metadata": {},
          "output_type": "execute_result"
        }
      ],
      "source": [
        "'she said \"single quotes can be nice too\"'"
      ]
    },
    {
      "cell_type": "code",
      "execution_count": null,
      "metadata": {
        "id": "GNDbIGVrfAyi",
        "outputId": "26f2b7a4-91e6-4486-ec0a-5712b4ce2ee2"
      },
      "outputs": [
        {
          "data": {
            "text/plain": [
              "'she said \"but it\\'s still doable with double quotes\"'"
            ]
          },
          "execution_count": 49,
          "metadata": {},
          "output_type": "execute_result"
        }
      ],
      "source": [
        "\"she said \\\"but it's still doable with double quotes\\\"\""
      ]
    },
    {
      "cell_type": "markdown",
      "metadata": {
        "id": "JU0kSwsIfAyj"
      },
      "source": [
        "hmm there's a weird character in there. what does it look like if we print it?"
      ]
    },
    {
      "cell_type": "code",
      "execution_count": null,
      "metadata": {
        "id": "udkXeAo8fAyj",
        "outputId": "9d707595-82d6-4898-944a-17246daeb2ee"
      },
      "outputs": [
        {
          "name": "stdout",
          "output_type": "stream",
          "text": [
            "she said \"but it's still doable with double quotes\"\n"
          ]
        }
      ],
      "source": [
        "print(\"she said \\\"but it's still doable with double quotes\\\"\") # ah much better"
      ]
    },
    {
      "cell_type": "markdown",
      "metadata": {
        "id": "gIk25gQJfAyj"
      },
      "source": [
        "## Print\n",
        "\n",
        "Print is something called a function -- we will learn more about functions next time. Functions take 0 or more inputs and runs some code.\n",
        "\n",
        "### Help\n",
        "\n",
        "Use help to find out what a function does (sometimes hovering won't work). You can also google the function to find out what it does. The description of what a function does is called a \"docstring.\" We will learn more about docstrings when we learn about functions next class."
      ]
    },
    {
      "cell_type": "code",
      "execution_count": null,
      "metadata": {
        "id": "zIdmSS7LfAyk",
        "outputId": "98e009bf-cb2a-460d-d77a-b3eddfe928bc"
      },
      "outputs": [
        {
          "name": "stdout",
          "output_type": "stream",
          "text": [
            "Help on built-in function print in module builtins:\n",
            "\n",
            "print(...)\n",
            "    print(value, ..., sep=' ', end='\\n', file=sys.stdout, flush=False)\n",
            "    \n",
            "    Prints the values to a stream, or to sys.stdout by default.\n",
            "    Optional keyword arguments:\n",
            "    file:  a file-like object (stream); defaults to the current sys.stdout.\n",
            "    sep:   string inserted between values, default a space.\n",
            "    end:   string appended after the last value, default a newline.\n",
            "    flush: whether to forcibly flush the stream.\n",
            "\n"
          ]
        }
      ],
      "source": [
        "help(print)"
      ]
    },
    {
      "cell_type": "markdown",
      "source": [
        "In jupyter, you can also use `print?`."
      ],
      "metadata": {
        "id": "0H7d6HZTqZdB"
      }
    },
    {
      "cell_type": "code",
      "source": [
        "print? # docstring"
      ],
      "metadata": {
        "id": "auSNcPpEqXyY"
      },
      "execution_count": null,
      "outputs": []
    },
    {
      "cell_type": "code",
      "source": [
        "print?? # with non built in functions, will show the code for the function"
      ],
      "metadata": {
        "id": "IhSHfO-xV1d0"
      },
      "execution_count": null,
      "outputs": []
    },
    {
      "cell_type": "code",
      "execution_count": null,
      "metadata": {
        "id": "O5VPQhkgfAyk",
        "outputId": "7a705dd3-1adb-4349-c440-c450e53a8461"
      },
      "outputs": [
        {
          "name": "stdout",
          "output_type": "stream",
          "text": [
            "to include a slash \\\n"
          ]
        }
      ],
      "source": [
        "print(\"to include a slash \\\\\")"
      ]
    },
    {
      "cell_type": "code",
      "execution_count": null,
      "metadata": {
        "id": "ypL2Yzy4fAyk",
        "outputId": "d44dd686-40a5-42db-bc8f-65ffbd0da39a"
      },
      "outputs": [
        {
          "name": "stdout",
          "output_type": "stream",
          "text": [
            "path\to\n",
            "ame\n"
          ]
        }
      ],
      "source": [
        "print(\"path\\to\\name\") # what happened?"
      ]
    },
    {
      "cell_type": "markdown",
      "source": [
        "## Raw Strings\n",
        "\n",
        "Raw strings take characters as they are and slash is not treated as an escape."
      ],
      "metadata": {
        "id": "TFvOwDFbmrXA"
      }
    },
    {
      "cell_type": "code",
      "execution_count": null,
      "metadata": {
        "id": "JNQ0w7DdfAyk",
        "outputId": "088d87e4-ff78-4f54-92e8-ac9115902d32"
      },
      "outputs": [
        {
          "name": "stdout",
          "output_type": "stream",
          "text": [
            "path\\to\\name\n"
          ]
        }
      ],
      "source": [
        "print(r\"path\\to\\name\") # make it a raw string, what else could we do (see above on including a slash)"
      ]
    },
    {
      "cell_type": "markdown",
      "source": [
        "## Multiline Strings\n",
        "\n",
        "You can define strings that have multiple lines by enclosing them in triple quotes as `'''string'''` or `\"\"\"string\"\"\"`."
      ],
      "metadata": {
        "id": "KCAezbLTmk8G"
      }
    },
    {
      "cell_type": "code",
      "execution_count": null,
      "metadata": {
        "id": "755X1c79fAyl",
        "outputId": "18982532-2ba6-4503-d69a-9d950149e190",
        "colab": {
          "base_uri": "https://localhost:8080/"
        }
      },
      "outputs": [
        {
          "output_type": "stream",
          "name": "stdout",
          "text": [
            "start\n",
            "\n",
            "woah\n",
            "I \n",
            "have many lines\n",
            "woah\n",
            "I \n",
            "have many lines\n",
            "\n",
            "end\n",
            "start\n",
            "\n",
            "woah\n",
            "I \n",
            "have many lines\n",
            "woah\n",
            "I \n",
            "have many lines\n",
            "\n",
            "end\n"
          ]
        }
      ],
      "source": [
        "print(\"start\")\n",
        "# without slash adds a new line at start, with escapes the newline\n",
        "print(\"\"\"\n",
        "woah\n",
        "I \n",
        "have \\\n",
        "many lines\"\"\")\n",
        "print(\"\"\"\\\n",
        "woah\n",
        "I \n",
        "have \\\n",
        "many lines\n",
        "\"\"\")\n",
        "print(\"end\")"
      ]
    },
    {
      "cell_type": "markdown",
      "metadata": {
        "id": "TTbduOe0fAyl"
      },
      "source": [
        "## string concatenation & multiplication\n",
        "\n",
        "You can repeat strings by multiplying them by the number of repeats you want, and you can concatenate strings using the addition symbol."
      ]
    },
    {
      "cell_type": "code",
      "execution_count": null,
      "metadata": {
        "id": "H1orxoTqfAyl",
        "outputId": "6a278d3a-7fc3-4b19-8b62-d2a0c81abc4e",
        "colab": {
          "base_uri": "https://localhost:8080/",
          "height": 37
        }
      },
      "outputs": [
        {
          "output_type": "execute_result",
          "data": {
            "text/plain": [
              "'neuroneuroneuroscience'"
            ],
            "application/vnd.google.colaboratory.intrinsic+json": {
              "type": "string"
            }
          },
          "metadata": {},
          "execution_count": 32
        }
      ],
      "source": [
        "'neuro'*3 + 'science'"
      ]
    },
    {
      "cell_type": "markdown",
      "source": [
        "## Indexing\n",
        "You can extract individual characters from a string by *indexing* into the string. In Python, indexing starts from 0, so `word[0]` gives the first character in the string `word`"
      ],
      "metadata": {
        "id": "cn3xjgN-njEP"
      }
    },
    {
      "cell_type": "code",
      "execution_count": null,
      "metadata": {
        "id": "fBo_xDwFfAym",
        "outputId": "8e398921-57b6-4083-c2a7-6d51d9e25140",
        "colab": {
          "base_uri": "https://localhost:8080/",
          "height": 54
        }
      },
      "outputs": [
        {
          "output_type": "stream",
          "name": "stdout",
          "text": [
            "neuro\n"
          ]
        },
        {
          "output_type": "execute_result",
          "data": {
            "text/plain": [
              "'n'"
            ],
            "application/vnd.google.colaboratory.intrinsic+json": {
              "type": "string"
            }
          },
          "metadata": {},
          "execution_count": 6
        }
      ],
      "source": [
        "word='neuro'\n",
        "print(word)\n",
        "word[0]\n"
      ]
    },
    {
      "cell_type": "code",
      "execution_count": null,
      "metadata": {
        "id": "vWARP8kvfAym",
        "outputId": "29a4ac56-ab4a-4cae-c5ce-65ee84ec3ef9"
      },
      "outputs": [
        {
          "ename": "IndexError",
          "evalue": "string index out of range",
          "output_type": "error",
          "traceback": [
            "\u001b[0;31m---------------------------------------------------------------------------\u001b[0m",
            "\u001b[0;31mIndexError\u001b[0m                                Traceback (most recent call last)",
            "\u001b[1;32m/Users/jasminestone/GitRepos/IntroPythonCourse/IntroPythonForNeuroscientists2022/Week02_WhatCanYouDoWithPython/LessonPlanNotebook.ipynb Cell 41'\u001b[0m in \u001b[0;36m<cell line: 1>\u001b[0;34m()\u001b[0m\n\u001b[0;32m----> <a href='vscode-notebook-cell:/Users/jasminestone/GitRepos/IntroPythonCourse/IntroPythonForNeuroscientists2022/Week02_WhatCanYouDoWithPython/LessonPlanNotebook.ipynb#ch0000061?line=0'>1</a>\u001b[0m word[\u001b[39m5\u001b[39;49m]\n",
            "\u001b[0;31mIndexError\u001b[0m: string index out of range"
          ]
        }
      ],
      "source": [
        "word[5] # because we start from 0 and there are 5 letters in word, 5 is out of range."
      ]
    },
    {
      "cell_type": "code",
      "execution_count": null,
      "metadata": {
        "id": "OmkoAMS1fAym",
        "outputId": "1625ed5b-3f70-45e7-d0f9-7ae0671067c8"
      },
      "outputs": [
        {
          "data": {
            "text/plain": [
              "5"
            ]
          },
          "execution_count": 77,
          "metadata": {},
          "output_type": "execute_result"
        }
      ],
      "source": [
        "len(word) # get the length of word. There are five characters in the string word -- n, e, u, r, and o"
      ]
    },
    {
      "cell_type": "code",
      "execution_count": null,
      "metadata": {
        "id": "mbIrkKK6fAyn",
        "outputId": "92f3d70d-39ab-43b6-c974-ff521d46468b"
      },
      "outputs": [
        {
          "data": {
            "text/plain": [
              "'o'"
            ]
          },
          "execution_count": 78,
          "metadata": {},
          "output_type": "execute_result"
        }
      ],
      "source": [
        "word[4]"
      ]
    },
    {
      "cell_type": "code",
      "execution_count": null,
      "metadata": {
        "id": "ozlBzv7ffAyn",
        "outputId": "4ce9c467-991f-437e-d5f9-0e11419990d1"
      },
      "outputs": [
        {
          "data": {
            "text/plain": [
              "'o'"
            ]
          },
          "execution_count": 79,
          "metadata": {},
          "output_type": "execute_result"
        }
      ],
      "source": [
        "word[-1] # we can get the last character by using -1"
      ]
    },
    {
      "cell_type": "code",
      "execution_count": null,
      "metadata": {
        "id": "05MQbYwMfAyn",
        "outputId": "5b9c5c41-3963-4f96-b91f-300a432812ff"
      },
      "outputs": [
        {
          "data": {
            "text/plain": [
              "'r'"
            ]
          },
          "execution_count": 80,
          "metadata": {},
          "output_type": "execute_result"
        }
      ],
      "source": [
        "word[-2] # second from last"
      ]
    },
    {
      "cell_type": "code",
      "execution_count": null,
      "metadata": {
        "id": "QvvGcLMKfAyo",
        "outputId": "8a8207cb-0655-4eee-cb5d-b76d589b1cd8"
      },
      "outputs": [
        {
          "ename": "IndexError",
          "evalue": "string index out of range",
          "output_type": "error",
          "traceback": [
            "\u001b[0;31m---------------------------------------------------------------------------\u001b[0m",
            "\u001b[0;31mIndexError\u001b[0m                                Traceback (most recent call last)",
            "\u001b[1;32m/Users/jasminestone/GitRepos/IntroPythonCourse/IntroPythonForNeuroscientists2022/Week02_WhatCanYouDoWithPython/LessonPlanNotebook.ipynb Cell 46'\u001b[0m in \u001b[0;36m<cell line: 1>\u001b[0;34m()\u001b[0m\n\u001b[0;32m----> <a href='vscode-notebook-cell:/Users/jasminestone/GitRepos/IntroPythonCourse/IntroPythonForNeuroscientists2022/Week02_WhatCanYouDoWithPython/LessonPlanNotebook.ipynb#ch0000066?line=0'>1</a>\u001b[0m word[\u001b[39m-\u001b[39;49m\u001b[39m6\u001b[39;49m]\n",
            "\u001b[0;31mIndexError\u001b[0m: string index out of range"
          ]
        }
      ],
      "source": [
        "word[-6] # sixth from last"
      ]
    },
    {
      "cell_type": "markdown",
      "metadata": {
        "id": "ATy2d-6pfAyp"
      },
      "source": [
        "## Strings are Immutable\n",
        "\n",
        "This means that you cannot the value of an element in the string, so for example, `word[0]='N'` will not work."
      ]
    },
    {
      "cell_type": "code",
      "execution_count": null,
      "metadata": {
        "id": "hFIPfLzRfAyp",
        "outputId": "faf0d95f-3aeb-42ae-ed41-639ea0a48e84",
        "colab": {
          "base_uri": "https://localhost:8080/",
          "height": 164
        }
      },
      "outputs": [
        {
          "output_type": "error",
          "ename": "NameError",
          "evalue": "ignored",
          "traceback": [
            "\u001b[0;31m---------------------------------------------------------------------------\u001b[0m",
            "\u001b[0;31mNameError\u001b[0m                                 Traceback (most recent call last)",
            "\u001b[0;32m<ipython-input-33-a2f29fdacfd4>\u001b[0m in \u001b[0;36m<module>\u001b[0;34m\u001b[0m\n\u001b[0;32m----> 1\u001b[0;31m \u001b[0mword\u001b[0m\u001b[0;34m[\u001b[0m\u001b[0;36m0\u001b[0m\u001b[0;34m]\u001b[0m \u001b[0;34m=\u001b[0m \u001b[0;34m'N'\u001b[0m\u001b[0;34m\u001b[0m\u001b[0;34m\u001b[0m\u001b[0m\n\u001b[0m",
            "\u001b[0;31mNameError\u001b[0m: name 'word' is not defined"
          ]
        }
      ],
      "source": [
        "word[0] = 'N'"
      ]
    },
    {
      "cell_type": "markdown",
      "source": [
        "## Exercise\n",
        "\n",
        "What will the following print statements print?\n",
        "\n",
        "```\n",
        "exercise_word = \"exercise\\\\\"\n",
        "\n",
        "\n",
        "print(exercise_word) #1\n",
        "print(len(exercise_word)) #2\n",
        "print(exercise_word[1]) #3\n",
        "print(exercise_word[9]) #4\n",
        "print(exercise_word[-1]) #5\n",
        "print(exercise_word*3 + \"rest\") #6\n",
        "exercise_word[-1] = ''\n",
        "print(exercise_word) #7\n",
        "exercise_word = \"new exercise word\"\n",
        "print(exercise_word) #8\n",
        "```\n",
        "\n"
      ],
      "metadata": {
        "id": "Uj5F0zw4NYJY"
      }
    },
    {
      "cell_type": "markdown",
      "metadata": {
        "id": "egtLKDFcfAyp"
      },
      "source": [
        "# Lists\n",
        "\n",
        "Lists let you define a sequence of anything -- strings, integers, floats, other lists, etc. \n",
        "\n",
        "Many of the same operations that work with strings also work with lists. The main difference is that lists are mutable, which means that you can change elements of the list after it has been created."
      ]
    },
    {
      "cell_type": "code",
      "execution_count": null,
      "metadata": {
        "id": "68qVQcv6fAyp"
      },
      "outputs": [],
      "source": [
        "teachers = ['Abhi', 'Sam', 'jasmine']"
      ]
    },
    {
      "cell_type": "code",
      "execution_count": null,
      "metadata": {
        "id": "4jhg38MvfAyp",
        "outputId": "502f995e-697d-448d-ef1f-273df594c3df",
        "colab": {
          "base_uri": "https://localhost:8080/",
          "height": 37
        }
      },
      "outputs": [
        {
          "output_type": "execute_result",
          "data": {
            "text/plain": [
              "'Abhi'"
            ],
            "application/vnd.google.colaboratory.intrinsic+json": {
              "type": "string"
            }
          },
          "metadata": {},
          "execution_count": 36
        }
      ],
      "source": [
        "teachers[0]"
      ]
    },
    {
      "cell_type": "code",
      "execution_count": null,
      "metadata": {
        "id": "GRe4MN6GfAyp",
        "outputId": "f7c57507-dad1-48d2-d4e3-b8bc838f5078",
        "colab": {
          "base_uri": "https://localhost:8080/",
          "height": 37
        }
      },
      "outputs": [
        {
          "output_type": "execute_result",
          "data": {
            "text/plain": [
              "'jasmine'"
            ],
            "application/vnd.google.colaboratory.intrinsic+json": {
              "type": "string"
            }
          },
          "metadata": {},
          "execution_count": 37
        }
      ],
      "source": [
        "teachers[-1]"
      ]
    },
    {
      "cell_type": "code",
      "source": [
        "teachers*3"
      ],
      "metadata": {
        "colab": {
          "base_uri": "https://localhost:8080/"
        },
        "id": "oK8M8Z8tfWBd",
        "outputId": "6bdb6f1c-6deb-43ff-e2c1-bf6d532a700f"
      },
      "execution_count": null,
      "outputs": [
        {
          "output_type": "execute_result",
          "data": {
            "text/plain": [
              "['Abhi', 'Sam', 'jasmine', 'Abhi', 'Sam', 'jasmine', 'Abhi', 'Sam', 'jasmine']"
            ]
          },
          "metadata": {},
          "execution_count": 3
        }
      ]
    },
    {
      "cell_type": "markdown",
      "source": [
        "We will learn about slicing next time, but for now note that slicing returns a copy of a list."
      ],
      "metadata": {
        "id": "DndyEPEUIAaI"
      }
    },
    {
      "cell_type": "code",
      "execution_count": null,
      "metadata": {
        "id": "wZCdFr5ffAyp"
      },
      "outputs": [],
      "source": [
        "teachers_shallow_copy = teachers[:] # shallow here means that if I make a copy of a list of lists, the nested lists will not be copies of the original.\n",
        "teachers_pointer = teachers"
      ]
    },
    {
      "cell_type": "markdown",
      "metadata": {
        "id": "VjupJMXcfAyp"
      },
      "source": [
        "why does this matter? Lists are mutable"
      ]
    },
    {
      "cell_type": "code",
      "execution_count": null,
      "metadata": {
        "id": "rd-xvw7yfAyq"
      },
      "outputs": [],
      "source": [
        "teachers +=['ishani', 'sharon', 'ben']"
      ]
    },
    {
      "cell_type": "code",
      "execution_count": null,
      "metadata": {
        "id": "VTsRym96fAyq"
      },
      "outputs": [],
      "source": [
        "teachers[2] = 'Jasmine' # capitalize my name"
      ]
    },
    {
      "cell_type": "code",
      "execution_count": null,
      "metadata": {
        "id": "ASaffPzKfAyq",
        "outputId": "4c697199-ec9d-4b77-9440-259fa6c32577",
        "colab": {
          "base_uri": "https://localhost:8080/"
        }
      },
      "outputs": [
        {
          "output_type": "execute_result",
          "data": {
            "text/plain": [
              "['Abhi', 'Sam', 'Jasmine', 'ishani', 'sharon', 'ben']"
            ]
          },
          "metadata": {},
          "execution_count": 43
        }
      ],
      "source": [
        "teachers"
      ]
    },
    {
      "cell_type": "code",
      "execution_count": null,
      "metadata": {
        "id": "EGsAX71-fAyq",
        "outputId": "1dc94130-3709-4120-ac64-07c8f217fd23",
        "colab": {
          "base_uri": "https://localhost:8080/"
        }
      },
      "outputs": [
        {
          "output_type": "execute_result",
          "data": {
            "text/plain": [
              "['Abhi', 'Sam', 'jasmine']"
            ]
          },
          "metadata": {},
          "execution_count": 45
        }
      ],
      "source": [
        "teachers_shallow_copy # Didn't change!"
      ]
    },
    {
      "cell_type": "code",
      "execution_count": null,
      "metadata": {
        "id": "NvfSOpVXfAyq",
        "colab": {
          "base_uri": "https://localhost:8080/"
        },
        "outputId": "55ac3aa2-96ef-4c87-87ff-262d79391617"
      },
      "outputs": [
        {
          "output_type": "execute_result",
          "data": {
            "text/plain": [
              "['Abhi', 'Sam', 'Jasmine', 'ishani', 'sharon', 'ben']"
            ]
          },
          "metadata": {},
          "execution_count": 46
        }
      ],
      "source": [
        "teachers_pointer # Did change!"
      ]
    },
    {
      "cell_type": "markdown",
      "source": [
        "### Exercise\n",
        "\n",
        "1. Are strings mutable or immutable?\n",
        "2. Are lists mutable or immutable?\n",
        "3. What will the following codeblock print?\n",
        "\n",
        "```\n",
        "grocery_list = ['apples']\n",
        "grocery_list_a = grocery_list[:]\n",
        "grocery_list_b = grocery_list\n",
        "grocery_list+=['pears']\n",
        "print(grocery_list) # 1\n",
        "print(grocery_a) # 2\n",
        "print(grocery_list_b) # 3\n",
        "```"
      ],
      "metadata": {
        "id": "Qgs8Kl6yPCZ6"
      }
    },
    {
      "cell_type": "markdown",
      "metadata": {
        "id": "F7FC8paAfAyq"
      },
      "source": [
        "## Append"
      ]
    },
    {
      "cell_type": "code",
      "execution_count": null,
      "metadata": {
        "id": "Td9nkkX0fAyq"
      },
      "outputs": [],
      "source": [
        "teachers.append('elom')"
      ]
    },
    {
      "cell_type": "code",
      "execution_count": null,
      "metadata": {
        "id": "bJMlVtkGfAyq",
        "outputId": "3d5c880d-b472-404c-81ed-460c0ef3892c",
        "colab": {
          "base_uri": "https://localhost:8080/"
        }
      },
      "outputs": [
        {
          "output_type": "execute_result",
          "data": {
            "text/plain": [
              "['Abhi', 'Sam', 'Jasmine', 'ishani', 'sharon', 'ben', 'elom']"
            ]
          },
          "metadata": {},
          "execution_count": 48
        }
      ],
      "source": [
        "teachers"
      ]
    },
    {
      "cell_type": "code",
      "execution_count": null,
      "metadata": {
        "id": "9c2QAyVtfAyq",
        "outputId": "7a93c523-0ca5-4091-fa29-dd163812179b"
      },
      "outputs": [
        {
          "data": {
            "text/plain": [
              "['Abhi', 'Sam', 'jasmine']"
            ]
          },
          "execution_count": 168,
          "metadata": {},
          "output_type": "execute_result"
        }
      ],
      "source": [
        "teachers_shallow_copy"
      ]
    },
    {
      "cell_type": "markdown",
      "metadata": {
        "id": "_umTvKsYfAyq"
      },
      "source": [
        "## Removing elements from a list"
      ]
    },
    {
      "cell_type": "code",
      "execution_count": null,
      "metadata": {
        "id": "wH2nP3GofAyr"
      },
      "outputs": [],
      "source": [
        "teachers[1] = []"
      ]
    },
    {
      "cell_type": "code",
      "execution_count": null,
      "metadata": {
        "id": "XM-euzngfAyr",
        "outputId": "06f50731-a10c-49f4-e2dd-9f2c92d717fb",
        "colab": {
          "base_uri": "https://localhost:8080/"
        }
      },
      "outputs": [
        {
          "output_type": "execute_result",
          "data": {
            "text/plain": [
              "['Abhi']"
            ]
          },
          "metadata": {},
          "execution_count": 52
        }
      ],
      "source": [
        "teachers"
      ]
    },
    {
      "cell_type": "markdown",
      "metadata": {
        "id": "ORhuVs5CfAyr"
      },
      "source": [
        "## List of Lists"
      ]
    },
    {
      "cell_type": "code",
      "execution_count": null,
      "metadata": {
        "id": "_LcjxB-5fAyr"
      },
      "outputs": [],
      "source": [
        "n=[1,2,3]\n",
        "s = ['a', 'b', 'c']\n",
        "list_of_list = [n,s]\n",
        "shallow_copy_list_of_list = list_of_list[:]"
      ]
    },
    {
      "cell_type": "code",
      "execution_count": null,
      "metadata": {
        "id": "8V3v3_ULfAyr",
        "outputId": "670ecce7-8b88-4191-b4cd-f0e6ea865b8a",
        "colab": {
          "base_uri": "https://localhost:8080/"
        }
      },
      "outputs": [
        {
          "output_type": "execute_result",
          "data": {
            "text/plain": [
              "[[1, 2, 3], ['a', 'b', 'c']]"
            ]
          },
          "metadata": {},
          "execution_count": 61
        }
      ],
      "source": [
        "list_of_list"
      ]
    },
    {
      "cell_type": "code",
      "execution_count": null,
      "metadata": {
        "id": "FZaQon09fAyr",
        "colab": {
          "base_uri": "https://localhost:8080/"
        },
        "outputId": "cb2b2dab-2cba-4535-c205-c5d1ee3ef646"
      },
      "outputs": [
        {
          "output_type": "stream",
          "name": "stdout",
          "text": [
            "['a', 'b', 'c', [1, 2, 3]]\n"
          ]
        }
      ],
      "source": [
        "s.append(n)\n",
        "print(s)"
      ]
    },
    {
      "cell_type": "code",
      "execution_count": null,
      "metadata": {
        "id": "BGTrXj45fAyr",
        "colab": {
          "base_uri": "https://localhost:8080/"
        },
        "outputId": "9f37fa52-1571-4109-8113-b6d9c5ec2e2f"
      },
      "outputs": [
        {
          "output_type": "stream",
          "name": "stdout",
          "text": [
            "['a', 'b', 'c', [1, 2, 3], 1, 2, 3]\n"
          ]
        }
      ],
      "source": [
        "s.extend(n)\n",
        "print(s)"
      ]
    },
    {
      "cell_type": "code",
      "execution_count": null,
      "metadata": {
        "id": "CY9y1DWHfAyr",
        "outputId": "45b631bb-47ea-46f5-84c1-5f507cd256a1",
        "colab": {
          "base_uri": "https://localhost:8080/"
        }
      },
      "outputs": [
        {
          "output_type": "execute_result",
          "data": {
            "text/plain": [
              "[[1, 2, 3], ['a', 'b', 'c', [1, 2, 3], 1, 2, 3]]"
            ]
          },
          "metadata": {},
          "execution_count": 64
        }
      ],
      "source": [
        "# will list_of_list have changed?\n",
        "\n",
        "list_of_list"
      ]
    },
    {
      "cell_type": "code",
      "source": [
        "# What about the shallow copy of list_of_list\n",
        "shallow_copy_list_of_list"
      ],
      "metadata": {
        "colab": {
          "base_uri": "https://localhost:8080/"
        },
        "id": "2GsVbngKltwL",
        "outputId": "56c3b460-eb75-44bc-cafd-6461e532d3ba"
      },
      "execution_count": null,
      "outputs": [
        {
          "output_type": "execute_result",
          "data": {
            "text/plain": [
              "[[1, 2, 3], ['a', 'b', 'c', [1, 2, 3], 1, 2, 3]]"
            ]
          },
          "metadata": {},
          "execution_count": 65
        }
      ]
    },
    {
      "cell_type": "markdown",
      "source": [
        "## Exercise:\n",
        "\n",
        "What will the following code block print?\n",
        "For each print statement, comment what you think it will be and then test before moving on to the next print statement.\n",
        "\n",
        "```\n",
        "test_list = []\n",
        "test_list +=['do']\n",
        "test_list.append('re')\n",
        "test_list.append(['fa', 'so'])\n",
        "test_list.extend(['la', 'ti'])\n",
        "print(len(list)) #1\n",
        "print(test_list) #2\n",
        "list_copy = test_list[:]\n",
        "list_pointer = test_list\n",
        "print(test_list[2]) #3\n",
        "test_list[2][0] = []\n",
        "print(test_list) #4\n",
        "print(list_copy) #5\n",
        "print(list_pointer) #6\n",
        "\n",
        "test_list[3] = []\n",
        "print(test_list) #7\n",
        "print(list_copy) #8\n",
        "print(list_pointer) #9\n",
        "```\n"
      ],
      "metadata": {
        "id": "lCD1rqbZQC5-"
      }
    },
    {
      "cell_type": "markdown",
      "source": [
        "# Bools"
      ],
      "metadata": {
        "id": "orNfcUUSfRUf"
      }
    },
    {
      "cell_type": "markdown",
      "metadata": {
        "id": "_gGKkY4HfAyt"
      },
      "source": [
        "## Comparison operations\n",
        "* less than or equal `<=` \n",
        "* less than `<`\n",
        "* greater than or equal `>=` \n",
        "* greater than `>` \n",
        "* not equal `!=`\n",
        "* is equal to `==`\n",
        "\n",
        "\n",
        "\n"
      ]
    },
    {
      "cell_type": "code",
      "execution_count": null,
      "metadata": {
        "id": "ofQOeO1wfAyt",
        "outputId": "c2f50870-5b0c-41ab-b3a9-4f1f43e3f051",
        "colab": {
          "base_uri": "https://localhost:8080/"
        }
      },
      "outputs": [
        {
          "output_type": "stream",
          "name": "stdout",
          "text": [
            "True\n",
            "False\n",
            "True\n"
          ]
        }
      ],
      "source": [
        "print(8<10)\n",
        "print(10 < 10)\n",
        "print(10 <= 10)"
      ]
    },
    {
      "cell_type": "code",
      "execution_count": null,
      "metadata": {
        "id": "pDN3woR_fAyt",
        "outputId": "384d190b-c4a3-446c-b69d-c6d2c7282df2"
      },
      "outputs": [
        {
          "data": {
            "text/plain": [
              "True"
            ]
          },
          "execution_count": 213,
          "metadata": {},
          "output_type": "execute_result"
        }
      ],
      "source": [
        "True and True"
      ]
    },
    {
      "cell_type": "code",
      "execution_count": null,
      "metadata": {
        "id": "v9766Oc_fAyt",
        "outputId": "2152deae-6399-43c7-86d4-923d6c31e679"
      },
      "outputs": [
        {
          "data": {
            "text/plain": [
              "False"
            ]
          },
          "execution_count": 214,
          "metadata": {},
          "output_type": "execute_result"
        }
      ],
      "source": [
        "True and False"
      ]
    },
    {
      "cell_type": "code",
      "execution_count": null,
      "metadata": {
        "id": "ypeNHyZ9fAyt",
        "outputId": "4e397fbb-e98a-4692-d52f-c6782827de76"
      },
      "outputs": [
        {
          "data": {
            "text/plain": [
              "True"
            ]
          },
          "execution_count": 215,
          "metadata": {},
          "output_type": "execute_result"
        }
      ],
      "source": [
        "True or False"
      ]
    },
    {
      "cell_type": "code",
      "execution_count": null,
      "metadata": {
        "id": "_Usdl5rjfAyu",
        "outputId": "b16568ef-55c4-42b9-a309-97b5204368a9"
      },
      "outputs": [
        {
          "data": {
            "text/plain": [
              "False"
            ]
          },
          "execution_count": 216,
          "metadata": {},
          "output_type": "execute_result"
        }
      ],
      "source": [
        "False or False"
      ]
    },
    {
      "cell_type": "code",
      "execution_count": null,
      "metadata": {
        "id": "sfDldMQrfAyu",
        "outputId": "ea72c8a9-fff1-4021-8012-9a3cb11f5f9d"
      },
      "outputs": [
        {
          "data": {
            "text/plain": [
              "True"
            ]
          },
          "execution_count": 217,
          "metadata": {},
          "output_type": "execute_result"
        }
      ],
      "source": [
        "True or True"
      ]
    },
    {
      "cell_type": "code",
      "execution_count": null,
      "metadata": {
        "id": "l84mWfBZfAyu",
        "outputId": "cffb4462-8bee-4d9c-d123-9570a122dbcb"
      },
      "outputs": [
        {
          "data": {
            "text/plain": [
              "False"
            ]
          },
          "execution_count": 218,
          "metadata": {},
          "output_type": "execute_result"
        }
      ],
      "source": [
        "not True"
      ]
    },
    {
      "cell_type": "code",
      "execution_count": null,
      "metadata": {
        "id": "gDkq_BixfAyu"
      },
      "outputs": [],
      "source": [
        "neuroscience ='fun'\n",
        "python = 'fun'"
      ]
    },
    {
      "cell_type": "code",
      "execution_count": null,
      "metadata": {
        "id": "B-reddoXfAyu",
        "colab": {
          "base_uri": "https://localhost:8080/"
        },
        "outputId": "1a61239e-92b5-4d71-9712-49f6d5287200"
      },
      "outputs": [
        {
          "output_type": "stream",
          "name": "stdout",
          "text": [
            "yay\n"
          ]
        }
      ],
      "source": [
        "if neuroscience == 'fun' or python == 'fun':\n",
        "    print('yay')"
      ]
    },
    {
      "cell_type": "code",
      "execution_count": null,
      "metadata": {
        "id": "D2140vdifAyu",
        "outputId": "56d6b48c-4700-4241-c4df-32d1bd897dd9",
        "colab": {
          "base_uri": "https://localhost:8080/"
        }
      },
      "outputs": [
        {
          "output_type": "stream",
          "name": "stdout",
          "text": [
            "welcome to the class\n"
          ]
        }
      ],
      "source": [
        "if neuroscience == 'fun' and python == 'fun':\n",
        "    print('welcome to the class')"
      ]
    },
    {
      "cell_type": "markdown",
      "metadata": {
        "id": "8LXydxHJfAyu"
      },
      "source": [
        "most things evaluate to true except for the empty string, empty list, and 0, as well as empty tuple and empty dictionaries (more about these data types in a moment)\n",
        "\n",
        "What is each of the datatypes inside the parentheses?"
      ]
    },
    {
      "cell_type": "code",
      "execution_count": null,
      "metadata": {
        "id": "qZDG17mhfAyu",
        "outputId": "ea2a0f76-413b-4c6b-e9e8-ba3ef47e9a6e"
      },
      "outputs": [
        {
          "data": {
            "text/plain": [
              "True"
            ]
          },
          "execution_count": 228,
          "metadata": {},
          "output_type": "execute_result"
        }
      ],
      "source": [
        "bool(1)"
      ]
    },
    {
      "cell_type": "code",
      "execution_count": null,
      "metadata": {
        "id": "yNM3jhoxfAyu",
        "outputId": "f80c4ad2-af02-4318-e0a7-89b80835b8d4"
      },
      "outputs": [
        {
          "data": {
            "text/plain": [
              "False"
            ]
          },
          "execution_count": 229,
          "metadata": {},
          "output_type": "execute_result"
        }
      ],
      "source": [
        "bool('')"
      ]
    },
    {
      "cell_type": "code",
      "execution_count": null,
      "metadata": {
        "id": "kxM4GqKHfAyu",
        "outputId": "bbba7940-5aeb-4ed9-8ed6-a96f3c01602d"
      },
      "outputs": [
        {
          "data": {
            "text/plain": [
              "False"
            ]
          },
          "execution_count": 230,
          "metadata": {},
          "output_type": "execute_result"
        }
      ],
      "source": [
        "bool(0)"
      ]
    },
    {
      "cell_type": "code",
      "execution_count": null,
      "metadata": {
        "id": "660fH2ipfAyu",
        "outputId": "1363472f-4ca3-4a0e-b6b7-4c2b69e245b9"
      },
      "outputs": [
        {
          "data": {
            "text/plain": [
              "False"
            ]
          },
          "execution_count": 231,
          "metadata": {},
          "output_type": "execute_result"
        }
      ],
      "source": [
        "bool(0.0)"
      ]
    },
    {
      "cell_type": "code",
      "execution_count": null,
      "metadata": {
        "id": "EdjZf1UtfAyu",
        "outputId": "03069e47-9e8c-4016-9385-f4985406be7b"
      },
      "outputs": [
        {
          "data": {
            "text/plain": [
              "False"
            ]
          },
          "execution_count": 232,
          "metadata": {},
          "output_type": "execute_result"
        }
      ],
      "source": [
        "bool([])"
      ]
    },
    {
      "cell_type": "code",
      "execution_count": null,
      "metadata": {
        "id": "swJYKba9fAyu",
        "outputId": "2f576494-f8ac-4fbb-be86-cc14cfa906b7"
      },
      "outputs": [
        {
          "data": {
            "text/plain": [
              "False"
            ]
          },
          "execution_count": 233,
          "metadata": {},
          "output_type": "execute_result"
        }
      ],
      "source": [
        "bool(()) # tuple"
      ]
    },
    {
      "cell_type": "code",
      "execution_count": null,
      "metadata": {
        "id": "s1FDQIWmfAyu",
        "outputId": "c007924c-d96f-455e-91df-cb713c09b624"
      },
      "outputs": [
        {
          "data": {
            "text/plain": [
              "False"
            ]
          },
          "execution_count": 234,
          "metadata": {},
          "output_type": "execute_result"
        }
      ],
      "source": [
        "bool({}) # dictionary"
      ]
    },
    {
      "cell_type": "code",
      "source": [
        "\n",
        "bool(None) #NoneType -- this is a special type often used a placeholder. We will see more about it next time."
      ],
      "metadata": {
        "colab": {
          "base_uri": "https://localhost:8080/"
        },
        "id": "gKPg7HHxGbHs",
        "outputId": "4f28c27e-4414-4764-ea8f-7253e1635be3"
      },
      "execution_count": null,
      "outputs": [
        {
          "output_type": "execute_result",
          "data": {
            "text/plain": [
              "False"
            ]
          },
          "metadata": {},
          "execution_count": 1
        }
      ]
    },
    {
      "cell_type": "code",
      "source": [
        "type(None)"
      ],
      "metadata": {
        "colab": {
          "base_uri": "https://localhost:8080/"
        },
        "id": "o3M7gpYlGcoE",
        "outputId": "fa1d7592-f44d-4911-b922-1a773373d6ab"
      },
      "execution_count": null,
      "outputs": [
        {
          "output_type": "execute_result",
          "data": {
            "text/plain": [
              "NoneType"
            ]
          },
          "metadata": {},
          "execution_count": 2
        }
      ]
    },
    {
      "cell_type": "markdown",
      "source": [
        "## If / else"
      ],
      "metadata": {
        "id": "PXQt3B2pfj9g"
      }
    },
    {
      "cell_type": "code",
      "execution_count": null,
      "metadata": {
        "id": "Biw5fIkcfAyv"
      },
      "outputs": [],
      "source": [
        "num = 9"
      ]
    },
    {
      "cell_type": "code",
      "source": [
        "if num%2 ==1:\n",
        "    print(\"odd\")"
      ],
      "metadata": {
        "colab": {
          "base_uri": "https://localhost:8080/"
        },
        "id": "gHgvwRh_kDFr",
        "outputId": "38fe7bde-d470-4240-81e5-19f0fe83b7bf"
      },
      "execution_count": null,
      "outputs": [
        {
          "output_type": "stream",
          "name": "stdout",
          "text": [
            "odd\n"
          ]
        }
      ]
    },
    {
      "cell_type": "code",
      "execution_count": null,
      "metadata": {
        "id": "pmrUnin6fAyv",
        "outputId": "38881802-8c32-4e17-dd22-4742fabbc38d",
        "colab": {
          "base_uri": "https://localhost:8080/"
        }
      },
      "outputs": [
        {
          "output_type": "stream",
          "name": "stdout",
          "text": [
            "odd\n"
          ]
        }
      ],
      "source": [
        "if num%2 ==1:\n",
        "    print(\"odd\")\n",
        "else:\n",
        "    print(\"even\")"
      ]
    },
    {
      "cell_type": "code",
      "source": [
        "num = 24\n",
        "if num %2 ==1:\n",
        "  print(\"odd\")\n",
        "\n",
        "elif num %3 == 0: # else if\n",
        "  print(\"divisible by 6\")\n",
        "else:\n",
        "  print(\"even and not divisible by 6\")"
      ],
      "metadata": {
        "colab": {
          "base_uri": "https://localhost:8080/"
        },
        "id": "Bg7f_FFxkFZ6",
        "outputId": "88c14cc4-6429-49c9-990a-d327d99c1dd2"
      },
      "execution_count": null,
      "outputs": [
        {
          "output_type": "stream",
          "name": "stdout",
          "text": [
            "divisible by 6\n"
          ]
        }
      ]
    },
    {
      "cell_type": "markdown",
      "source": [
        "## Exercise\n",
        "Write something so that, given a variable called `my_number`:\n",
        "-   if it is not an integer, it prints \"please give me an integer\"\n",
        "- if it is less than 0 it prints \"negative\"\n",
        "- if it is between 0 and 10 it prints \"digit\"\n",
        "- if it is 10 or above prints \"we can't count this on our hands\"\n",
        "\n",
        "\n",
        "Test it out by setting `my_number` to a few different values and making sure it does what you want / expect."
      ],
      "metadata": {
        "id": "X_NCY7KJUHpI"
      }
    },
    {
      "cell_type": "markdown",
      "metadata": {
        "id": "N0ZtMKm7fAyv"
      },
      "source": [
        "# Other datatypes: Dicts, Tuples"
      ]
    },
    {
      "cell_type": "markdown",
      "source": [
        "## Dictionaries\n",
        "\n",
        "Dictionaries are a mutable datatype consistenting of key and value pairs. They are good for quickly accessing the values of arbitrary keys. Keys and values can both be any data type.\n",
        "\n",
        "Dictionaries look like this:\n",
        "```\n",
        "{\n",
        "  key0: value0,\n",
        "  key1: value1,\n",
        "  key2: value2\n",
        "}\n",
        "```"
      ],
      "metadata": {
        "id": "2-Yz0-fSktMw"
      }
    },
    {
      "cell_type": "code",
      "execution_count": null,
      "metadata": {
        "id": "JjnFGOxffAyv"
      },
      "outputs": [],
      "source": [
        "# Dictionaries:\n",
        "monkey_A = {\n",
        "'spiketimes': [0,20,34,56],\n",
        "'name': 'Einstein',\n",
        "}"
      ]
    },
    {
      "cell_type": "code",
      "execution_count": null,
      "metadata": {
        "id": "F8vWMzo4fAyv",
        "outputId": "1fdc1559-82d2-4576-dc7f-8a925b2d8e7f",
        "colab": {
          "base_uri": "https://localhost:8080/"
        }
      },
      "outputs": [
        {
          "output_type": "execute_result",
          "data": {
            "text/plain": [
              "{'spiketimes': [0, 20, 34, 56], 'name': 'Einstein'}"
            ]
          },
          "metadata": {},
          "execution_count": 3
        }
      ],
      "source": [
        "monkey_A"
      ]
    },
    {
      "cell_type": "code",
      "execution_count": null,
      "metadata": {
        "id": "jG_SIu6XfAyv",
        "outputId": "2053bde8-5ec8-4e78-8ad0-936404890ffb",
        "colab": {
          "base_uri": "https://localhost:8080/"
        }
      },
      "outputs": [
        {
          "output_type": "execute_result",
          "data": {
            "text/plain": [
              "dict_keys(['spiketimes', 'name'])"
            ]
          },
          "metadata": {},
          "execution_count": 4
        }
      ],
      "source": [
        "monkey_A.keys() # lists the keys in the dictionary"
      ]
    },
    {
      "cell_type": "code",
      "execution_count": null,
      "metadata": {
        "id": "C7ms44AbfAyv",
        "outputId": "42fb6294-afc3-4b8e-b0ad-2b45569557a7",
        "colab": {
          "base_uri": "https://localhost:8080/"
        }
      },
      "outputs": [
        {
          "output_type": "execute_result",
          "data": {
            "text/plain": [
              "[0, 20, 34, 56]"
            ]
          },
          "metadata": {},
          "execution_count": 5
        }
      ],
      "source": [
        "monkey_A['spiketimes'] # gets the value at the key inside the brackets"
      ]
    },
    {
      "cell_type": "markdown",
      "source": [
        "What will `monkey_A['name']` output?\n",
        "\n",
        "Guess, and then type and run below."
      ],
      "metadata": {
        "id": "2e80huhKc1PB"
      }
    },
    {
      "cell_type": "code",
      "execution_count": null,
      "metadata": {
        "id": "koSoYxyMfAyv"
      },
      "outputs": [],
      "source": []
    },
    {
      "cell_type": "code",
      "execution_count": null,
      "metadata": {
        "id": "Q7psX3R2fAyv"
      },
      "outputs": [],
      "source": [
        "monkey_A['lab'] = 'Churchland' # adds key, value pair to dictionary ('lab' is the key, 'Churchland' is the value)"
      ]
    },
    {
      "cell_type": "code",
      "execution_count": null,
      "metadata": {
        "id": "Ek933PWNfAyv",
        "outputId": "47cbaf57-4f77-43ed-8150-e45f38701e42",
        "colab": {
          "base_uri": "https://localhost:8080/"
        }
      },
      "outputs": [
        {
          "output_type": "execute_result",
          "data": {
            "text/plain": [
              "True"
            ]
          },
          "metadata": {},
          "execution_count": 7
        }
      ],
      "source": [
        "'lab' in monkey_A # test if a key is in a dictionary"
      ]
    },
    {
      "cell_type": "code",
      "source": [
        "print(monkey_A)"
      ],
      "metadata": {
        "colab": {
          "base_uri": "https://localhost:8080/"
        },
        "id": "PHP1xKirdSMF",
        "outputId": "4adeae44-6435-4dc0-de91-9a9d94104f2b"
      },
      "execution_count": null,
      "outputs": [
        {
          "output_type": "stream",
          "name": "stdout",
          "text": [
            "{'spiketimes': [0, 20, 34, 56], 'name': 'Einstein', 'lab': 'Churchland'}\n"
          ]
        }
      ]
    },
    {
      "cell_type": "code",
      "execution_count": null,
      "metadata": {
        "id": "ZmVwk6bxfAyv",
        "outputId": "4ab525ad-bee3-46a9-c5d7-0c5dd50bb666"
      },
      "outputs": [
        {
          "data": {
            "text/plain": [
              "False"
            ]
          },
          "execution_count": 248,
          "metadata": {},
          "output_type": "execute_result"
        }
      ],
      "source": [
        "del monkey_A['lab'] # delete a key value pair\n",
        "'lab' in monkey_A"
      ]
    },
    {
      "cell_type": "markdown",
      "source": [
        "you can create dictionaries from lists and by setting keys equal to values using the `dict` constructor"
      ],
      "metadata": {
        "id": "zrEbKxVLlXUL"
      }
    },
    {
      "cell_type": "code",
      "execution_count": null,
      "metadata": {
        "id": "E1z-_Gu3fAyv",
        "outputId": "569bd459-9e5a-4532-ad7d-1b809cbf963d"
      },
      "outputs": [
        {
          "data": {
            "text/plain": [
              "{1: 'Jasmine', 2: 'Jasmine', 3: 'Jasmine', 4: 'Sam', 5: 'Saum'}"
            ]
          },
          "execution_count": 249,
          "metadata": {},
          "output_type": "execute_result"
        }
      ],
      "source": [
        "dict([(1,'Jasmine'), (2, 'Jasmine'), (3, 'Jasmine'), (4, 'Sam'), (5,'Sam')])"
      ]
    },
    {
      "cell_type": "code",
      "execution_count": null,
      "metadata": {
        "id": "ylPBVB5YfAyv",
        "outputId": "7c2aa2ce-f085-4acd-f7a2-2549e355effa"
      },
      "outputs": [
        {
          "data": {
            "text/plain": [
              "{'instructor_1': 'Jasmine', 'instructor_2': 'Sam', 'instructor_3': 'Abhi'}"
            ]
          },
          "execution_count": 251,
          "metadata": {},
          "output_type": "execute_result"
        }
      ],
      "source": [
        "dict(instructor_1 = 'Jasmine', instructor_2 = 'Sam', instructor_3 = 'Abhi')"
      ]
    },
    {
      "cell_type": "markdown",
      "source": [
        "\n",
        "\n",
        "\n",
        "\n",
        "### Exercise\n",
        "\n",
        "1. Create a dictionary (using any of the above methods) of what you would order for lunch if you could. Have the keys be the menu items, and the values be their prices. Store the dictionary in a variable called `lunch_menu`\n",
        "2. Print out the keys of the dictionary.\n",
        "3. Get the price for a menu item out of the dictionary.\n",
        "4. Check if a certain menu item is in the dictionary.\n",
        "5. Delete that menu item from the dictionary.\n",
        "6. Check again if that menu item is in the dictionary."
      ],
      "metadata": {
        "id": "DVb0Vp4-a76E"
      }
    },
    {
      "cell_type": "markdown",
      "metadata": {
        "id": "MGFATd1CfAyw"
      },
      "source": [
        "## Tuples \n",
        "Tuples are static, or immutable. Like strings, you cannot modify them once you have created them. Slicing works with tuples like it works with lists. Tuples are useful when you want to make sure something cannot accidentally get modified, and we will use them when we learn about functions next class."
      ]
    },
    {
      "cell_type": "code",
      "execution_count": null,
      "metadata": {
        "id": "vVWlOcr-fAyw"
      },
      "outputs": [],
      "source": [
        "my_tup = 'test',0,1"
      ]
    },
    {
      "cell_type": "code",
      "execution_count": null,
      "metadata": {
        "id": "ozc7W3KWfAyw",
        "outputId": "680146de-7e59-4ec4-bc01-85ee433053fd",
        "colab": {
          "base_uri": "https://localhost:8080/"
        }
      },
      "outputs": [
        {
          "output_type": "execute_result",
          "data": {
            "text/plain": [
              "('test', 0, 1)"
            ]
          },
          "metadata": {},
          "execution_count": 34
        }
      ],
      "source": [
        "my_tup"
      ]
    },
    {
      "cell_type": "code",
      "execution_count": null,
      "metadata": {
        "id": "tKZ9YvO4fAyw",
        "outputId": "d12336d9-27fe-43ae-dc77-1918f1d8e539",
        "colab": {
          "base_uri": "https://localhost:8080/",
          "height": 37
        }
      },
      "outputs": [
        {
          "output_type": "execute_result",
          "data": {
            "text/plain": [
              "'test'"
            ],
            "application/vnd.google.colaboratory.intrinsic+json": {
              "type": "string"
            }
          },
          "metadata": {},
          "execution_count": 35
        }
      ],
      "source": [
        "my_tup[0]"
      ]
    },
    {
      "cell_type": "markdown",
      "source": [
        "What will `my_tup[1]` output? Guess before typing and checking below."
      ],
      "metadata": {
        "id": "zAmTVwRlgR84"
      }
    },
    {
      "cell_type": "code",
      "execution_count": null,
      "metadata": {
        "id": "NjwcFuVefAyw",
        "outputId": "f5cfe129-ebb5-4b60-aeda-55f9fce56501",
        "colab": {
          "base_uri": "https://localhost:8080/"
        }
      },
      "outputs": [
        {
          "output_type": "execute_result",
          "data": {
            "text/plain": [
              "(0, 1)"
            ]
          },
          "metadata": {},
          "execution_count": 36
        }
      ],
      "source": []
    },
    {
      "cell_type": "code",
      "execution_count": null,
      "metadata": {
        "id": "EfjCO8FDfAyw",
        "outputId": "76067430-fd2c-4f32-8f50-ed4c9bf9a218",
        "colab": {
          "base_uri": "https://localhost:8080/",
          "height": 164
        }
      },
      "outputs": [
        {
          "output_type": "error",
          "ename": "TypeError",
          "evalue": "ignored",
          "traceback": [
            "\u001b[0;31m---------------------------------------------------------------------------\u001b[0m",
            "\u001b[0;31mTypeError\u001b[0m                                 Traceback (most recent call last)",
            "\u001b[0;32m<ipython-input-37-3a0c6416befe>\u001b[0m in \u001b[0;36m<module>\u001b[0;34m\u001b[0m\n\u001b[0;32m----> 1\u001b[0;31m \u001b[0mmy_tup\u001b[0m\u001b[0;34m[\u001b[0m\u001b[0;36m0\u001b[0m\u001b[0;34m]\u001b[0m \u001b[0;34m=\u001b[0m \u001b[0;34m'it worked'\u001b[0m\u001b[0;34m\u001b[0m\u001b[0;34m\u001b[0m\u001b[0m\n\u001b[0m",
            "\u001b[0;31mTypeError\u001b[0m: 'tuple' object does not support item assignment"
          ]
        }
      ],
      "source": [
        "my_tup[0] = 'it worked' # will this line work? Guess before trying."
      ]
    },
    {
      "cell_type": "code",
      "execution_count": null,
      "metadata": {
        "id": "yWzAHCrUfAyw",
        "outputId": "def98c51-fff5-4f88-ff03-aad974422603",
        "colab": {
          "base_uri": "https://localhost:8080/",
          "height": 164
        }
      },
      "outputs": [
        {
          "output_type": "error",
          "ename": "TypeError",
          "evalue": "ignored",
          "traceback": [
            "\u001b[0;31m---------------------------------------------------------------------------\u001b[0m",
            "\u001b[0;31mTypeError\u001b[0m                                 Traceback (most recent call last)",
            "\u001b[0;32m<ipython-input-38-748a12b8ca88>\u001b[0m in \u001b[0;36m<module>\u001b[0;34m\u001b[0m\n\u001b[0;32m----> 1\u001b[0;31m \u001b[0mmy_tup\u001b[0m \u001b[0;34m+\u001b[0m \u001b[0;36m0\u001b[0m\u001b[0;34m\u001b[0m\u001b[0;34m\u001b[0m\u001b[0m\n\u001b[0m",
            "\u001b[0;31mTypeError\u001b[0m: can only concatenate tuple (not \"int\") to tuple"
          ]
        }
      ],
      "source": [
        "my_tup + 0 # what about this?"
      ]
    },
    {
      "cell_type": "code",
      "execution_count": null,
      "metadata": {
        "id": "jP-IR9F7fAyw",
        "outputId": "c0c46c2c-4729-4883-f3dd-2ffa80e46fd0"
      },
      "outputs": [
        {
          "data": {
            "text/plain": [
              "('test', 0, 1, 0)"
            ]
          },
          "execution_count": 266,
          "metadata": {},
          "output_type": "execute_result"
        }
      ],
      "source": [
        "my_tup + (0,) # creates a new tuple, but my_tup is unchanged."
      ]
    },
    {
      "cell_type": "code",
      "execution_count": null,
      "metadata": {
        "id": "bSRaJdEGfAyw",
        "outputId": "03daee48-62ab-4f82-b383-aba6c1ef5ab1"
      },
      "outputs": [
        {
          "data": {
            "text/plain": [
              "('test', 0, 1)"
            ]
          },
          "execution_count": 267,
          "metadata": {},
          "output_type": "execute_result"
        }
      ],
      "source": [
        "my_tup"
      ]
    },
    {
      "cell_type": "code",
      "execution_count": null,
      "metadata": {
        "id": "AF9plXdOfAyw"
      },
      "outputs": [],
      "source": [
        "new_tup = my_tup + (0,)"
      ]
    },
    {
      "cell_type": "code",
      "execution_count": null,
      "metadata": {
        "id": "75NyJNOlfAyw",
        "outputId": "adbf2fa8-bf28-4e77-8a6f-a1074c0aee22"
      },
      "outputs": [
        {
          "data": {
            "text/plain": [
              "('test', 0, 1, 0)"
            ]
          },
          "execution_count": 269,
          "metadata": {},
          "output_type": "execute_result"
        }
      ],
      "source": [
        "new_tup # what will new_tup be?"
      ]
    },
    {
      "cell_type": "code",
      "execution_count": null,
      "metadata": {
        "id": "o6fMFfexfAyw",
        "outputId": "fc6c6c58-ce43-49d1-9b6c-f3230f24e942"
      },
      "outputs": [
        {
          "ename": "TypeError",
          "evalue": "'tuple' object doesn't support item deletion",
          "output_type": "error",
          "traceback": [
            "\u001b[0;31m---------------------------------------------------------------------------\u001b[0m",
            "\u001b[0;31mTypeError\u001b[0m                                 Traceback (most recent call last)",
            "\u001b[1;32m/Users/jasminestone/GitRepos/IntroPythonCourse/IntroPythonForNeuroscientists2022/Week02_WhatCanYouDoWithPython/LessonPlanNotebook.ipynb Cell 153'\u001b[0m in \u001b[0;36m<cell line: 1>\u001b[0;34m()\u001b[0m\n\u001b[0;32m----> <a href='vscode-notebook-cell:/Users/jasminestone/GitRepos/IntroPythonCourse/IntroPythonForNeuroscientists2022/Week02_WhatCanYouDoWithPython/LessonPlanNotebook.ipynb#ch0000195?line=0'>1</a>\u001b[0m \u001b[39mdel\u001b[39;00m my_tup[\u001b[39m0\u001b[39m]\n",
            "\u001b[0;31mTypeError\u001b[0m: 'tuple' object doesn't support item deletion"
          ]
        }
      ],
      "source": [
        "del my_tup[0]"
      ]
    },
    {
      "cell_type": "markdown",
      "source": [
        "### Tuple Unpacking and Packing\n",
        "\n",
        "Tuple packing and unpacking refers to separating a tuple into variables or joining variables into a tuple. When unpacking `_` is used as a placeholder for a tuple value you do not care about using in further code."
      ],
      "metadata": {
        "id": "rlz3_3dwtgUR"
      }
    },
    {
      "cell_type": "code",
      "execution_count": null,
      "metadata": {
        "id": "8kvGBPKLfAyw"
      },
      "outputs": [],
      "source": [
        "a,b,_ = my_tup # tuple unpacking"
      ]
    },
    {
      "cell_type": "code",
      "execution_count": null,
      "metadata": {
        "id": "R1L9he9sfAyx",
        "outputId": "df5d4144-7069-47f5-f411-92cbd3c2c4b6",
        "colab": {
          "base_uri": "https://localhost:8080/"
        }
      },
      "outputs": [
        {
          "output_type": "stream",
          "name": "stdout",
          "text": [
            "test 0 1\n"
          ]
        }
      ],
      "source": [
        "print(a,b)"
      ]
    },
    {
      "cell_type": "code",
      "execution_count": null,
      "metadata": {
        "id": "o5dquy_RfAyx"
      },
      "outputs": [],
      "source": [
        "new_tup = 1,2,3 # tuple packing"
      ]
    },
    {
      "cell_type": "code",
      "execution_count": null,
      "metadata": {
        "id": "sORUVCEtfAyx",
        "outputId": "15e49d20-4d32-4902-a0ca-316220807520"
      },
      "outputs": [
        {
          "data": {
            "text/plain": [
              "(1, 2, 3)"
            ]
          },
          "execution_count": 274,
          "metadata": {},
          "output_type": "execute_result"
        }
      ],
      "source": [
        "new_tup"
      ]
    },
    {
      "cell_type": "markdown",
      "source": [
        "### Exercise:\n",
        "\n",
        "1. Are tuples mutable or immutable?\n",
        "2. Create a tuple of your and your coding partner's names, called `our_names`.\n",
        "3. Change your name to the name of one of the other people at your table (Can you?)\n",
        "4. Create a new tuple of `whole_table_names` with `our_names` and your other tablemate's names.\n",
        "5. Unpack the tuple, using a placeholder for your own name\n",
        "6. Print everyone else's names using the unpacked values.\n"
      ],
      "metadata": {
        "id": "e0QEHD5Jg3l5"
      }
    },
    {
      "cell_type": "markdown",
      "source": [
        "## For loops and iterating through dictionaries\n",
        "\n",
        "For loops let us repeat code when iterating through a dictionary, list, or a tuple."
      ],
      "metadata": {
        "id": "YYKtXB35f5Ip"
      }
    },
    {
      "cell_type": "code",
      "execution_count": null,
      "metadata": {
        "id": "VwOUlQyrfAyv",
        "outputId": "d50316e4-30ba-4a0f-8f36-ae1b28aee679",
        "colab": {
          "base_uri": "https://localhost:8080/"
        }
      },
      "outputs": [
        {
          "output_type": "stream",
          "name": "stdout",
          "text": [
            "dict_keys(['spiketimes', 'name', 'lab'])\n",
            "spiketimes [0, 20, 34, 56]\n",
            "name Einstein\n",
            "lab Churchland\n"
          ]
        }
      ],
      "source": [
        "print(monkey_A.keys())\n",
        "for k in monkey_A.keys():\n",
        "    print(k,monkey_A[k])"
      ]
    },
    {
      "cell_type": "code",
      "execution_count": null,
      "metadata": {
        "id": "UdJYCUWMfAyv",
        "outputId": "cbe29154-c9db-401d-8dda-9f389cb2a5ae",
        "colab": {
          "base_uri": "https://localhost:8080/"
        }
      },
      "outputs": [
        {
          "output_type": "stream",
          "name": "stdout",
          "text": [
            "dict_items([('spiketimes', [0, 20, 34, 56]), ('name', 'Einstein'), ('lab', 'Churchland')])\n",
            "spiketimes [0, 20, 34, 56]\n",
            "name Einstein\n",
            "lab Churchland\n"
          ]
        }
      ],
      "source": [
        "print(monkey_A.items())# list of items\n",
        "\n",
        "\n",
        "\n",
        "for key, value in monkey_A.items(): # combines tuple unpacking with items\n",
        "    print(key, value)\n",
        "\n",
        "# the above is equivalent to:\n",
        "for item in monkey_A.items():\n",
        "  key, value = item\n",
        "  print(key, value)"
      ]
    },
    {
      "cell_type": "code",
      "execution_count": null,
      "metadata": {
        "id": "ncPwp0JgfAyv",
        "outputId": "7f5c6124-e856-40aa-c556-0060486d1a11",
        "colab": {
          "base_uri": "https://localhost:8080/"
        }
      },
      "outputs": [
        {
          "output_type": "stream",
          "name": "stdout",
          "text": [
            "range(0, 6)\n",
            "0\n",
            "1\n",
            "2\n",
            "3\n",
            "4\n",
            "5\n"
          ]
        }
      ],
      "source": [
        "for i in range(6):\n",
        "    print(i)"
      ]
    },
    {
      "cell_type": "markdown",
      "source": [
        "Look at the help information for range -- what does it do? Can you create for loop through a range like above that starts at 1 and stops at 7 (inclusive)?\n",
        "\n",
        "Try below."
      ],
      "metadata": {
        "id": "QfcnBp65k9JK"
      }
    },
    {
      "cell_type": "code",
      "source": [],
      "metadata": {
        "id": "TVkxabxck8tf"
      },
      "execution_count": null,
      "outputs": []
    },
    {
      "cell_type": "markdown",
      "source": [
        "What about one that starts at 0 and ends at 6 (inclusive) where only every other number is iterated through? (Hint: use the step argument to range)"
      ],
      "metadata": {
        "id": "BoXE9eGznq_V"
      }
    },
    {
      "cell_type": "markdown",
      "source": [],
      "metadata": {
        "id": "DW1gPPw8n36d"
      }
    },
    {
      "cell_type": "code",
      "execution_count": null,
      "metadata": {
        "id": "ObQZxs8efAyw"
      },
      "outputs": [],
      "source": [
        "print(teachers)\n",
        "for i in range(len(teachers)):\n",
        "  print(i, teachers[i])\n",
        "  teachers[i] += 'n'"
      ]
    },
    {
      "cell_type": "code",
      "execution_count": null,
      "metadata": {
        "id": "-QQBgj13fAyw",
        "outputId": "35dbb22e-65ca-42b3-e618-bf0aac4c4957"
      },
      "outputs": [
        {
          "data": {
            "text/plain": [
              "['Abhin']"
            ]
          },
          "execution_count": 258,
          "metadata": {},
          "output_type": "execute_result"
        }
      ],
      "source": [
        "teachers # what do you expect this to output?"
      ]
    },
    {
      "cell_type": "code",
      "execution_count": null,
      "metadata": {
        "id": "MzvAGtzxfAyw",
        "outputId": "c38a4f3d-48f4-45f3-86ed-f81ec816dca1"
      },
      "outputs": [
        {
          "name": "stdout",
          "output_type": "stream",
          "text": [
            "Abhin\n"
          ]
        }
      ],
      "source": [
        "for val in teachers: # directly iterate through the items in a list.\n",
        "    print(val)"
      ]
    },
    {
      "cell_type": "markdown",
      "source": [
        "With something called **list comprehension**, you can use a for loop in line to create dictionaries and lists like this:"
      ],
      "metadata": {
        "id": "utPkDkfSl2o3"
      }
    },
    {
      "cell_type": "code",
      "source": [
        "{x:x**2 for x in range(6)}"
      ],
      "metadata": {
        "colab": {
          "base_uri": "https://localhost:8080/"
        },
        "id": "bydyJ7sFl9YJ",
        "outputId": "ece25f76-92c0-4c80-f0ae-3453a487cc12"
      },
      "execution_count": null,
      "outputs": [
        {
          "output_type": "execute_result",
          "data": {
            "text/plain": [
              "{0: 0, 1: 1, 2: 4, 3: 9, 4: 16, 5: 25}"
            ]
          },
          "metadata": {},
          "execution_count": 31
        }
      ]
    },
    {
      "cell_type": "code",
      "source": [
        "[x**2  for x in range(6) if x%2==0] # only uses x's where the condition is true"
      ],
      "metadata": {
        "colab": {
          "base_uri": "https://localhost:8080/"
        },
        "id": "yZhjx5ycmBgP",
        "outputId": "21a9ef89-5316-4e56-8092-ac52bb0107d6"
      },
      "execution_count": null,
      "outputs": [
        {
          "output_type": "execute_result",
          "data": {
            "text/plain": [
              "[0, 4, 16]"
            ]
          },
          "metadata": {},
          "execution_count": 15
        }
      ]
    },
    {
      "cell_type": "markdown",
      "source": [
        "### Exercise:\n",
        "\n",
        "1. Create a dictionary using list comprehension where the key is $x^3$ and the value is $x^2$ for x's between 1 and 4 inclusive. Assign the dictionary to variable `cube_square`.\n",
        "2. Print the key and value for every key, value pair in `cube_square`\n",
        "3. Create a list using list comprehension where any values between 2 and 10 inclusive that are divisible by 3 are added to the list. Assign the list to a variable called `divisible_3s`.\n",
        "4. Using a for loop, print the index and the value at that index for every element in `divisible_3s`.\n",
        "\n"
      ],
      "metadata": {
        "id": "61njf6Uvlh3Y"
      }
    }
  ],
  "metadata": {
    "kernelspec": {
      "display_name": "Python 3.10.4 ('intropython')",
      "language": "python",
      "name": "python3"
    },
    "language_info": {
      "codemirror_mode": {
        "name": "ipython",
        "version": 3
      },
      "file_extension": ".py",
      "mimetype": "text/x-python",
      "name": "python",
      "nbconvert_exporter": "python",
      "pygments_lexer": "ipython3",
      "version": "3.10.4"
    },
    "orig_nbformat": 4,
    "vscode": {
      "interpreter": {
        "hash": "0800c0f83fa147eddd4b87d7df88a61f04b699d9837e9e8222e971ef1ed63fb6"
      }
    },
    "colab": {
      "provenance": [],
      "toc_visible": true,
      "collapsed_sections": []
    }
  },
  "nbformat": 4,
  "nbformat_minor": 0
}