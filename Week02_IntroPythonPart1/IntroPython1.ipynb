{
 "cells": [
  {
   "cell_type": "markdown",
   "metadata": {
    "id": "z-3tCgr7jIxq"
   },
   "source": [
    "# Getting Setup\n",
    "- Select intropython kernel for this Python notebook (top right corner)\n",
    "\n"
   ]
  },
  {
   "cell_type": "markdown",
   "metadata": {
    "id": "QNesIkEEfAya"
   },
   "source": [
    "\n",
    "\n",
    "# Numbers\n",
    "\n",
    "Python can perform mathematical operations, something you will likely use if you work with data in Python. There are different types of numbers -- integers are whole numbers (no decimals) that can be either positive or negative. Floats are numbers with decimals. Python also has complex numbers but we will not cover that here. Python arithmetic operations follow the order of operations -- PEMDAS (parentheses, exponents, division, addition, subtraction)."
   ]
  },
  {
   "cell_type": "markdown",
   "metadata": {
    "id": "OwDCFcimeNJR"
   },
   "source": [
    "## Addition"
   ]
  },
  {
   "cell_type": "code",
   "execution_count": null,
   "metadata": {
    "colab": {
     "base_uri": "https://localhost:8080/"
    },
    "id": "GPiyfm_XguSe",
    "outputId": "6314214c-ca9e-4505-9cb9-a1b7147c74fd"
   },
   "outputs": [],
   "source": [
    "2.0+10"
   ]
  },
  {
   "cell_type": "code",
   "execution_count": null,
   "metadata": {
    "colab": {
     "base_uri": "https://localhost:8080/"
    },
    "id": "Iz6HTC_jfAyc",
    "outputId": "4d729e04-3189-4ed8-8729-16abbf3b4504"
   },
   "outputs": [],
   "source": [
    "2+10"
   ]
  },
  {
   "cell_type": "markdown",
   "metadata": {
    "id": "Za9ZTQ5ieqLB"
   },
   "source": [
    "### Checking Type"
   ]
  },
  {
   "cell_type": "code",
   "execution_count": null,
   "metadata": {
    "colab": {
     "base_uri": "https://localhost:8080/"
    },
    "id": "TAxoIWRkehcW",
    "outputId": "639a784a-cf1c-4b90-9d65-1bc181e3c3de"
   },
   "outputs": [],
   "source": [
    "type(2+10) # this is a comment. type(...) tells us the type of number inside the parentheses, here 12"
   ]
  },
  {
   "cell_type": "code",
   "execution_count": null,
   "metadata": {
    "colab": {
     "base_uri": "https://localhost:8080/"
    },
    "id": "uxuNpUfZg5Zp",
    "outputId": "9e398e01-e010-40fb-fca5-40c86a009ff1"
   },
   "outputs": [],
   "source": [
    "type(2.0+10)  # mixed types (mixed integers / floats) convert to float"
   ]
  },
  {
   "cell_type": "markdown",
   "metadata": {
    "id": "F26AricweZ7f"
   },
   "source": [
    "## Multiplication"
   ]
  },
  {
   "cell_type": "code",
   "execution_count": null,
   "metadata": {
    "colab": {
     "base_uri": "https://localhost:8080/"
    },
    "id": "R0f4XgTJgwxX",
    "outputId": "599fd316-2a4f-45a5-adc2-d8ad41e89aab"
   },
   "outputs": [],
   "source": [
    "2.0*10"
   ]
  },
  {
   "cell_type": "code",
   "execution_count": null,
   "metadata": {
    "colab": {
     "base_uri": "https://localhost:8080/"
    },
    "id": "_nL3ZkvWfAyd",
    "outputId": "1e2f0b18-19b1-46c3-9b82-f7ab634df1c3"
   },
   "outputs": [],
   "source": [
    "2*10"
   ]
  },
  {
   "cell_type": "markdown",
   "metadata": {
    "id": "siS5t4KTed8R"
   },
   "source": [
    "## Subtraction"
   ]
  },
  {
   "cell_type": "code",
   "execution_count": null,
   "metadata": {
    "colab": {
     "base_uri": "https://localhost:8080/"
    },
    "id": "omPPWZvCfAyd",
    "outputId": "2dd28bbf-4d75-4a5c-daf7-824a95f62ef2"
   },
   "outputs": [],
   "source": [
    "50 - 5*6"
   ]
  },
  {
   "cell_type": "markdown",
   "metadata": {
    "id": "z_N2HO9Ce0lv"
   },
   "source": [
    "## Division\n",
    "\n",
    "Also, note that order of operations holds in python, and you can use parentheses to group operations."
   ]
  },
  {
   "cell_type": "code",
   "execution_count": null,
   "metadata": {
    "colab": {
     "base_uri": "https://localhost:8080/"
    },
    "id": "EZfXTYgVfAyd",
    "outputId": "f6ed4dcf-3430-41e8-fbcf-87e1c5024354"
   },
   "outputs": [],
   "source": [
    "\"\"\"\n",
    "this is a multiline comment. \n",
    "division always returns a float\n",
    "\"\"\"\n",
    "\n",
    "(50 - 5*6)/4 \n"
   ]
  },
  {
   "cell_type": "code",
   "execution_count": null,
   "metadata": {
    "colab": {
     "base_uri": "https://localhost:8080/"
    },
    "id": "1PGtVe3_fKad",
    "outputId": "ba7faef2-d7ca-422a-dfd6-47cff55fec6e"
   },
   "outputs": [],
   "source": [
    "type((50 - 5*6)/4)"
   ]
  },
  {
   "cell_type": "markdown",
   "metadata": {
    "id": "fNKZgCcCfnQm"
   },
   "source": [
    "### Integer Division"
   ]
  },
  {
   "cell_type": "code",
   "execution_count": null,
   "metadata": {
    "colab": {
     "base_uri": "https://localhost:8080/"
    },
    "id": "Is0TTOt2fAye",
    "outputId": "76e4b656-035e-49f6-ec8b-aadcdcd4099a"
   },
   "outputs": [],
   "source": [
    "5//8 # Integer division"
   ]
  },
  {
   "cell_type": "code",
   "execution_count": null,
   "metadata": {
    "colab": {
     "base_uri": "https://localhost:8080/"
    },
    "id": "epa6VHQafrt9",
    "outputId": "8e9fecad-8011-400d-8852-9e6b5311ff70"
   },
   "outputs": [],
   "source": [
    "type(5//8)"
   ]
  },
  {
   "cell_type": "markdown",
   "metadata": {
    "id": "eqykKBuPfyCr"
   },
   "source": [
    "## Modulo\n",
    "Modulo is an operation that you may not be familiar with from your elementary school math classes. Modulo, `a%b`, calculates the remainder of `a` when divided by `b`.\n"
   ]
  },
  {
   "cell_type": "code",
   "execution_count": null,
   "metadata": {
    "colab": {
     "base_uri": "https://localhost:8080/"
    },
    "id": "TsPYhxQlfAye",
    "outputId": "2ab8464d-82ac-4091-8176-a4f4509dc5ba"
   },
   "outputs": [],
   "source": [
    "17//3"
   ]
  },
  {
   "cell_type": "code",
   "execution_count": null,
   "metadata": {
    "id": "mW2pAw7_fAye",
    "outputId": "96732769-a3ea-465f-9543-96c384c0adc5"
   },
   "outputs": [],
   "source": [
    "17%3"
   ]
  },
  {
   "cell_type": "code",
   "execution_count": null,
   "metadata": {
    "id": "OOqS5XerfAye",
    "outputId": "7d3b7d43-dd1b-471a-e6ab-be2df69510b3"
   },
   "outputs": [],
   "source": [
    "5*3 + 2#quotient * divisor + remainder"
   ]
  },
  {
   "cell_type": "markdown",
   "metadata": {
    "id": "gf8fzolTJ2N6"
   },
   "source": [
    "### Exercise:\n",
    "\n",
    "What will `7%3` be?"
   ]
  },
  {
   "cell_type": "markdown",
   "metadata": {
    "id": "G9IF3FJGfAyh"
   },
   "source": [
    "## Exponentiation"
   ]
  },
  {
   "cell_type": "code",
   "execution_count": null,
   "metadata": {
    "id": "wrPCnNhlfAyh",
    "outputId": "6f7ef13d-9fc0-4574-d6d6-b64d8cbd2944"
   },
   "outputs": [],
   "source": [
    "2**3 # 2 cubed"
   ]
  },
  {
   "cell_type": "code",
   "execution_count": null,
   "metadata": {
    "id": "lx8VUPdJfAyh",
    "outputId": "bba080be-b751-498a-a463-888dc1237494"
   },
   "outputs": [],
   "source": [
    "2.5**(-3/2) "
   ]
  },
  {
   "cell_type": "markdown",
   "metadata": {
    "id": "noDz4yC4KZup"
   },
   "source": [
    "## Exercises:\n",
    "For each of the following, what will the output be, and what type will it be?\n",
    "\n",
    "1. `3 + 2/1`\n",
    "2. `3 + 2 //1`\n",
    "3. `3.0 + 2//1`\n",
    "4. `2**2*2/3`\n",
    "5. `5%2 -3`\n",
    "\n"
   ]
  },
  {
   "cell_type": "markdown",
   "metadata": {
    "id": "EXnLVH2_goOo"
   },
   "source": [
    "# Defining Variables\n",
    "\n",
    "Variables let you store values and work with them by name.\n",
    "\n",
    "In python, variables can change types after they are created.\n",
    "\n",
    "> Rules for Python variables:\n",
    "- A variable name must start with a letter or the underscore character\n",
    "- A variable name cannot start with a number\n",
    "- A variable name can only contain alpha-numeric characters and underscores (A-z, 0-9, and _ )\n",
    "- Variable names are case-sensitive (age, Age and AGE are three different variables)\n",
    "- In Python, typically use snake case (separate words by underscores)\n",
    "\n",
    "(Taken from https://www.w3schools.com/python/gloss_python_variable_names.asp)\n",
    "\n",
    "\n",
    "\n",
    "\n"
   ]
  },
  {
   "cell_type": "code",
   "execution_count": null,
   "metadata": {
    "id": "pJ7GX4SqfAyf"
   },
   "outputs": [],
   "source": [
    "number = 17"
   ]
  },
  {
   "cell_type": "code",
   "execution_count": null,
   "metadata": {
    "id": "N9w34CHbfAyf",
    "outputId": "8e26e693-d310-4246-896d-29b8af6b77a9"
   },
   "outputs": [],
   "source": [
    "number"
   ]
  },
  {
   "cell_type": "code",
   "execution_count": null,
   "metadata": {
    "id": "cixQgQRdfAyf",
    "outputId": "07e798d9-89cc-400d-d331-9d6994846ba6"
   },
   "outputs": [],
   "source": [
    "quotient # undefined variable returns an error"
   ]
  },
  {
   "cell_type": "code",
   "execution_count": null,
   "metadata": {
    "id": "TgFCcESsfAyf",
    "outputId": "60832344-55a1-4f5b-bb93-be83b94cd171"
   },
   "outputs": [],
   "source": [
    "quotient = 17//3 # how else could we write this?\n",
    "\n",
    "\n"
   ]
  },
  {
   "cell_type": "markdown",
   "metadata": {},
   "source": [
    "Could we use `number` to define quotient? Do so below."
   ]
  },
  {
   "cell_type": "code",
   "execution_count": null,
   "metadata": {},
   "outputs": [],
   "source": []
  },
  {
   "cell_type": "code",
   "execution_count": null,
   "metadata": {
    "id": "OaVmGTuyfAyf",
    "outputId": "f81aba87-246d-47b8-f735-068706be3b34"
   },
   "outputs": [],
   "source": [
    "quotient"
   ]
  },
  {
   "cell_type": "code",
   "execution_count": null,
   "metadata": {},
   "outputs": [],
   "source": [
    "remainder = number%3"
   ]
  },
  {
   "cell_type": "code",
   "execution_count": null,
   "metadata": {
    "id": "eS__S2H5fAyg",
    "outputId": "5e5e9d25-9d29-44bc-e893-deb7d4e51ac4"
   },
   "outputs": [],
   "source": [
    "remainder"
   ]
  },
  {
   "cell_type": "code",
   "execution_count": null,
   "metadata": {
    "id": "uQiG08b8fAyg",
    "outputId": "a5a3b9ca-470f-4284-9929-cd5c20b5d3a1"
   },
   "outputs": [],
   "source": [
    "quotient *3 +remainder"
   ]
  },
  {
   "cell_type": "markdown",
   "metadata": {
    "id": "rY2qEeajfAyg"
   },
   "source": [
    "# Check for equality"
   ]
  },
  {
   "cell_type": "code",
   "execution_count": null,
   "metadata": {
    "id": "vC1cdWrEfAyg",
    "outputId": "f86d1f1a-85cd-4b80-ec8b-da6ad7f5987e"
   },
   "outputs": [],
   "source": [
    "17 == 17 # 17 is equal to 17"
   ]
  },
  {
   "cell_type": "code",
   "execution_count": null,
   "metadata": {
    "id": "IDZVKEvmfAyg",
    "outputId": "c5ade5f0-f11b-48e9-edf1-af02d3be80b5"
   },
   "outputs": [],
   "source": [
    "17==16 # 17 is equal to 16"
   ]
  },
  {
   "cell_type": "code",
   "execution_count": null,
   "metadata": {
    "id": "NxAyUynefAyg",
    "outputId": "2009467a-2309-48d5-9502-f585d28d0ae5"
   },
   "outputs": [],
   "source": [
    "quotient*3 + remainder == number"
   ]
  },
  {
   "cell_type": "markdown",
   "metadata": {
    "id": "q3ooBMV8LtEp"
   },
   "source": [
    "# Exercise: \n",
    "What will the following blocks of code give?\n",
    "\n",
    " \n",
    "\n",
    "```\n",
    "# Exercise 1\n",
    "a = 22\n",
    "b = 21\n",
    "a == b\n",
    "```\n",
    "\n",
    "\n",
    "\n",
    "```\n",
    "# Exercise 2\n",
    "a = 22\n",
    "b = 22\n",
    "c = a\n",
    "a == b\n",
    "```\n",
    "\n",
    "\n",
    "```\n",
    "# Exercise 3\n",
    "1a = 1\n",
    "b = 22\n",
    "1a == b\n",
    "```\n"
   ]
  },
  {
   "cell_type": "markdown",
   "metadata": {
    "id": "wO-hlOZffAyh"
   },
   "source": [
    "# Strings\n",
    "\n",
    "Strings are a data type for working with text."
   ]
  },
  {
   "cell_type": "code",
   "execution_count": null,
   "metadata": {
    "id": "LMmd24sRfAyi",
    "outputId": "33b157cb-4ba3-4fc7-82cb-6155e887b2bb"
   },
   "outputs": [],
   "source": [
    "'hello world string'"
   ]
  },
  {
   "cell_type": "code",
   "execution_count": null,
   "metadata": {
    "id": "xIhndBWlfAyi",
    "outputId": "24d2ff30-3e53-4ea2-df88-5c39449a86ae"
   },
   "outputs": [],
   "source": [
    "\"also a hello world string\" # can use single or double quotes"
   ]
  },
  {
   "cell_type": "code",
   "execution_count": null,
   "metadata": {
    "id": "lCB5XGPsfAyi",
    "outputId": "2d8443d3-4e2d-4922-ca73-726d4591230c"
   },
   "outputs": [],
   "source": [
    "\"isn't it nice to use double quotes sometimes?\""
   ]
  },
  {
   "cell_type": "code",
   "execution_count": null,
   "metadata": {
    "id": "kMf-Y3ksfAyi",
    "outputId": "60794ee2-c7cf-4bd2-b509-2b2bd8fb2822"
   },
   "outputs": [],
   "source": [
    "'it isn\\'t nice to use single quotes sometimes' # can use the escape(\\) character to use a character that would otherwise do something else."
   ]
  },
  {
   "cell_type": "code",
   "execution_count": null,
   "metadata": {
    "id": "k2aBlFd8fAyi",
    "outputId": "a44c6181-f92d-4de7-b4a9-a5ebf142e8f3"
   },
   "outputs": [],
   "source": [
    "'she said \"single quotes can be nice too\"'"
   ]
  },
  {
   "cell_type": "code",
   "execution_count": null,
   "metadata": {
    "id": "GNDbIGVrfAyi",
    "outputId": "26f2b7a4-91e6-4486-ec0a-5712b4ce2ee2"
   },
   "outputs": [],
   "source": [
    "\"she said \\\"but it's still doable with double quotes\\\"\""
   ]
  },
  {
   "cell_type": "markdown",
   "metadata": {
    "id": "JU0kSwsIfAyj"
   },
   "source": [
    "hmm there's a weird character in there. what does it look like if we print it?"
   ]
  },
  {
   "cell_type": "code",
   "execution_count": null,
   "metadata": {
    "id": "udkXeAo8fAyj",
    "outputId": "9d707595-82d6-4898-944a-17246daeb2ee"
   },
   "outputs": [],
   "source": [
    "print(\"she said \\\"but it's still doable with double quotes\\\"\") # ah much better"
   ]
  },
  {
   "cell_type": "markdown",
   "metadata": {
    "id": "gIk25gQJfAyj"
   },
   "source": [
    "## Print\n",
    "\n",
    "Print is something called a function -- we will learn more about functions next time. Functions take 0 or more inputs and runs some code.\n",
    "\n",
    "### Help\n",
    "\n",
    "Use help to find out what a function does (sometimes hovering won't work). You can also google the function to find out what it does. The description of what a function does is called a \"docstring.\" We will learn more about docstrings when we learn about functions next class."
   ]
  },
  {
   "cell_type": "code",
   "execution_count": null,
   "metadata": {
    "id": "zIdmSS7LfAyk",
    "outputId": "98e009bf-cb2a-460d-d77a-b3eddfe928bc"
   },
   "outputs": [],
   "source": [
    "help(print)"
   ]
  },
  {
   "cell_type": "markdown",
   "metadata": {
    "id": "0H7d6HZTqZdB"
   },
   "source": [
    "In jupyter, you can also use `print?`."
   ]
  },
  {
   "cell_type": "code",
   "execution_count": null,
   "metadata": {
    "id": "auSNcPpEqXyY"
   },
   "outputs": [],
   "source": [
    "# docstring\n",
    "print?"
   ]
  },
  {
   "cell_type": "code",
   "execution_count": null,
   "metadata": {
    "id": "IhSHfO-xV1d0"
   },
   "outputs": [],
   "source": [
    "# with non built in functions, will show the code for the function\n",
    "print??"
   ]
  },
  {
   "cell_type": "code",
   "execution_count": null,
   "metadata": {
    "id": "O5VPQhkgfAyk",
    "outputId": "7a705dd3-1adb-4349-c440-c450e53a8461"
   },
   "outputs": [],
   "source": [
    "print(\"to include a slash \\\\\")"
   ]
  },
  {
   "cell_type": "code",
   "execution_count": null,
   "metadata": {
    "id": "ypL2Yzy4fAyk",
    "outputId": "d44dd686-40a5-42db-bc8f-65ffbd0da39a"
   },
   "outputs": [],
   "source": [
    "print(\"path\\to\\name\") # what happened? How would you fix this?"
   ]
  },
  {
   "cell_type": "markdown",
   "metadata": {
    "id": "TFvOwDFbmrXA"
   },
   "source": [
    "## Raw Strings\n",
    "\n",
    "Raw strings take characters as they are and slash is not treated as an escape."
   ]
  },
  {
   "cell_type": "code",
   "execution_count": null,
   "metadata": {
    "id": "JNQ0w7DdfAyk",
    "outputId": "088d87e4-ff78-4f54-92e8-ac9115902d32"
   },
   "outputs": [],
   "source": [
    "print(r\"path\\to\\name\") # make it a raw string, what else could we do (see above on including a slash)"
   ]
  },
  {
   "cell_type": "markdown",
   "metadata": {
    "id": "KCAezbLTmk8G"
   },
   "source": [
    "## [Optional / At Home] Multiline Strings\n",
    "\n",
    "You can define strings that have multiple lines by enclosing them in triple quotes as `'''string'''` or `\"\"\"string\"\"\"`."
   ]
  },
  {
   "cell_type": "code",
   "execution_count": null,
   "metadata": {
    "colab": {
     "base_uri": "https://localhost:8080/"
    },
    "id": "755X1c79fAyl",
    "outputId": "18982532-2ba6-4503-d69a-9d950149e190"
   },
   "outputs": [],
   "source": [
    "print(\"start\")\n",
    "# without slash adds a new line at start, with escapes the newline\n",
    "print(\"\"\"\n",
    "woah\n",
    "I \n",
    "have \\\n",
    "many lines\"\"\")\n",
    "print(\"\"\"\\\n",
    "woah\n",
    "I \n",
    "have \\\n",
    "many lines\n",
    "\"\"\")\n",
    "print(\"end\")"
   ]
  },
  {
   "cell_type": "markdown",
   "metadata": {
    "id": "TTbduOe0fAyl"
   },
   "source": [
    "## string concatenation & multiplication\n",
    "\n",
    "You can repeat strings by multiplying them by the number of repeats you want, and you can concatenate strings using the addition symbol."
   ]
  },
  {
   "cell_type": "code",
   "execution_count": null,
   "metadata": {
    "colab": {
     "base_uri": "https://localhost:8080/",
     "height": 37
    },
    "id": "H1orxoTqfAyl",
    "outputId": "6a278d3a-7fc3-4b19-8b62-d2a0c81abc4e"
   },
   "outputs": [],
   "source": [
    "\"neuro\"*3 + \"science\""
   ]
  },
  {
   "cell_type": "markdown",
   "metadata": {
    "id": "cn3xjgN-njEP"
   },
   "source": [
    "## Indexing\n",
    "You can extract individual characters from a string by *indexing* into the string. In Python, indexing starts from 0, so `word[0]` gives the first character in the string `word`"
   ]
  },
  {
   "cell_type": "code",
   "execution_count": null,
   "metadata": {
    "colab": {
     "base_uri": "https://localhost:8080/",
     "height": 54
    },
    "id": "fBo_xDwFfAym",
    "outputId": "8e398921-57b6-4083-c2a7-6d51d9e25140"
   },
   "outputs": [],
   "source": [
    "word='neuro'\n",
    "print(word)\n",
    "word[0]\n"
   ]
  },
  {
   "cell_type": "code",
   "execution_count": null,
   "metadata": {
    "id": "vWARP8kvfAym",
    "outputId": "29a4ac56-ab4a-4cae-c5ce-65ee84ec3ef9"
   },
   "outputs": [],
   "source": [
    "word[5] # because we start from 0 and there are 5 letters in word, 5 is out of range."
   ]
  },
  {
   "cell_type": "code",
   "execution_count": null,
   "metadata": {
    "id": "OmkoAMS1fAym",
    "outputId": "1625ed5b-3f70-45e7-d0f9-7ae0671067c8"
   },
   "outputs": [],
   "source": [
    "len(word) # get the length of word. There are five characters in the string word -- n, e, u, r, and o"
   ]
  },
  {
   "cell_type": "code",
   "execution_count": null,
   "metadata": {
    "id": "mbIrkKK6fAyn",
    "outputId": "92f3d70d-39ab-43b6-c974-ff521d46468b"
   },
   "outputs": [],
   "source": [
    "word[4] # what will this give us?"
   ]
  },
  {
   "cell_type": "code",
   "execution_count": null,
   "metadata": {
    "id": "ozlBzv7ffAyn",
    "outputId": "4ce9c467-991f-437e-d5f9-0e11419990d1"
   },
   "outputs": [],
   "source": [
    "word[-1] # we can get the last character by using -1"
   ]
  },
  {
   "cell_type": "code",
   "execution_count": null,
   "metadata": {
    "id": "05MQbYwMfAyn",
    "outputId": "5b9c5c41-3963-4f96-b91f-300a432812ff"
   },
   "outputs": [],
   "source": [
    "word[-2] # second from last"
   ]
  },
  {
   "cell_type": "code",
   "execution_count": null,
   "metadata": {
    "id": "QvvGcLMKfAyo",
    "outputId": "8a8207cb-0655-4eee-cb5d-b76d589b1cd8"
   },
   "outputs": [],
   "source": [
    "word[-6] # sixth from last"
   ]
  },
  {
   "cell_type": "markdown",
   "metadata": {
    "id": "ATy2d-6pfAyp"
   },
   "source": [
    "## Strings are Immutable\n",
    "\n",
    "This means that you cannot the value of an element in the string, so for example, `word[0]='N'` will not work."
   ]
  },
  {
   "cell_type": "code",
   "execution_count": null,
   "metadata": {
    "colab": {
     "base_uri": "https://localhost:8080/",
     "height": 164
    },
    "id": "hFIPfLzRfAyp",
    "outputId": "faf0d95f-3aeb-42ae-ed41-639ea0a48e84"
   },
   "outputs": [],
   "source": [
    "word[0] = 'N'"
   ]
  },
  {
   "cell_type": "markdown",
   "metadata": {
    "id": "Uj5F0zw4NYJY"
   },
   "source": [
    "## Exercise\n",
    "\n",
    "What will the following print statements print?\n",
    "\n",
    "```\n",
    "exercise_word = \"foo\\\\\"\n",
    "\n",
    "\n",
    "print(exercise_word) #1\n",
    "print(len(exercise_word)) #2\n",
    "print(exercise_word[1]) #3\n",
    "print(exercise_word[5]) #4\n",
    "print(exercise_word[-1]) #5\n",
    "print(exercise_word*3 + \"bar\") #6\n",
    "exercise_word[-1] = ''\n",
    "print(exercise_word) #7\n",
    "exercise_word = \"new exercise word\"\n",
    "print(exercise_word) #8\n",
    "```\n",
    "\n"
   ]
  },
  {
   "cell_type": "markdown",
   "metadata": {
    "id": "egtLKDFcfAyp"
   },
   "source": [
    "# Lists\n",
    "\n",
    "Lists let you define a sequence of anything -- strings, integers, floats, other lists, etc. \n",
    "\n",
    "Many of the same operations that work with strings also work with lists. The main difference is that lists are mutable, which means that you can change elements of the list after it has been created."
   ]
  },
  {
   "cell_type": "code",
   "execution_count": null,
   "metadata": {
    "id": "68qVQcv6fAyp"
   },
   "outputs": [],
   "source": [
    "teachers = ['Abhi', 'Sam', 'jasmine']"
   ]
  },
  {
   "cell_type": "code",
   "execution_count": null,
   "metadata": {
    "colab": {
     "base_uri": "https://localhost:8080/",
     "height": 37
    },
    "id": "4jhg38MvfAyp",
    "outputId": "502f995e-697d-448d-ef1f-273df594c3df"
   },
   "outputs": [],
   "source": [
    "teachers[0]"
   ]
  },
  {
   "cell_type": "code",
   "execution_count": null,
   "metadata": {
    "colab": {
     "base_uri": "https://localhost:8080/",
     "height": 37
    },
    "id": "GRe4MN6GfAyp",
    "outputId": "f7c57507-dad1-48d2-d4e3-b8bc838f5078"
   },
   "outputs": [],
   "source": [
    "teachers[-1]"
   ]
  },
  {
   "cell_type": "code",
   "execution_count": null,
   "metadata": {
    "colab": {
     "base_uri": "https://localhost:8080/"
    },
    "id": "oK8M8Z8tfWBd",
    "outputId": "6bdb6f1c-6deb-43ff-e2c1-bf6d532a700f"
   },
   "outputs": [],
   "source": [
    "teachers*3"
   ]
  },
  {
   "cell_type": "markdown",
   "metadata": {
    "id": "DndyEPEUIAaI"
   },
   "source": [
    "We will learn about slicing next time, but for now note that slicing returns a copy of a list."
   ]
  },
  {
   "cell_type": "code",
   "execution_count": null,
   "metadata": {
    "id": "wZCdFr5ffAyp"
   },
   "outputs": [],
   "source": [
    "teachers_shallow_copy = teachers[:] # shallow here means that if I make a copy of a list of lists, the nested lists will not be copies of the original.\n",
    "teachers_pointer = teachers"
   ]
  },
  {
   "cell_type": "markdown",
   "metadata": {
    "id": "VjupJMXcfAyp"
   },
   "source": [
    "why does this matter? Lists are mutable"
   ]
  },
  {
   "cell_type": "code",
   "execution_count": null,
   "metadata": {
    "id": "rd-xvw7yfAyq"
   },
   "outputs": [],
   "source": [
    "teachers +=['ishani', 'sharon', 'ben']"
   ]
  },
  {
   "cell_type": "code",
   "execution_count": null,
   "metadata": {
    "id": "VTsRym96fAyq"
   },
   "outputs": [],
   "source": [
    "teachers[2] = 'Jasmine' # capitalize my name"
   ]
  },
  {
   "cell_type": "code",
   "execution_count": null,
   "metadata": {
    "colab": {
     "base_uri": "https://localhost:8080/"
    },
    "id": "ASaffPzKfAyq",
    "outputId": "4c697199-ec9d-4b77-9440-259fa6c32577"
   },
   "outputs": [],
   "source": [
    "teachers"
   ]
  },
  {
   "cell_type": "code",
   "execution_count": null,
   "metadata": {
    "colab": {
     "base_uri": "https://localhost:8080/"
    },
    "id": "EGsAX71-fAyq",
    "outputId": "1dc94130-3709-4120-ac64-07c8f217fd23"
   },
   "outputs": [],
   "source": [
    "teachers_shallow_copy # Didn't change!"
   ]
  },
  {
   "cell_type": "code",
   "execution_count": null,
   "metadata": {
    "colab": {
     "base_uri": "https://localhost:8080/"
    },
    "id": "NvfSOpVXfAyq",
    "outputId": "55ac3aa2-96ef-4c87-87ff-262d79391617"
   },
   "outputs": [],
   "source": [
    "teachers_pointer # Did change!"
   ]
  },
  {
   "cell_type": "markdown",
   "metadata": {
    "id": "Qgs8Kl6yPCZ6"
   },
   "source": [
    "### Exercise\n",
    "\n",
    "1. Are strings mutable or immutable?\n",
    "2. Are lists mutable or immutable?\n",
    "3. What will the following codeblock print?\n",
    "\n",
    "```\n",
    "grocery_list = ['apples']\n",
    "grocery_list_a = grocery_list[:]\n",
    "grocery_list_b = grocery_list\n",
    "grocery_list+=['pears']\n",
    "print(grocery_list) # 1\n",
    "print(grocery_a) # 2\n",
    "print(grocery_list_b) # 3\n",
    "```"
   ]
  },
  {
   "cell_type": "markdown",
   "metadata": {
    "id": "F7FC8paAfAyq"
   },
   "source": [
    "## Append"
   ]
  },
  {
   "cell_type": "code",
   "execution_count": null,
   "metadata": {
    "id": "Td9nkkX0fAyq"
   },
   "outputs": [],
   "source": [
    "teachers.append('elom')"
   ]
  },
  {
   "cell_type": "code",
   "execution_count": null,
   "metadata": {
    "colab": {
     "base_uri": "https://localhost:8080/"
    },
    "id": "bJMlVtkGfAyq",
    "outputId": "3d5c880d-b472-404c-81ed-460c0ef3892c"
   },
   "outputs": [],
   "source": [
    "teachers"
   ]
  },
  {
   "cell_type": "code",
   "execution_count": null,
   "metadata": {
    "id": "9c2QAyVtfAyq",
    "outputId": "7a93c523-0ca5-4091-fa29-dd163812179b"
   },
   "outputs": [],
   "source": [
    "teachers_shallow_copy"
   ]
  },
  {
   "cell_type": "markdown",
   "metadata": {
    "id": "_umTvKsYfAyq"
   },
   "source": [
    "## Removing elements from a list"
   ]
  },
  {
   "cell_type": "code",
   "execution_count": null,
   "metadata": {
    "id": "wH2nP3GofAyr"
   },
   "outputs": [],
   "source": [
    "teachers[1] = []"
   ]
  },
  {
   "cell_type": "code",
   "execution_count": null,
   "metadata": {
    "colab": {
     "base_uri": "https://localhost:8080/"
    },
    "id": "XM-euzngfAyr",
    "outputId": "06f50731-a10c-49f4-e2dd-9f2c92d717fb"
   },
   "outputs": [],
   "source": [
    "teachers"
   ]
  },
  {
   "cell_type": "markdown",
   "metadata": {
    "id": "orNfcUUSfRUf"
   },
   "source": [
    "# Bools"
   ]
  },
  {
   "cell_type": "markdown",
   "metadata": {
    "id": "_gGKkY4HfAyt"
   },
   "source": [
    "## Comparison operations\n",
    "* less than or equal `<=` \n",
    "* less than `<`\n",
    "* greater than or equal `>=` \n",
    "* greater than `>` \n",
    "* not equal `!=`\n",
    "* is equal to `==`\n",
    "\n",
    "\n",
    "\n"
   ]
  },
  {
   "cell_type": "code",
   "execution_count": null,
   "metadata": {
    "colab": {
     "base_uri": "https://localhost:8080/"
    },
    "id": "ofQOeO1wfAyt",
    "outputId": "c2f50870-5b0c-41ab-b3a9-4f1f43e3f051"
   },
   "outputs": [],
   "source": [
    "print(8<10)\n",
    "print(10 < 10)\n",
    "print(10 <= 10)"
   ]
  },
  {
   "cell_type": "code",
   "execution_count": null,
   "metadata": {
    "id": "pDN3woR_fAyt",
    "outputId": "384d190b-c4a3-446c-b69d-c6d2c7282df2"
   },
   "outputs": [],
   "source": [
    "True and True"
   ]
  },
  {
   "cell_type": "code",
   "execution_count": null,
   "metadata": {
    "id": "v9766Oc_fAyt",
    "outputId": "2152deae-6399-43c7-86d4-923d6c31e679"
   },
   "outputs": [],
   "source": [
    "True and False"
   ]
  },
  {
   "cell_type": "code",
   "execution_count": null,
   "metadata": {
    "id": "ypeNHyZ9fAyt",
    "outputId": "4e397fbb-e98a-4692-d52f-c6782827de76"
   },
   "outputs": [],
   "source": [
    "True or False"
   ]
  },
  {
   "cell_type": "code",
   "execution_count": null,
   "metadata": {
    "id": "_Usdl5rjfAyu",
    "outputId": "b16568ef-55c4-42b9-a309-97b5204368a9"
   },
   "outputs": [],
   "source": [
    "False or False"
   ]
  },
  {
   "cell_type": "code",
   "execution_count": null,
   "metadata": {
    "id": "sfDldMQrfAyu",
    "outputId": "ea72c8a9-fff1-4021-8012-9a3cb11f5f9d"
   },
   "outputs": [],
   "source": [
    "True or True"
   ]
  },
  {
   "cell_type": "code",
   "execution_count": null,
   "metadata": {
    "id": "l84mWfBZfAyu",
    "outputId": "cffb4462-8bee-4d9c-d123-9570a122dbcb"
   },
   "outputs": [],
   "source": [
    "not True"
   ]
  },
  {
   "cell_type": "code",
   "execution_count": null,
   "metadata": {
    "id": "gDkq_BixfAyu"
   },
   "outputs": [],
   "source": [
    "neuroscience ='fun'\n",
    "python = 'fun'"
   ]
  },
  {
   "cell_type": "code",
   "execution_count": null,
   "metadata": {
    "colab": {
     "base_uri": "https://localhost:8080/"
    },
    "id": "B-reddoXfAyu",
    "outputId": "1a61239e-92b5-4d71-9712-49f6d5287200"
   },
   "outputs": [],
   "source": [
    "if neuroscience == 'fun' or python == 'fun':\n",
    "    print('yay')"
   ]
  },
  {
   "cell_type": "code",
   "execution_count": null,
   "metadata": {
    "colab": {
     "base_uri": "https://localhost:8080/"
    },
    "id": "D2140vdifAyu",
    "outputId": "56d6b48c-4700-4241-c4df-32d1bd897dd9"
   },
   "outputs": [],
   "source": [
    "if neuroscience == 'fun' and python == 'fun':\n",
    "    print('welcome to the class')"
   ]
  },
  {
   "cell_type": "markdown",
   "metadata": {
    "id": "8LXydxHJfAyu"
   },
   "source": [
    "most things evaluate to true except for the empty string, empty list, and 0, as well as empty tuple and empty dictionaries (more about these data types in a moment)\n",
    "\n",
    "What is each of the datatypes inside the parentheses?"
   ]
  },
  {
   "cell_type": "code",
   "execution_count": null,
   "metadata": {
    "id": "qZDG17mhfAyu",
    "outputId": "ea2a0f76-413b-4c6b-e9e8-ba3ef47e9a6e"
   },
   "outputs": [],
   "source": [
    "bool(1)"
   ]
  },
  {
   "cell_type": "code",
   "execution_count": null,
   "metadata": {
    "id": "yNM3jhoxfAyu",
    "outputId": "f80c4ad2-af02-4318-e0a7-89b80835b8d4"
   },
   "outputs": [],
   "source": [
    "bool('')"
   ]
  },
  {
   "cell_type": "code",
   "execution_count": null,
   "metadata": {
    "id": "kxM4GqKHfAyu",
    "outputId": "bbba7940-5aeb-4ed9-8ed6-a96f3c01602d"
   },
   "outputs": [],
   "source": [
    "bool(0)"
   ]
  },
  {
   "cell_type": "code",
   "execution_count": null,
   "metadata": {
    "id": "660fH2ipfAyu",
    "outputId": "1363472f-4ca3-4a0e-b6b7-4c2b69e245b9"
   },
   "outputs": [],
   "source": [
    "bool(0.0)"
   ]
  },
  {
   "cell_type": "code",
   "execution_count": null,
   "metadata": {
    "id": "EdjZf1UtfAyu",
    "outputId": "03069e47-9e8c-4016-9385-f4985406be7b"
   },
   "outputs": [],
   "source": [
    "bool([])"
   ]
  },
  {
   "cell_type": "code",
   "execution_count": null,
   "metadata": {
    "id": "swJYKba9fAyu",
    "outputId": "2f576494-f8ac-4fbb-be86-cc14cfa906b7"
   },
   "outputs": [],
   "source": [
    "bool(()) # tuple"
   ]
  },
  {
   "cell_type": "code",
   "execution_count": null,
   "metadata": {
    "id": "s1FDQIWmfAyu",
    "outputId": "c007924c-d96f-455e-91df-cb713c09b624"
   },
   "outputs": [],
   "source": [
    "bool({}) # dictionary"
   ]
  },
  {
   "cell_type": "code",
   "execution_count": null,
   "metadata": {
    "colab": {
     "base_uri": "https://localhost:8080/"
    },
    "id": "gKPg7HHxGbHs",
    "outputId": "4f28c27e-4414-4764-ea8f-7253e1635be3"
   },
   "outputs": [],
   "source": [
    "\n",
    "bool(None) #NoneType -- this is a special type often used a placeholder. We will see more about it next time."
   ]
  },
  {
   "cell_type": "code",
   "execution_count": null,
   "metadata": {
    "colab": {
     "base_uri": "https://localhost:8080/"
    },
    "id": "o3M7gpYlGcoE",
    "outputId": "fa1d7592-f44d-4911-b922-1a773373d6ab"
   },
   "outputs": [],
   "source": [
    "type(None)"
   ]
  },
  {
   "cell_type": "markdown",
   "metadata": {
    "id": "PXQt3B2pfj9g"
   },
   "source": [
    "## If / else"
   ]
  },
  {
   "cell_type": "code",
   "execution_count": null,
   "metadata": {
    "id": "Biw5fIkcfAyv"
   },
   "outputs": [],
   "source": [
    "num = 9"
   ]
  },
  {
   "cell_type": "code",
   "execution_count": null,
   "metadata": {
    "colab": {
     "base_uri": "https://localhost:8080/"
    },
    "id": "gHgvwRh_kDFr",
    "outputId": "38fe7bde-d470-4240-81e5-19f0fe83b7bf"
   },
   "outputs": [],
   "source": [
    "if num%2 ==1:\n",
    "    print(\"odd\")"
   ]
  },
  {
   "cell_type": "code",
   "execution_count": null,
   "metadata": {
    "colab": {
     "base_uri": "https://localhost:8080/"
    },
    "id": "pmrUnin6fAyv",
    "outputId": "38881802-8c32-4e17-dd22-4742fabbc38d"
   },
   "outputs": [],
   "source": [
    "if num%2 ==1:\n",
    "    print(\"odd\")\n",
    "else:\n",
    "    print(\"even\")"
   ]
  },
  {
   "cell_type": "code",
   "execution_count": null,
   "metadata": {
    "colab": {
     "base_uri": "https://localhost:8080/"
    },
    "id": "Bg7f_FFxkFZ6",
    "outputId": "88c14cc4-6429-49c9-990a-d327d99c1dd2"
   },
   "outputs": [],
   "source": [
    "num = 24\n",
    "if num %2 ==1:\n",
    "  print(\"odd\")\n",
    "\n",
    "elif num %3 == 0: # else if\n",
    "  print(\"divisible by 6\")\n",
    "else:\n",
    "  print(\"even and not divisible by 6\")"
   ]
  },
  {
   "cell_type": "markdown",
   "metadata": {
    "id": "X_NCY7KJUHpI"
   },
   "source": [
    "## Exercise\n",
    "Write something so that, given a variable called `my_number`:\n",
    "-   if it is not an integer, it prints \"please give me an integer\"\n",
    "- if it is less than 0 it prints \"negative\"\n",
    "- if it is between 0 and 10 it prints \"digit\"\n",
    "- if it is 10 or above prints \"we can't count this on our hands\"\n",
    "\n",
    "\n",
    "Test it out by setting `my_number` to a few different values and making sure it does what you want / expect."
   ]
  },
  {
   "cell_type": "markdown",
   "metadata": {
    "id": "ORhuVs5CfAyr"
   },
   "source": [
    "## List of Lists"
   ]
  },
  {
   "cell_type": "code",
   "execution_count": null,
   "metadata": {
    "id": "_LcjxB-5fAyr"
   },
   "outputs": [],
   "source": [
    "n=[1,2,3]\n",
    "s = ['a', 'b', 'c']\n",
    "list_of_list = [n,s]\n",
    "shallow_copy_list_of_list = list_of_list[:]"
   ]
  },
  {
   "cell_type": "code",
   "execution_count": null,
   "metadata": {
    "colab": {
     "base_uri": "https://localhost:8080/"
    },
    "id": "8V3v3_ULfAyr",
    "outputId": "670ecce7-8b88-4191-b4cd-f0e6ea865b8a"
   },
   "outputs": [],
   "source": [
    "list_of_list"
   ]
  },
  {
   "cell_type": "code",
   "execution_count": null,
   "metadata": {
    "colab": {
     "base_uri": "https://localhost:8080/"
    },
    "id": "FZaQon09fAyr",
    "outputId": "cb2b2dab-2cba-4535-c205-c5d1ee3ef646"
   },
   "outputs": [],
   "source": [
    "s.append(n)\n",
    "print(s)"
   ]
  },
  {
   "cell_type": "code",
   "execution_count": null,
   "metadata": {
    "colab": {
     "base_uri": "https://localhost:8080/"
    },
    "id": "BGTrXj45fAyr",
    "outputId": "9f37fa52-1571-4109-8113-b6d9c5ec2e2f"
   },
   "outputs": [],
   "source": [
    "s.extend(n)\n",
    "print(s)"
   ]
  },
  {
   "cell_type": "code",
   "execution_count": null,
   "metadata": {
    "colab": {
     "base_uri": "https://localhost:8080/"
    },
    "id": "CY9y1DWHfAyr",
    "outputId": "45b631bb-47ea-46f5-84c1-5f507cd256a1"
   },
   "outputs": [],
   "source": [
    "# will list_of_list have changed?\n",
    "\n",
    "list_of_list"
   ]
  },
  {
   "cell_type": "code",
   "execution_count": null,
   "metadata": {
    "colab": {
     "base_uri": "https://localhost:8080/"
    },
    "id": "2GsVbngKltwL",
    "outputId": "56c3b460-eb75-44bc-cafd-6461e532d3ba"
   },
   "outputs": [],
   "source": [
    "# What about the shallow copy of list_of_list\n",
    "shallow_copy_list_of_list"
   ]
  },
  {
   "cell_type": "markdown",
   "metadata": {
    "id": "lCD1rqbZQC5-"
   },
   "source": [
    "## Exercise:\n",
    "\n",
    "What will the following code block print?\n",
    "For each print statement, comment what you think it will be and then test before moving on to the next print statement.\n",
    "\n",
    "```\n",
    "test_list = []\n",
    "test_list +=['do']\n",
    "test_list.append('re')\n",
    "test_list.append(['fa', 'so'])\n",
    "test_list.extend(['la', 'ti'])\n",
    "print(len(list)) #1\n",
    "print(test_list) #2\n",
    "list_copy = test_list[:]\n",
    "list_pointer = test_list\n",
    "print(test_list[2]) #3\n",
    "test_list[2][0] = []\n",
    "print(test_list) #4\n",
    "print(list_copy) #5\n",
    "print(list_pointer) #6\n",
    "\n",
    "test_list[3] = []\n",
    "print(test_list) #7\n",
    "print(list_copy) #8\n",
    "print(list_pointer) #9\n",
    "```\n"
   ]
  },
  {
   "cell_type": "markdown",
   "metadata": {
    "id": "N0ZtMKm7fAyv"
   },
   "source": [
    "# Other datatypes: Dicts, Tuples"
   ]
  },
  {
   "cell_type": "markdown",
   "metadata": {
    "id": "2-Yz0-fSktMw"
   },
   "source": [
    "## Dictionaries\n",
    "\n",
    "Dictionaries are a mutable datatype consistenting of key and value pairs. They are good for quickly accessing the values of arbitrary keys. Keys and values can both be any data type.\n",
    "\n",
    "Dictionaries look like this:\n",
    "```\n",
    "{\n",
    "  key0: value0,\n",
    "  key1: value1,\n",
    "  key2: value2\n",
    "}\n",
    "```"
   ]
  },
  {
   "cell_type": "code",
   "execution_count": null,
   "metadata": {
    "id": "JjnFGOxffAyv"
   },
   "outputs": [],
   "source": [
    "# Dictionaries:\n",
    "monkey_A = {\n",
    "'spiketimes': [0,20,34,56],\n",
    "'name': 'Einstein',\n",
    "}"
   ]
  },
  {
   "cell_type": "code",
   "execution_count": null,
   "metadata": {
    "colab": {
     "base_uri": "https://localhost:8080/"
    },
    "id": "F8vWMzo4fAyv",
    "outputId": "1fdc1559-82d2-4576-dc7f-8a925b2d8e7f"
   },
   "outputs": [],
   "source": [
    "monkey_A"
   ]
  },
  {
   "cell_type": "code",
   "execution_count": null,
   "metadata": {
    "colab": {
     "base_uri": "https://localhost:8080/"
    },
    "id": "jG_SIu6XfAyv",
    "outputId": "2053bde8-5ec8-4e78-8ad0-936404890ffb"
   },
   "outputs": [],
   "source": [
    "monkey_A.keys() # lists the keys in the dictionary"
   ]
  },
  {
   "cell_type": "code",
   "execution_count": null,
   "metadata": {
    "colab": {
     "base_uri": "https://localhost:8080/"
    },
    "id": "C7ms44AbfAyv",
    "outputId": "42fb6294-afc3-4b8e-b0ad-2b45569557a7"
   },
   "outputs": [],
   "source": [
    "monkey_A['spiketimes'] # gets the value at the key inside the brackets"
   ]
  },
  {
   "cell_type": "markdown",
   "metadata": {
    "id": "2e80huhKc1PB"
   },
   "source": [
    "What will `monkey_A['name']` output?\n",
    "\n",
    "Guess, and then type and run below."
   ]
  },
  {
   "cell_type": "code",
   "execution_count": null,
   "metadata": {
    "id": "koSoYxyMfAyv"
   },
   "outputs": [],
   "source": []
  },
  {
   "cell_type": "code",
   "execution_count": null,
   "metadata": {
    "id": "Q7psX3R2fAyv"
   },
   "outputs": [],
   "source": [
    "monkey_A['lab'] = 'Churchland' # adds key, value pair to dictionary ('lab' is the key, 'Churchland' is the value)"
   ]
  },
  {
   "cell_type": "code",
   "execution_count": null,
   "metadata": {
    "colab": {
     "base_uri": "https://localhost:8080/"
    },
    "id": "Ek933PWNfAyv",
    "outputId": "47cbaf57-4f77-43ed-8150-e45f38701e42"
   },
   "outputs": [],
   "source": [
    "'lab' in monkey_A # test if a key is in a dictionary"
   ]
  },
  {
   "cell_type": "code",
   "execution_count": null,
   "metadata": {
    "colab": {
     "base_uri": "https://localhost:8080/"
    },
    "id": "PHP1xKirdSMF",
    "outputId": "4adeae44-6435-4dc0-de91-9a9d94104f2b"
   },
   "outputs": [],
   "source": [
    "print(monkey_A)"
   ]
  },
  {
   "cell_type": "code",
   "execution_count": null,
   "metadata": {
    "id": "ZmVwk6bxfAyv",
    "outputId": "4ab525ad-bee3-46a9-c5d7-0c5dd50bb666"
   },
   "outputs": [],
   "source": [
    "del monkey_A['lab'] # delete a key value pair\n",
    "'lab' in monkey_A"
   ]
  },
  {
   "cell_type": "markdown",
   "metadata": {
    "id": "zrEbKxVLlXUL"
   },
   "source": [
    "you can create dictionaries from lists and by setting keys equal to values using the `dict` constructor"
   ]
  },
  {
   "cell_type": "code",
   "execution_count": null,
   "metadata": {
    "id": "E1z-_Gu3fAyv",
    "outputId": "569bd459-9e5a-4532-ad7d-1b809cbf963d"
   },
   "outputs": [],
   "source": [
    "dict([(1,'Jasmine'), (2, 'Jasmine'), (3, 'Jasmine'), (4, 'Sam'), (5,'Sam')])"
   ]
  },
  {
   "cell_type": "code",
   "execution_count": null,
   "metadata": {
    "id": "ylPBVB5YfAyv",
    "outputId": "7c2aa2ce-f085-4acd-f7a2-2549e355effa"
   },
   "outputs": [],
   "source": [
    "dict(instructor_1 = 'Jasmine', instructor_2 = 'Sam', instructor_3 = 'Abhi')"
   ]
  },
  {
   "cell_type": "markdown",
   "metadata": {
    "id": "DVb0Vp4-a76E"
   },
   "source": [
    "\n",
    "\n",
    "\n",
    "\n",
    "### Exercise\n",
    "\n",
    "1. Create a dictionary (using any of the above methods) of what you would order for lunch if you could. Have the keys be the menu items, and the values be their prices. Store the dictionary in a variable called `lunch_menu`\n",
    "2. Print out the keys of the dictionary.\n",
    "3. Get the price for a menu item out of the dictionary.\n",
    "4. Check if a certain menu item is in the dictionary.\n",
    "5. Delete that menu item from the dictionary.\n",
    "6. Check again if that menu item is in the dictionary."
   ]
  },
  {
   "cell_type": "markdown",
   "metadata": {
    "id": "MGFATd1CfAyw"
   },
   "source": [
    "## Tuples \n",
    "Tuples are static, or immutable. Like strings, you cannot modify them once you have created them. Slicing works with tuples like it works with lists. Tuples are useful when you want to make sure something cannot accidentally get modified, and we will use them when we learn about functions next class."
   ]
  },
  {
   "cell_type": "code",
   "execution_count": null,
   "metadata": {
    "id": "vVWlOcr-fAyw"
   },
   "outputs": [],
   "source": [
    "my_tup = 'test',0,1"
   ]
  },
  {
   "cell_type": "code",
   "execution_count": null,
   "metadata": {
    "colab": {
     "base_uri": "https://localhost:8080/"
    },
    "id": "ozc7W3KWfAyw",
    "outputId": "680146de-7e59-4ec4-bc01-85ee433053fd"
   },
   "outputs": [],
   "source": [
    "my_tup"
   ]
  },
  {
   "cell_type": "code",
   "execution_count": null,
   "metadata": {
    "colab": {
     "base_uri": "https://localhost:8080/",
     "height": 37
    },
    "id": "tKZ9YvO4fAyw",
    "outputId": "d12336d9-27fe-43ae-dc77-1918f1d8e539"
   },
   "outputs": [],
   "source": [
    "my_tup[0]"
   ]
  },
  {
   "cell_type": "markdown",
   "metadata": {
    "id": "zAmTVwRlgR84"
   },
   "source": [
    "What will `my_tup[1]` output? Guess before typing and checking below."
   ]
  },
  {
   "cell_type": "code",
   "execution_count": null,
   "metadata": {
    "colab": {
     "base_uri": "https://localhost:8080/"
    },
    "id": "NjwcFuVefAyw",
    "outputId": "f5cfe129-ebb5-4b60-aeda-55f9fce56501"
   },
   "outputs": [],
   "source": []
  },
  {
   "cell_type": "code",
   "execution_count": null,
   "metadata": {
    "colab": {
     "base_uri": "https://localhost:8080/",
     "height": 164
    },
    "id": "EfjCO8FDfAyw",
    "outputId": "76067430-fd2c-4f32-8f50-ed4c9bf9a218"
   },
   "outputs": [],
   "source": [
    "my_tup[0] = 'it worked' # will this line work? Guess before trying."
   ]
  },
  {
   "cell_type": "code",
   "execution_count": null,
   "metadata": {
    "colab": {
     "base_uri": "https://localhost:8080/",
     "height": 164
    },
    "id": "yWzAHCrUfAyw",
    "outputId": "def98c51-fff5-4f88-ff03-aad974422603"
   },
   "outputs": [],
   "source": [
    "my_tup + 0 # what about this?"
   ]
  },
  {
   "cell_type": "code",
   "execution_count": null,
   "metadata": {
    "id": "jP-IR9F7fAyw",
    "outputId": "c0c46c2c-4729-4883-f3dd-2ffa80e46fd0"
   },
   "outputs": [],
   "source": [
    "my_tup + (0,) # creates a new tuple, but my_tup is unchanged."
   ]
  },
  {
   "cell_type": "code",
   "execution_count": null,
   "metadata": {
    "id": "bSRaJdEGfAyw",
    "outputId": "03daee48-62ab-4f82-b383-aba6c1ef5ab1"
   },
   "outputs": [],
   "source": [
    "my_tup"
   ]
  },
  {
   "cell_type": "code",
   "execution_count": null,
   "metadata": {
    "id": "AF9plXdOfAyw"
   },
   "outputs": [],
   "source": [
    "new_tup = my_tup + (0,)"
   ]
  },
  {
   "cell_type": "code",
   "execution_count": null,
   "metadata": {
    "id": "75NyJNOlfAyw",
    "outputId": "adbf2fa8-bf28-4e77-8a6f-a1074c0aee22"
   },
   "outputs": [],
   "source": [
    "new_tup # what will new_tup be?"
   ]
  },
  {
   "cell_type": "code",
   "execution_count": null,
   "metadata": {
    "id": "o6fMFfexfAyw",
    "outputId": "fc6c6c58-ce43-49d1-9b6c-f3230f24e942"
   },
   "outputs": [],
   "source": [
    "del my_tup[0]"
   ]
  },
  {
   "cell_type": "markdown",
   "metadata": {
    "id": "rlz3_3dwtgUR"
   },
   "source": [
    "### Tuple Unpacking and Packing\n",
    "\n",
    "Tuple packing and unpacking refers to separating a tuple into variables or joining variables into a tuple. When unpacking `_` is used as a placeholder for a tuple value you do not care about using in further code."
   ]
  },
  {
   "cell_type": "code",
   "execution_count": null,
   "metadata": {
    "id": "8kvGBPKLfAyw"
   },
   "outputs": [],
   "source": [
    "a,b,_ = my_tup # tuple unpacking"
   ]
  },
  {
   "cell_type": "code",
   "execution_count": null,
   "metadata": {
    "colab": {
     "base_uri": "https://localhost:8080/"
    },
    "id": "R1L9he9sfAyx",
    "outputId": "df5d4144-7069-47f5-f411-92cbd3c2c4b6"
   },
   "outputs": [],
   "source": [
    "print(a,b)"
   ]
  },
  {
   "cell_type": "code",
   "execution_count": null,
   "metadata": {
    "id": "o5dquy_RfAyx"
   },
   "outputs": [],
   "source": [
    "new_tup = 1,2,3 # tuple packing"
   ]
  },
  {
   "cell_type": "code",
   "execution_count": null,
   "metadata": {
    "id": "sORUVCEtfAyx",
    "outputId": "15e49d20-4d32-4902-a0ca-316220807520"
   },
   "outputs": [],
   "source": [
    "new_tup"
   ]
  },
  {
   "cell_type": "markdown",
   "metadata": {
    "id": "e0QEHD5Jg3l5"
   },
   "source": [
    "### Exercise:\n",
    "\n",
    "1. Are tuples mutable or immutable?\n",
    "2. Create a tuple of your and your coding partner's names, called `our_names`.\n",
    "3. Change your name to the name of one of the other people at your table (Can you?)\n",
    "4. Create a new tuple of `whole_table_names` with `our_names` and your other tablemate's names.\n",
    "5. Unpack the tuple, using a placeholder for your own name\n",
    "6. Print everyone else's names using the unpacked values.\n"
   ]
  },
  {
   "cell_type": "markdown",
   "metadata": {
    "id": "YYKtXB35f5Ip"
   },
   "source": [
    "## For loops and iterating through dictionaries\n",
    "\n",
    "For loops let us repeat code when iterating through a dictionary, list, or a tuple."
   ]
  },
  {
   "cell_type": "code",
   "execution_count": null,
   "metadata": {
    "colab": {
     "base_uri": "https://localhost:8080/"
    },
    "id": "VwOUlQyrfAyv",
    "outputId": "d50316e4-30ba-4a0f-8f36-ae1b28aee679"
   },
   "outputs": [],
   "source": [
    "print(monkey_A.keys())\n",
    "for k in monkey_A.keys():\n",
    "    print(k,monkey_A[k])"
   ]
  },
  {
   "cell_type": "code",
   "execution_count": null,
   "metadata": {
    "colab": {
     "base_uri": "https://localhost:8080/"
    },
    "id": "UdJYCUWMfAyv",
    "outputId": "cbe29154-c9db-401d-8dda-9f389cb2a5ae"
   },
   "outputs": [],
   "source": [
    "print(monkey_A.items())# list of items\n",
    "\n",
    "\n",
    "\n",
    "for key, value in monkey_A.items(): # combines tuple unpacking with items\n",
    "    print(key, value)\n",
    "\n",
    "# the above is equivalent to:\n",
    "for item in monkey_A.items():\n",
    "  key, value = item\n",
    "  print(key, value)"
   ]
  },
  {
   "cell_type": "code",
   "execution_count": null,
   "metadata": {
    "colab": {
     "base_uri": "https://localhost:8080/"
    },
    "id": "ncPwp0JgfAyv",
    "outputId": "7f5c6124-e856-40aa-c556-0060486d1a11"
   },
   "outputs": [],
   "source": [
    "for i in range(6):\n",
    "    print(i)"
   ]
  },
  {
   "cell_type": "markdown",
   "metadata": {
    "id": "QfcnBp65k9JK"
   },
   "source": [
    "Look at the help information for range -- what does it do? Can you create for loop through a range like above that starts at 1 and stops at 7 (inclusive)?\n",
    "\n",
    "Try below."
   ]
  },
  {
   "cell_type": "code",
   "execution_count": null,
   "metadata": {
    "id": "TVkxabxck8tf"
   },
   "outputs": [],
   "source": []
  },
  {
   "cell_type": "markdown",
   "metadata": {
    "id": "BoXE9eGznq_V"
   },
   "source": [
    "What about one that starts at 0 and ends at 6 (inclusive) where only every other number is iterated through? (Hint: use the step argument to range)"
   ]
  },
  {
   "cell_type": "code",
   "execution_count": null,
   "metadata": {
    "id": "ObQZxs8efAyw"
   },
   "outputs": [],
   "source": [
    "print(teachers)\n",
    "for i in range(len(teachers)):\n",
    "  print(i, teachers[i])\n",
    "  teachers[i] += 'n'"
   ]
  },
  {
   "cell_type": "code",
   "execution_count": null,
   "metadata": {
    "id": "-QQBgj13fAyw",
    "outputId": "35dbb22e-65ca-42b3-e618-bf0aac4c4957"
   },
   "outputs": [],
   "source": [
    "teachers # what do you expect this to output?"
   ]
  },
  {
   "cell_type": "code",
   "execution_count": null,
   "metadata": {
    "id": "MzvAGtzxfAyw",
    "outputId": "c38a4f3d-48f4-45f3-86ed-f81ec816dca1"
   },
   "outputs": [],
   "source": [
    "for val in teachers: # directly iterate through the items in a list.\n",
    "    print(val)"
   ]
  },
  {
   "cell_type": "markdown",
   "metadata": {
    "id": "utPkDkfSl2o3"
   },
   "source": [
    "With something called **list comprehension**, you can use a for loop in line to create dictionaries and lists like this:"
   ]
  },
  {
   "cell_type": "code",
   "execution_count": null,
   "metadata": {
    "colab": {
     "base_uri": "https://localhost:8080/"
    },
    "id": "bydyJ7sFl9YJ",
    "outputId": "ece25f76-92c0-4c80-f0ae-3453a487cc12"
   },
   "outputs": [],
   "source": [
    "{x:x**2 for x in range(6)}"
   ]
  },
  {
   "cell_type": "code",
   "execution_count": null,
   "metadata": {
    "colab": {
     "base_uri": "https://localhost:8080/"
    },
    "id": "yZhjx5ycmBgP",
    "outputId": "21a9ef89-5316-4e56-8092-ac52bb0107d6"
   },
   "outputs": [],
   "source": [
    "[x**2  for x in range(6) if x%2==0] # only uses x's where the condition is true"
   ]
  },
  {
   "cell_type": "markdown",
   "metadata": {
    "id": "61njf6Uvlh3Y"
   },
   "source": [
    "### Exercise:\n",
    "\n",
    "1. Create a dictionary using list comprehension where the key is $x^3$ and the value is $x^2$ for x's between 1 and 4 inclusive. Assign the dictionary to variable `cube_square`.\n",
    "2. Print the key and value for every key, value pair in `cube_square`\n",
    "3. Create a list using list comprehension where any values between 2 and 10 inclusive that are divisible by 3 are added to the list. Assign the list to a variable called `divisible_3s`.\n",
    "4. Using a for loop, print the index and the value at that index for every element in `divisible_3s`.\n",
    "\n"
   ]
  }
 ],
 "metadata": {
  "colab": {
   "collapsed_sections": [],
   "provenance": [],
   "toc_visible": true
  },
  "kernelspec": {
   "display_name": "Python 3 (ipykernel)",
   "language": "python",
   "name": "python3"
  },
  "language_info": {
   "codemirror_mode": {
    "name": "ipython",
    "version": 3
   },
   "file_extension": ".py",
   "mimetype": "text/x-python",
   "name": "python",
   "nbconvert_exporter": "python",
   "pygments_lexer": "ipython3",
   "version": "3.10.4"
  },
  "vscode": {
   "interpreter": {
    "hash": "0800c0f83fa147eddd4b87d7df88a61f04b699d9837e9e8222e971ef1ed63fb6"
   }
  }
 },
 "nbformat": 4,
 "nbformat_minor": 4
}
